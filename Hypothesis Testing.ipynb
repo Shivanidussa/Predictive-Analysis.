{
 "cells": [
  {
   "cell_type": "markdown",
   "id": "785ee99b",
   "metadata": {},
   "source": [
    "# Inferential Statistics\n",
    " ## Hypothesis Testing"
   ]
  },
  {
   "cell_type": "markdown",
   "id": "4bd0f193",
   "metadata": {},
   "source": [
    "1.Cumulative Density Function (CDF): stats.norm.cdf - Returns the probability for an observation equal to or lesser than a specific value from the distribution. It can also be thought of as - given a z-score, what is the cumulative probability distribution upto that z-score\n",
    "\n",
    "2.Percent Point Function (PPF): stats.norm.ppf - Returns the observation value for the provided probability that is less than or equal to the provided probability from the distribution. It can also be thought of as - given a cumulative probability, what is the z-score\n",
    "\n",
    "3.CDF is the reverse of PPF"
   ]
  },
  {
   "cell_type": "code",
   "execution_count": 1,
   "id": "9ead118c",
   "metadata": {},
   "outputs": [],
   "source": [
    "import pandas as pd\n",
    "import numpy as np\n",
    "import matplotlib.pyplot as plt\n",
    "import scipy.stats as stats\n",
    "import math"
   ]
  },
  {
   "cell_type": "raw",
   "id": "de2c6122",
   "metadata": {},
   "source": [
    "# Finding the 95.45% confidence interval \n",
    "total ci of probability is 100\n",
    "so 100 - 95.45 = 4.55\n",
    "alpha = 4.55 / 100 = 0.0455\n",
    "alpha/2 = 0.0455/2 = 0.02275"
   ]
  },
  {
   "cell_type": "code",
   "execution_count": 2,
   "id": "96a2f651",
   "metadata": {},
   "outputs": [
    {
     "name": "stdout",
     "output_type": "stream",
     "text": [
      "confidence Interval of 95.45% is:\n"
     ]
    },
    {
     "data": {
      "text/plain": [
       "(-2.0000024438996036, 2.0000024438996027)"
      ]
     },
     "execution_count": 2,
     "metadata": {},
     "output_type": "execute_result"
    }
   ],
   "source": [
    "print(\"confidence Interval of 95.45% is:\")\n",
    "stats.norm.ppf(0.02275),stats.norm.ppf(1 - 0.02275)   #we gave cummulative probability its returns us z score values "
   ]
  },
  {
   "cell_type": "code",
   "execution_count": 3,
   "id": "3915f0c7",
   "metadata": {},
   "outputs": [
    {
     "name": "stdout",
     "output_type": "stream",
     "text": [
      "confidence interval of 95% is:\n"
     ]
    },
    {
     "data": {
      "text/plain": [
       "(-1.9599639845400545, 1.959963984540054)"
      ]
     },
     "execution_count": 3,
     "metadata": {},
     "output_type": "execute_result"
    }
   ],
   "source": [
    "print(\"confidence interval of 95% is:\")\n",
    "stats.norm.ppf(0.025),stats.norm.ppf(1 - 0.025)                       #100-95,5/100 = 0.05 = alpha, alpha/2 = 0.05/2 = 0.025"
   ]
  },
  {
   "cell_type": "code",
   "execution_count": 9,
   "id": "86b3d2fc",
   "metadata": {},
   "outputs": [
    {
     "name": "stdout",
     "output_type": "stream",
     "text": [
      "confidence interval of 99.69 is:\n"
     ]
    },
    {
     "data": {
      "text/plain": [
       "(-2.9576439172550852, 2.957643917255075)"
      ]
     },
     "execution_count": 9,
     "metadata": {},
     "output_type": "execute_result"
    }
   ],
   "source": [
    "print(\"confidence interval of 99.69 is:\")\n",
    "stats.norm.ppf(0.00155),stats.norm.ppf(1-0.00155)            #100 - 99.69 = 0.31,aplha = 0.31/100 = 0.0031, alpha/2 = 0.00155"
   ]
  },
  {
   "cell_type": "code",
   "execution_count": 10,
   "id": "e8d6442b",
   "metadata": {},
   "outputs": [
    {
     "name": "stdout",
     "output_type": "stream",
     "text": [
      "confidence interval of 99.7305 is:\n"
     ]
    },
    {
     "data": {
      "text/plain": [
       "(-3.0005415302965868, 3.0005415302965988)"
      ]
     },
     "execution_count": 10,
     "metadata": {},
     "output_type": "execute_result"
    }
   ],
   "source": [
    "print(\"confidence interval of 99.7305 is:\")\n",
    "stats.norm.ppf(0.0013475),stats.norm.ppf(1-0.0013475)# 100 - 99.7305 = 0.2695,alpha = 0.2695/100 = 0.002695, alpha/2 = 0.0013475"
   ]
  },
  {
   "cell_type": "code",
   "execution_count": 24,
   "id": "69869939",
   "metadata": {},
   "outputs": [
    {
     "name": "stdout",
     "output_type": "stream",
     "text": [
      "[0.02275013]\n",
      "[0.02558806]\n",
      "[0.97441194]\n",
      "[0.99841113]\n",
      "[0.0013499]\n"
     ]
    }
   ],
   "source": [
    "print(stats.norm.cdf([-2.0]))\n",
    "print(stats.norm.cdf([-1.95])) # if we -ve values it will give left tailed upto cummulative probability \n",
    "print(stats.norm.cdf([1.95]))   # if we give +ve values it will give upto right tailed cummulative probability\n",
    "print(stats.norm.cdf([2.95]))\n",
    "print(stats.norm.cdf([-3.000]))"
   ]
  },
  {
   "cell_type": "code",
   "execution_count": 23,
   "id": "1e95290f",
   "metadata": {},
   "outputs": [
    {
     "data": {
      "text/plain": [
       "2.9478425521848974"
      ]
     },
     "execution_count": 23,
     "metadata": {},
     "output_type": "execute_result"
    }
   ],
   "source": [
    "stats.norm.ppf(0.9984)"
   ]
  },
  {
   "cell_type": "markdown",
   "id": "a42cf574",
   "metadata": {},
   "source": [
    "## Hypothesis Testing using Z - test and P - value"
   ]
  },
  {
   "cell_type": "raw",
   "id": "3c4b7cef",
   "metadata": {},
   "source": [
    "Z - Test \n",
    "formula for finding z - test\n",
    "z = xbar-mean / sigma/sqrt(n)\n",
    "xbar = sample mean\n",
    "u = mean of population\n",
    "sigma = standard deviations of population\n",
    "n = sample size"
   ]
  },
  {
   "cell_type": "markdown",
   "id": "23031fe2",
   "metadata": {},
   "source": [
    "## P Value\n",
    "- Sampling(or statistics) can never be perfect. We will always come across some weird samples which might give us incorrect impression e.g. one random sample with mean weight much lesser than actual weight does not mean that there is a problem with overall weights using all other samples.\n",
    "\n",
    "It can be defined as the probability value of getting the statistical summary result equal to or more extreme than the actual observed results, given that the null hypothesis is true. A p-value is the probability that the results from your sample data occurred by chance.\n",
    "\n",
    "If your p-value is less than the chosen significance level then you reject the null hypothesis i.e. accept that your sample gives reasonable evidence to support the alternative hypothesis. It does NOT imply a \"meaningful\" or \"important\" difference; that is for you to decide when considering the real-world relevance of your result."
   ]
  },
  {
   "cell_type": "code",
   "execution_count": null,
   "id": "634dd94c",
   "metadata": {},
   "outputs": [],
   "source": [
    "Example 1"
   ]
  },
  {
   "cell_type": "markdown",
   "id": "acd2e47f",
   "metadata": {},
   "source": [
    "A principal at a certain school claims that the students in his school are above average intelligence. A random sample of thirty students IQ scores have a mean score of 112.5. Is there sufficient evidence to support the principal’s claim? The mean population IQ is 100 with a standard deviation of 15. Use alpha=0.05\n",
    "\n",
    "Null hypothesis - The accepted fact is that the population mean is 100, so: H0: μ=100.\n",
    "Alternate Hypothesis - The claim is that the students have above average IQ scores, so: H1: μ > 100.\n",
    "The fact that we are looking for scores “greater than” a certain point means that this is a one-tailed test."
   ]
  },
  {
   "cell_type": "code",
   "execution_count": 2,
   "id": "f7aeeef9",
   "metadata": {},
   "outputs": [
    {
     "data": {
      "text/plain": [
       "(-1.6448536269514729, 1.6448536269514722)"
      ]
     },
     "execution_count": 2,
     "metadata": {},
     "output_type": "execute_result"
    }
   ],
   "source": [
    "alpha = 0.05\n",
    "# finding confidence interval\n",
    "stats.norm.ppf(0.05),stats.norm.ppf(0.95)"
   ]
  },
  {
   "cell_type": "code",
   "execution_count": 13,
   "id": "40653ae4",
   "metadata": {},
   "outputs": [
    {
     "name": "stdout",
     "output_type": "stream",
     "text": [
      "z test statistic: 4.564209296381494\n",
      "z score: 1.64\n"
     ]
    }
   ],
   "source": [
    "n = 30\n",
    "xbar = 112.5\n",
    "mean = 100\n",
    "std_d = 15\n",
    "#z_test_stat = xbar - mean/(std_d/np.sqrt(n))\n",
    "z_test_stat = 12.5/2.7387\n",
    "print(\"z test statistic:\",z_test_stat)\n",
    "print(\"z score:\", 1.64)"
   ]
  },
  {
   "cell_type": "raw",
   "id": "3a352b87",
   "metadata": {},
   "source": [
    "z test statistic > z score since it is right tailed test so, you can reject the null hypothesis"
   ]
  },
  {
   "cell_type": "markdown",
   "id": "cc615bf3",
   "metadata": {},
   "source": [
    "Z Test\n",
    "- Since, this is a right tailed test, the test-statistic should be greater than z-score to reject the null hypothesis\n",
    "-If it’s less than z-score, you cannot reject the null hypothesis"
   ]
  },
  {
   "cell_type": "markdown",
   "id": "1657cdb3",
   "metadata": {},
   "source": [
    "P value"
   ]
  },
  {
   "cell_type": "code",
   "execution_count": 18,
   "id": "8d3f5355",
   "metadata": {},
   "outputs": [
    {
     "data": {
      "text/plain": [
       "2.5069020465062763e-06"
      ]
     },
     "execution_count": 18,
     "metadata": {},
     "output_type": "execute_result"
    }
   ],
   "source": [
    "p_val_upper_reg = stats.norm.cdf(z_test_stat)\n",
    "#Actual value can be given as 1 - value above\n",
    "p_val_upper_reg = 1 - p_val_upper_reg\n",
    "p_val_upper_reg"
   ]
  },
  {
   "cell_type": "code",
   "execution_count": 20,
   "id": "1be8821f",
   "metadata": {},
   "outputs": [
    {
     "data": {
      "text/plain": [
       "2.506902046495801e-06"
      ]
     },
     "execution_count": 20,
     "metadata": {},
     "output_type": "execute_result"
    }
   ],
   "source": [
    "p_value_lower_region = stats.norm.cdf(-1 * z_test_stat)\n",
    "p_value_lower_region"
   ]
  },
  {
   "cell_type": "markdown",
   "id": "64d278cf",
   "metadata": {},
   "source": [
    "### Example 3\n",
    "An engineer measured the Brinell hardness of 25 pieces of ductile iron that were subcritically annealed. The resulting data were: [170,167,174,179,179,187,179,183,179,156,163,156,187,156,167,156,174,170,183,179,174,179,170,159,187]\n",
    "\n",
    "The engineer hypothesized that the mean Brinell hardness of all such ductile iron pieces is greater than 170. Therefore, he was interested in testing the hypotheses:\n",
    "* H0: μ = 170\n",
    "* HA: μ > 170\n",
    "\n",
    "The engineer did some basic statistics:\n",
    "* *n=25, xbar=172.52, s=10.31, se=2.06*"
   ]
  },
  {
   "cell_type": "code",
   "execution_count": 2,
   "id": "71d4ef92",
   "metadata": {},
   "outputs": [],
   "source": [
    "sample = [170,167,174,179,179,187,179,183,179,156,163,156,187,156,167,156,174,170,183,179,174,179,170,159,187]"
   ]
  },
  {
   "cell_type": "code",
   "execution_count": 3,
   "id": "7011633d",
   "metadata": {},
   "outputs": [],
   "source": [
    "s = pd.Series(sample)\n",
    "n = len(s)\n",
    "xbar = (s.mean(),2)\n",
    "s = round(s.std(),2)\n",
    "μ = 170"
   ]
  },
  {
   "cell_type": "code",
   "execution_count": 4,
   "id": "07004e4c",
   "metadata": {
    "collapsed": true
   },
   "outputs": [
    {
     "ename": "NameError",
     "evalue": "name 'mean' is not defined",
     "output_type": "error",
     "traceback": [
      "\u001b[1;31m---------------------------------------------------------------------------\u001b[0m",
      "\u001b[1;31mNameError\u001b[0m                                 Traceback (most recent call last)",
      "\u001b[1;32mC:\\Users\\SHIVAN~1\\AppData\\Local\\Temp/ipykernel_2756/3697350617.py\u001b[0m in \u001b[0;36m<module>\u001b[1;34m\u001b[0m\n\u001b[1;32m----> 1\u001b[1;33m \u001b[0mtt\u001b[0m \u001b[1;33m=\u001b[0m \u001b[0mxbar\u001b[0m \u001b[1;33m-\u001b[0m \u001b[0mmean\u001b[0m\u001b[1;33m/\u001b[0m\u001b[1;33m(\u001b[0m\u001b[0ms\u001b[0m\u001b[1;33m/\u001b[0m\u001b[0mnp\u001b[0m\u001b[1;33m.\u001b[0m\u001b[0msqrt\u001b[0m\u001b[1;33m(\u001b[0m\u001b[0mn\u001b[0m\u001b[1;33m)\u001b[0m\u001b[1;33m)\u001b[0m    \u001b[1;31m# test statistic\u001b[0m\u001b[1;33m\u001b[0m\u001b[1;33m\u001b[0m\u001b[0m\n\u001b[0m\u001b[0;32m      2\u001b[0m \u001b[0mp_value\u001b[0m \u001b[1;33m=\u001b[0m \u001b[0mstats\u001b[0m\u001b[1;33m.\u001b[0m\u001b[0mt\u001b[0m\u001b[1;33m.\u001b[0m\u001b[0msf\u001b[0m\u001b[1;33m(\u001b[0m\u001b[0mnp\u001b[0m\u001b[1;33m.\u001b[0m\u001b[0mabs\u001b[0m\u001b[1;33m(\u001b[0m\u001b[0mtt\u001b[0m\u001b[1;33m)\u001b[0m\u001b[1;33m,\u001b[0m\u001b[0mn\u001b[0m \u001b[1;33m-\u001b[0m \u001b[1;36m1\u001b[0m\u001b[1;33m)\u001b[0m \u001b[1;33m*\u001b[0m \u001b[1;36m2\u001b[0m     \u001b[1;31m# two sided pvalue = Prob(abs(t)>tt)\u001b[0m\u001b[1;33m\u001b[0m\u001b[1;33m\u001b[0m\u001b[0m\n\u001b[0;32m      3\u001b[0m \u001b[0mprint\u001b[0m\u001b[1;33m(\u001b[0m\u001b[1;34m\"t statistic = %6.3f, p value = %6.4f\"\u001b[0m\u001b[1;33m,\u001b[0m \u001b[1;33m(\u001b[0m\u001b[0mtt\u001b[0m\u001b[1;33m,\u001b[0m\u001b[0mp_value\u001b[0m\u001b[1;33m)\u001b[0m\u001b[1;33m)\u001b[0m\u001b[1;33m\u001b[0m\u001b[1;33m\u001b[0m\u001b[0m\n",
      "\u001b[1;31mNameError\u001b[0m: name 'mean' is not defined"
     ]
    }
   ],
   "source": [
    "tt = xbar - mean/(s/np.sqrt(n))    # test statistic\n",
    "p_value = stats.t.sf(np.abs(tt),n - 1) * 2     # two sided pvalue = Prob(abs(t)>tt)\n",
    "print(\"t statistic = %6.3f, p value = %6.4f\", (tt,p_value))"
   ]
  },
  {
   "cell_type": "code",
   "execution_count": null,
   "id": "c2771bc4",
   "metadata": {},
   "outputs": [],
   "source": [
    "tt = xbar - μ/(s/np.sqrt(n))\n",
    "pval = stats.t.sf(np.abs(tt), n-1)*2  # two-sided pvalue = Prob(abs(t)>tt)\n",
    "print  (tt, pval)"
   ]
  },
  {
   "cell_type": "code",
   "execution_count": 6,
   "id": "1a3fc036",
   "metadata": {},
   "outputs": [
    {
     "data": {
      "text/plain": [
       "Ttest_1sampResult(statistic=1.2218430153659992, pvalue=0.23363279636357662)"
      ]
     },
     "execution_count": 6,
     "metadata": {},
     "output_type": "execute_result"
    }
   ],
   "source": [
    "stats.ttest_1samp(a = sample,popmean = 170)"
   ]
  },
  {
   "cell_type": "code",
   "execution_count": 7,
   "id": "40134b46",
   "metadata": {},
   "outputs": [
    {
     "data": {
      "text/plain": [
       "6.70747681633171e-17"
      ]
     },
     "execution_count": 7,
     "metadata": {},
     "output_type": "execute_result"
    }
   ],
   "source": [
    "stats.t.ppf(q = 0.5,df = len(sample)-1) #q = quantile to check, and sample -1 is degrees of freedom n-1"
   ]
  },
  {
   "cell_type": "markdown",
   "id": "182534d9",
   "metadata": {},
   "source": [
    "## t-test-statistic\n",
    "If the engineer set his significance level α at 0.05 and used the critical value approach to conduct his hypothesis test, he would reject the null hypothesis if his t-test statistic were greater than 1.7109:\n",
    "\n",
    "\n",
    "Since the engineer's t-test statistic (1.22), is not greater than 1.7109, the engineer fails to reject the null hypothesis. That is, the test statistic does not fall in the \"critical region.\" There is insufficient evidence, at the α = 0.05 level, to conclude that the mean Brinell hardness of all such ductile iron pieces is greater than 170.\n",
    "\n"
   ]
  }
 ],
 "metadata": {
  "kernelspec": {
   "display_name": "Python 3 (ipykernel)",
   "language": "python",
   "name": "python3"
  },
  "language_info": {
   "codemirror_mode": {
    "name": "ipython",
    "version": 3
   },
   "file_extension": ".py",
   "mimetype": "text/x-python",
   "name": "python",
   "nbconvert_exporter": "python",
   "pygments_lexer": "ipython3",
   "version": "3.8.12"
  }
 },
 "nbformat": 4,
 "nbformat_minor": 5
}
