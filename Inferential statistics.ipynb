{
 "cells": [
  {
   "cell_type": "markdown",
   "id": "ae8b6af5",
   "metadata": {},
   "source": [
    "# Statistical Inference\n",
    "1. The Central Limit Theorem\n",
    "2. Confidence intervals for Means\n",
    "3.  Hypothesis testing\n",
    "  - the z test\n",
    "  - single sample t test\n",
    "  - independent samples t test"
   ]
  },
  {
   "cell_type": "markdown",
   "id": "19631a08",
   "metadata": {},
   "source": [
    "# The Central Limit Theorem \n",
    "- The Central Limit Theorem states that given large enough sample size(>=30), the following properties hold true:\n",
    "1. Sampling distribution's mean = Population mean (μ)\n",
    "2. Sampling distribution's standard deviation (standard error) = σ/√n\n",
    "3. for n ≥ 30, the sampling distribution tends to a normal distribution for all practical purposes.\n",
    "4. In other words, for a large n, the sampling distribution of the mean approaches a normal distribution !"
   ]
  },
  {
   "cell_type": "code",
   "execution_count": 1,
   "id": "2c2c3abb",
   "metadata": {},
   "outputs": [],
   "source": [
    "import numpy as np\n",
    "import pandas as pd\n",
    "import random \n",
    "\n",
    "import matplotlib.pyplot as plt\n",
    "import seaborn as sns\n",
    "import scipy.stats as st\n",
    "import warnings\n",
    "warnings.filterwarnings('ignore')"
   ]
  },
  {
   "cell_type": "code",
   "execution_count": null,
   "id": "5de365c5",
   "metadata": {},
   "outputs": [],
   "source": [
    "df = pd.read_csv(r\"C:\\Users\\Shivani Dussa\\Downloads\\car-booking-system-main\\car-booking-system-main\\train.csv\")"
   ]
  },
  {
   "cell_type": "code",
   "execution_count": null,
   "id": "3fa2daf6",
   "metadata": {},
   "outputs": [],
   "source": [
    "df.shape"
   ]
  },
  {
   "cell_type": "code",
   "execution_count": null,
   "id": "6f64eea8",
   "metadata": {},
   "outputs": [],
   "source": [
    "df.head()"
   ]
  },
  {
   "cell_type": "code",
   "execution_count": null,
   "id": "481defa5",
   "metadata": {},
   "outputs": [],
   "source": [
    "df['windspeed'].head()"
   ]
  },
  {
   "cell_type": "code",
   "execution_count": null,
   "id": "bdcbcd3f",
   "metadata": {},
   "outputs": [],
   "source": [
    "sns.set_style('whitegrid')\n",
    "sns.distplot(df.humidity,kde = True,color = 'Red',bins = 100)"
   ]
  },
  {
   "cell_type": "code",
   "execution_count": null,
   "id": "77e1487e",
   "metadata": {},
   "outputs": [],
   "source": [
    "plt.hist(df.humidity,bins = 100,color = 'pink')\n",
    "plt.axvline(x = df.humidity.mean(),color = 'g')  # we will take samples to validate a normal bell cure "
   ]
  },
  {
   "cell_type": "code",
   "execution_count": null,
   "id": "72220be7",
   "metadata": {},
   "outputs": [],
   "source": [
    "x1bar = df.humidity.sample(30).mean()  # samples we can take 30 or more than 30 then we can see perfect bell curve \n",
    "x2bar = df.humidity.sample(30).mean()\n",
    "print(x1bar,x2bar)"
   ]
  },
  {
   "cell_type": "code",
   "execution_count": null,
   "id": "a67e4ea5",
   "metadata": {},
   "outputs": [],
   "source": [
    "list = []\n",
    "num_samples = 5000  # here we are taking 5000 samples from 8709\n",
    "for i in range(0,num_samples):\n",
    "    list.append(df.humidity.sample(n = 30,replace = False).mean())"
   ]
  },
  {
   "cell_type": "code",
   "execution_count": null,
   "id": "15891fba",
   "metadata": {},
   "outputs": [],
   "source": [
    "len(list)"
   ]
  },
  {
   "cell_type": "code",
   "execution_count": null,
   "id": "b8aabe37",
   "metadata": {},
   "outputs": [],
   "source": [
    "ax = sns.distplot(list,kde = True , color = 'Red',bins = 100) "
   ]
  },
  {
   "cell_type": "markdown",
   "id": "0978656d",
   "metadata": {},
   "source": [
    "### Sampling distribution approaching Normal distribution\n",
    "- For sample size >=30, the resulting sampling distribution is almost a normal distribution"
   ]
  },
  {
   "cell_type": "code",
   "execution_count": null,
   "id": "d4bbcd78",
   "metadata": {},
   "outputs": [],
   "source": [
    "from scipy.stats import expon"
   ]
  },
  {
   "cell_type": "code",
   "execution_count": null,
   "id": "e689d699",
   "metadata": {},
   "outputs": [],
   "source": [
    "data = expon.rvs(size = 1500)\n",
    "sns.distplot(data,kde = True,color = 'red',bins = 100)"
   ]
  },
  {
   "cell_type": "code",
   "execution_count": null,
   "id": "88eeae03",
   "metadata": {},
   "outputs": [],
   "source": [
    "plt.hist(df.windspeed,bins = 100,color = 'violet')\n",
    "plt.axvline(x = df.windspeed.mean(),color = 'indigo')"
   ]
  },
  {
   "cell_type": "raw",
   "id": "95a246d0",
   "metadata": {},
   "source": [
    "Observation: We can see from the above plot that the population is not normal, Therefore, we need to draw sufficient samples of different sizes and compute their means (known as sample means). We will then plot those sample means to get a normal distribution"
   ]
  },
  {
   "cell_type": "code",
   "execution_count": null,
   "id": "0947f6c8",
   "metadata": {},
   "outputs": [],
   "source": [
    "x1 = df.windspeed.sample(50).mean()\n",
    "x2 = df.windspeed.sample(60).mean()"
   ]
  },
  {
   "cell_type": "code",
   "execution_count": null,
   "id": "7f19954c",
   "metadata": {},
   "outputs": [],
   "source": [
    "x1,x2"
   ]
  },
  {
   "cell_type": "code",
   "execution_count": null,
   "id": "26b66c9d",
   "metadata": {},
   "outputs": [],
   "source": [
    "list1 = []\n",
    "num_samples = 2000\n",
    "for i in range(0,num_samples):\n",
    "    list1.append(df.windspeed.sample(n = 30,replace = True).mean())"
   ]
  },
  {
   "cell_type": "code",
   "execution_count": null,
   "id": "17f6262d",
   "metadata": {},
   "outputs": [],
   "source": [
    "len(list1)"
   ]
  },
  {
   "cell_type": "code",
   "execution_count": null,
   "id": "59c155bb",
   "metadata": {},
   "outputs": [],
   "source": [
    "ax = sns.distplot(list1,kde = True, color = 'indigo',bins = 100)\n",
    "plt.axvline(x = df.windspeed.mean(),color = 'red')"
   ]
  },
  {
   "cell_type": "markdown",
   "id": "26d8b00e",
   "metadata": {},
   "source": [
    "# Confidence Intervals \n",
    "- Confidence Interval (CI) is a type of statistical estimation that proposes a range of plausible values for an unknown parameter (for example, the mean). The interval has an associated confidence level that the true parameter is in the proposed range. The 95% confidence interval defines a range of values that you can be 95% confident contains the population mean. With large samples, you know that mean with much more precision than you do with a small sample, so the confidence interval is quite narrow when computed from a large sample."
   ]
  },
  {
   "cell_type": "markdown",
   "id": "4d2ef78f",
   "metadata": {},
   "source": [
    "Calculating the Confidence Level(C.I)"
   ]
  },
  {
   "cell_type": "raw",
   "id": "1275b77f",
   "metadata": {},
   "source": [
    "step 1 : Number of observations n\n",
    "         The mean x\n",
    "         Number of standard deviation s"
   ]
  },
  {
   "cell_type": "markdown",
   "id": "558590a4",
   "metadata": {},
   "source": [
    "Note: we should use the standard deviation of the entire population, but in many cases we won't know it.\n",
    "\n",
    "We can use the standard deviation for the sample if we have enough observations (at least n=30, hopefully more)\n",
    "\n",
    "Step 2:\n",
    "\n",
    "Decide what Confidence Interval we want: 95% or 99% are common choices. Then find the \"Z\" value for that Confidence Interval here:\n",
    "  - Confidence Interval----------------------------------------------Z score\n",
    "             80                                 1.282\n",
    "             85%                                1.440\n",
    "             90%                                1.645\n",
    "             95%                                1.960\n",
    "             99%                                2.576\n",
    "             99.5%                              2.807\n",
    "             99.9%                              3.291 \n",
    "\n",
    "Step 3: Use that Z value in this formula for the Confidence Interval\n",
    "\n",
    " CI = xbar +- Z s/root n\n",
    "\n",
    "CI = confidence Level\n",
    "\n",
    "xbar = sample mean\n",
    "\n",
    "z = confidence level value\n",
    "\n",
    "s = sample standard deviation\n",
    "\n",
    "n = sample size\n",
    "\n",
    "Note:-The value after the ± is called the margin of error"
   ]
  },
  {
   "cell_type": "code",
   "execution_count": 3,
   "id": "197e6ddf",
   "metadata": {},
   "outputs": [],
   "source": [
    "h  = pd.read_csv(r\"C:\\Users\\Shivani Dussa\\Downloads\\heart_failure_clinical_records_dataset (1).csv\")"
   ]
  },
  {
   "cell_type": "code",
   "execution_count": 4,
   "id": "b223c25c",
   "metadata": {},
   "outputs": [
    {
     "data": {
      "text/html": [
       "<div>\n",
       "<style scoped>\n",
       "    .dataframe tbody tr th:only-of-type {\n",
       "        vertical-align: middle;\n",
       "    }\n",
       "\n",
       "    .dataframe tbody tr th {\n",
       "        vertical-align: top;\n",
       "    }\n",
       "\n",
       "    .dataframe thead th {\n",
       "        text-align: right;\n",
       "    }\n",
       "</style>\n",
       "<table border=\"1\" class=\"dataframe\">\n",
       "  <thead>\n",
       "    <tr style=\"text-align: right;\">\n",
       "      <th></th>\n",
       "      <th>age</th>\n",
       "      <th>anaemia</th>\n",
       "      <th>creatinine_phosphokinase</th>\n",
       "      <th>diabetes</th>\n",
       "      <th>ejection_fraction</th>\n",
       "      <th>high_blood_pressure</th>\n",
       "      <th>platelets</th>\n",
       "      <th>serum_creatinine</th>\n",
       "      <th>serum_sodium</th>\n",
       "      <th>sex</th>\n",
       "      <th>smoking</th>\n",
       "      <th>time</th>\n",
       "      <th>DEATH_EVENT</th>\n",
       "    </tr>\n",
       "  </thead>\n",
       "  <tbody>\n",
       "    <tr>\n",
       "      <th>0</th>\n",
       "      <td>75.0</td>\n",
       "      <td>0</td>\n",
       "      <td>582</td>\n",
       "      <td>0</td>\n",
       "      <td>20</td>\n",
       "      <td>1</td>\n",
       "      <td>265000.00</td>\n",
       "      <td>1.9</td>\n",
       "      <td>130</td>\n",
       "      <td>1</td>\n",
       "      <td>0</td>\n",
       "      <td>4</td>\n",
       "      <td>1</td>\n",
       "    </tr>\n",
       "    <tr>\n",
       "      <th>1</th>\n",
       "      <td>55.0</td>\n",
       "      <td>0</td>\n",
       "      <td>7861</td>\n",
       "      <td>0</td>\n",
       "      <td>38</td>\n",
       "      <td>0</td>\n",
       "      <td>263358.03</td>\n",
       "      <td>1.1</td>\n",
       "      <td>136</td>\n",
       "      <td>1</td>\n",
       "      <td>0</td>\n",
       "      <td>6</td>\n",
       "      <td>1</td>\n",
       "    </tr>\n",
       "    <tr>\n",
       "      <th>2</th>\n",
       "      <td>65.0</td>\n",
       "      <td>0</td>\n",
       "      <td>146</td>\n",
       "      <td>0</td>\n",
       "      <td>20</td>\n",
       "      <td>0</td>\n",
       "      <td>162000.00</td>\n",
       "      <td>1.3</td>\n",
       "      <td>129</td>\n",
       "      <td>1</td>\n",
       "      <td>1</td>\n",
       "      <td>7</td>\n",
       "      <td>1</td>\n",
       "    </tr>\n",
       "    <tr>\n",
       "      <th>3</th>\n",
       "      <td>50.0</td>\n",
       "      <td>1</td>\n",
       "      <td>111</td>\n",
       "      <td>0</td>\n",
       "      <td>20</td>\n",
       "      <td>0</td>\n",
       "      <td>210000.00</td>\n",
       "      <td>1.9</td>\n",
       "      <td>137</td>\n",
       "      <td>1</td>\n",
       "      <td>0</td>\n",
       "      <td>7</td>\n",
       "      <td>1</td>\n",
       "    </tr>\n",
       "    <tr>\n",
       "      <th>4</th>\n",
       "      <td>65.0</td>\n",
       "      <td>1</td>\n",
       "      <td>160</td>\n",
       "      <td>1</td>\n",
       "      <td>20</td>\n",
       "      <td>0</td>\n",
       "      <td>327000.00</td>\n",
       "      <td>2.7</td>\n",
       "      <td>116</td>\n",
       "      <td>0</td>\n",
       "      <td>0</td>\n",
       "      <td>8</td>\n",
       "      <td>1</td>\n",
       "    </tr>\n",
       "    <tr>\n",
       "      <th>...</th>\n",
       "      <td>...</td>\n",
       "      <td>...</td>\n",
       "      <td>...</td>\n",
       "      <td>...</td>\n",
       "      <td>...</td>\n",
       "      <td>...</td>\n",
       "      <td>...</td>\n",
       "      <td>...</td>\n",
       "      <td>...</td>\n",
       "      <td>...</td>\n",
       "      <td>...</td>\n",
       "      <td>...</td>\n",
       "      <td>...</td>\n",
       "    </tr>\n",
       "    <tr>\n",
       "      <th>294</th>\n",
       "      <td>62.0</td>\n",
       "      <td>0</td>\n",
       "      <td>61</td>\n",
       "      <td>1</td>\n",
       "      <td>38</td>\n",
       "      <td>1</td>\n",
       "      <td>155000.00</td>\n",
       "      <td>1.1</td>\n",
       "      <td>143</td>\n",
       "      <td>1</td>\n",
       "      <td>1</td>\n",
       "      <td>270</td>\n",
       "      <td>0</td>\n",
       "    </tr>\n",
       "    <tr>\n",
       "      <th>295</th>\n",
       "      <td>55.0</td>\n",
       "      <td>0</td>\n",
       "      <td>1820</td>\n",
       "      <td>0</td>\n",
       "      <td>38</td>\n",
       "      <td>0</td>\n",
       "      <td>270000.00</td>\n",
       "      <td>1.2</td>\n",
       "      <td>139</td>\n",
       "      <td>0</td>\n",
       "      <td>0</td>\n",
       "      <td>271</td>\n",
       "      <td>0</td>\n",
       "    </tr>\n",
       "    <tr>\n",
       "      <th>296</th>\n",
       "      <td>45.0</td>\n",
       "      <td>0</td>\n",
       "      <td>2060</td>\n",
       "      <td>1</td>\n",
       "      <td>60</td>\n",
       "      <td>0</td>\n",
       "      <td>742000.00</td>\n",
       "      <td>0.8</td>\n",
       "      <td>138</td>\n",
       "      <td>0</td>\n",
       "      <td>0</td>\n",
       "      <td>278</td>\n",
       "      <td>0</td>\n",
       "    </tr>\n",
       "    <tr>\n",
       "      <th>297</th>\n",
       "      <td>45.0</td>\n",
       "      <td>0</td>\n",
       "      <td>2413</td>\n",
       "      <td>0</td>\n",
       "      <td>38</td>\n",
       "      <td>0</td>\n",
       "      <td>140000.00</td>\n",
       "      <td>1.4</td>\n",
       "      <td>140</td>\n",
       "      <td>1</td>\n",
       "      <td>1</td>\n",
       "      <td>280</td>\n",
       "      <td>0</td>\n",
       "    </tr>\n",
       "    <tr>\n",
       "      <th>298</th>\n",
       "      <td>50.0</td>\n",
       "      <td>0</td>\n",
       "      <td>196</td>\n",
       "      <td>0</td>\n",
       "      <td>45</td>\n",
       "      <td>0</td>\n",
       "      <td>395000.00</td>\n",
       "      <td>1.6</td>\n",
       "      <td>136</td>\n",
       "      <td>1</td>\n",
       "      <td>1</td>\n",
       "      <td>285</td>\n",
       "      <td>0</td>\n",
       "    </tr>\n",
       "  </tbody>\n",
       "</table>\n",
       "<p>299 rows × 13 columns</p>\n",
       "</div>"
      ],
      "text/plain": [
       "      age  anaemia  creatinine_phosphokinase  diabetes  ejection_fraction  \\\n",
       "0    75.0        0                       582         0                 20   \n",
       "1    55.0        0                      7861         0                 38   \n",
       "2    65.0        0                       146         0                 20   \n",
       "3    50.0        1                       111         0                 20   \n",
       "4    65.0        1                       160         1                 20   \n",
       "..    ...      ...                       ...       ...                ...   \n",
       "294  62.0        0                        61         1                 38   \n",
       "295  55.0        0                      1820         0                 38   \n",
       "296  45.0        0                      2060         1                 60   \n",
       "297  45.0        0                      2413         0                 38   \n",
       "298  50.0        0                       196         0                 45   \n",
       "\n",
       "     high_blood_pressure  platelets  serum_creatinine  serum_sodium  sex  \\\n",
       "0                      1  265000.00               1.9           130    1   \n",
       "1                      0  263358.03               1.1           136    1   \n",
       "2                      0  162000.00               1.3           129    1   \n",
       "3                      0  210000.00               1.9           137    1   \n",
       "4                      0  327000.00               2.7           116    0   \n",
       "..                   ...        ...               ...           ...  ...   \n",
       "294                    1  155000.00               1.1           143    1   \n",
       "295                    0  270000.00               1.2           139    0   \n",
       "296                    0  742000.00               0.8           138    0   \n",
       "297                    0  140000.00               1.4           140    1   \n",
       "298                    0  395000.00               1.6           136    1   \n",
       "\n",
       "     smoking  time  DEATH_EVENT  \n",
       "0          0     4            1  \n",
       "1          0     6            1  \n",
       "2          1     7            1  \n",
       "3          0     7            1  \n",
       "4          0     8            1  \n",
       "..       ...   ...          ...  \n",
       "294        1   270            0  \n",
       "295        0   271            0  \n",
       "296        0   278            0  \n",
       "297        1   280            0  \n",
       "298        1   285            0  \n",
       "\n",
       "[299 rows x 13 columns]"
      ]
     },
     "execution_count": 4,
     "metadata": {},
     "output_type": "execute_result"
    }
   ],
   "source": [
    "h"
   ]
  },
  {
   "cell_type": "raw",
   "id": "3fd8c41d",
   "metadata": {},
   "source": [
    "A confidence interval proposes a range of plausible values for an unknown parameter. This interval is associted with a confidence level that the parameter is located in the interval.\n",
    "\n",
    "𝐶𝑜𝑛𝑓𝑖𝑑𝑒𝑛𝑐𝑒𝐼𝑛𝑡𝑒𝑟𝑣𝑎𝑙=[𝑃𝑜𝑖𝑛𝑡𝐸𝑠𝑡𝑖𝑚𝑎𝑡𝑒−𝑀𝑎𝑟𝑔𝑖𝑛𝑜𝑓𝐸𝑟𝑟𝑜𝑟,𝑃𝑜𝑖𝑛𝑡𝐸𝑠𝑡𝑖𝑚𝑎𝑡𝑒+𝑀𝑎𝑟𝑔𝑖𝑛𝑜𝑓𝐸𝑟𝑟𝑜𝑟]\n",
    "\n",
    "Find the confidence interval of average of blood platelets in a human with 95% confidence level\n",
    "Find the confidence interval of average of serum creatine in a human with 95% confidence level\n",
    "Find the confidence interval of average of ejection fraction in a human with 95% confidence level\n",
    "Let us find the Point Estimate"
   ]
  },
  {
   "cell_type": "code",
   "execution_count": 5,
   "id": "ab16d044",
   "metadata": {},
   "outputs": [],
   "source": [
    "#find a 95% confidence interval function using z distribution\n",
    "def zscore(mean,std_dev,ci,n):\n",
    "    import scipy.stats as st\n",
    "    import numpy as np\n",
    "    area = (ci)/2\n",
    "    z = st.norm.ppf(area)\n",
    "    std_dv = std_dev/np.sqrt(n)\n",
    "    moe = z * std_dv\n",
    "    lb = round(mean - moe,1)\n",
    "    up = round(mean + moe,1)\n",
    "    print('z score:', z)\n",
    "    print(f'the confidence interval is({lb},{up})')"
   ]
  },
  {
   "cell_type": "code",
   "execution_count": 6,
   "id": "0686b30b",
   "metadata": {},
   "outputs": [
    {
     "data": {
      "text/plain": [
       "2.280129653030281"
      ]
     },
     "execution_count": 6,
     "metadata": {},
     "output_type": "execute_result"
    }
   ],
   "source": [
    "st.norm.ppf(0.9887)  # // if we give probability (area) of graph it gives z score\n",
    "                      # if we want to find z score by cumulative probability."
   ]
  },
  {
   "cell_type": "code",
   "execution_count": 7,
   "id": "8cbafcb0",
   "metadata": {},
   "outputs": [
    {
     "data": {
      "text/plain": [
       "0.9886961557614472"
      ]
     },
     "execution_count": 7,
     "metadata": {},
     "output_type": "execute_result"
    }
   ],
   "source": [
    "st.norm.cdf(2.28)    # if we give z score, it gives cummulative probability(area under the curve).\n",
    "                       # // we want to find cumulative probability by z score."
   ]
  },
  {
   "cell_type": "raw",
   "id": "b52a137b",
   "metadata": {},
   "source": [
    "Question\n",
    "A survey of 30 adults found that the mean age of a person’s primary vehicle is 5.6 years\n",
    "Assuming the standard deviation of the population is 0.8 year, find the 99% confidence interval of the population mean."
   ]
  },
  {
   "cell_type": "code",
   "execution_count": 8,
   "id": "5f73a9f9",
   "metadata": {},
   "outputs": [
    {
     "name": "stdout",
     "output_type": "stream",
     "text": [
      "z score: -0.2533471031357997\n",
      "the confidence interval is(13.2,-2.0)\n"
     ]
    }
   ],
   "source": [
    "mean = 5.6\n",
    "n = 30\n",
    "std_dev = 0.8\n",
    "ci = 0.99\n",
    "zscore(mean,n,std_dev,ci)"
   ]
  },
  {
   "cell_type": "code",
   "execution_count": 9,
   "id": "3953914c",
   "metadata": {},
   "outputs": [
    {
     "name": "stdout",
     "output_type": "stream",
     "text": [
      "z score: 1.6448536269514722\n",
      "the confidence interval is(4449.4,4550.6)\n"
     ]
    }
   ],
   "source": [
    "mean = 4500\n",
    "n = 30\n",
    "std_dev = 1.9\n",
    "ci = 0.95\n",
    "zscore(mean,n,std_dev,ci)"
   ]
  },
  {
   "cell_type": "code",
   "execution_count": 10,
   "id": "50ce796d",
   "metadata": {},
   "outputs": [],
   "source": [
    "#finding the 99% confidence interval by using t distribution \n",
    "def t_ci(mean,n,std_dev,ci):\n",
    "    from scipy.stats import t\n",
    "    import numpy as np\n",
    "    import random\n",
    "    sample = h[mean].sample(n,random_state = 1) # here instead of mean we give our variables like platelets,sex,time..from table\n",
    "    area = (1 + ci)/2\n",
    "    df = n - 1 # degrees of freedom\n",
    "    t = t.ppf(area,df)      # ci = x + t * s/sqroot n- 1\n",
    "    mu = np.mean(sample)     \n",
    "    sigma = np.std(sample)\n",
    "    standard_error = sigma/np.sqrt(n)\n",
    "    moe = t  * standard_error\n",
    "    lb = round(mu - moe)\n",
    "    ub = round(mu + moe)\n",
    "    return lb,ub"
   ]
  },
  {
   "cell_type": "code",
   "execution_count": 11,
   "id": "49bb8ce2",
   "metadata": {},
   "outputs": [
    {
     "data": {
      "text/plain": [
       "Index(['age', 'anaemia', 'creatinine_phosphokinase', 'diabetes',\n",
       "       'ejection_fraction', 'high_blood_pressure', 'platelets',\n",
       "       'serum_creatinine', 'serum_sodium', 'sex', 'smoking', 'time',\n",
       "       'DEATH_EVENT'],\n",
       "      dtype='object')"
      ]
     },
     "execution_count": 11,
     "metadata": {},
     "output_type": "execute_result"
    }
   ],
   "source": [
    "h.columns"
   ]
  },
  {
   "cell_type": "code",
   "execution_count": 12,
   "id": "ffbc8bf8",
   "metadata": {},
   "outputs": [
    {
     "name": "stdout",
     "output_type": "stream",
     "text": [
      "lower bound: 183500\n",
      "upper bounf: 412900\n",
      "confidence interrval: (183500, 412900)\n",
      "the avg platelets with 99% of ci is: (183500, 412900)\n"
     ]
    }
   ],
   "source": [
    "from scipy.stats import t\n",
    "\n",
    "n = 10\n",
    "ci = .99\n",
    "sample = h['platelets'].sample(n,random_state = 1)  # std_dev\n",
    "area = (1 + ci)/2\n",
    "df = n - 1 # degrees of freedom\n",
    "t = t.ppf(area,df)\n",
    "mu = np.mean(sample)     \n",
    "sigma = np.std(sample)\n",
    "standard_error = sigma/np.sqrt(n)\n",
    "moe = t  * standard_error\n",
    "lb = round(mu - moe)\n",
    "ub = round(mu + moe)\n",
    "\n",
    "print('lower bound:', lb)\n",
    "print('upper bounf:', ub)\n",
    "print('confidence interrval:', (lb,ub))\n",
    "print('the avg platelets with 99% of ci is:',(lb,ub))"
   ]
  },
  {
   "cell_type": "code",
   "execution_count": 17,
   "id": "38f45b16",
   "metadata": {},
   "outputs": [
    {
     "name": "stdout",
     "output_type": "stream",
     "text": [
      "the confidence level width is: 229400\n"
     ]
    }
   ],
   "source": [
    "print('the confidence level width is:',ub - lb)"
   ]
  }
 ],
 "metadata": {
  "kernelspec": {
   "display_name": "Python 3 (ipykernel)",
   "language": "python",
   "name": "python3"
  },
  "language_info": {
   "codemirror_mode": {
    "name": "ipython",
    "version": 3
   },
   "file_extension": ".py",
   "mimetype": "text/x-python",
   "name": "python",
   "nbconvert_exporter": "python",
   "pygments_lexer": "ipython3",
   "version": "3.8.12"
  }
 },
 "nbformat": 4,
 "nbformat_minor": 5
}
