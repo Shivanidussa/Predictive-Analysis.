{
 "cells": [
  {
   "cell_type": "markdown",
   "id": "5d14c6f4",
   "metadata": {},
   "source": [
    "PA - MCA's "
   ]
  },
  {
   "cell_type": "raw",
   "id": "28f84493",
   "metadata": {},
   "source": [
    "1. survey is conducted with 100 students who are randomly selected from the freshman class at Lincoln High School.\n",
    "Answer the following question based on this information: What is the sample in this case? \n",
    "\n",
    "\n",
    "A. The 100 selected students\n",
    "B. All the students of freshman class of Lincoln high school\n",
    "c. All the students at Lincoln High School\n",
    "D. Cannot say"
   ]
  },
  {
   "cell_type": "markdown",
   "id": "a644241c",
   "metadata": {},
   "source": [
    "Answer\n",
    "A. The 100 selected students"
   ]
  },
  {
   "cell_type": "raw",
   "id": "0973dd33",
   "metadata": {},
   "source": [
    "1.(2). A  survey is conducted with 100 students who are randomly selected from the freshman class at Lincoln High School. Answer the following question based on this information: What is the population in this case?\n",
    "\n",
    "A. The 100 selected students\n",
    "B. All the students of freshman class of Lincoln high school\n",
    "C. All the students at Lincoln High School\n",
    "D. Cannot say"
   ]
  },
  {
   "cell_type": "markdown",
   "id": "ad2aa3b2",
   "metadata": {},
   "source": [
    "Answer B. ------B--------"
   ]
  },
  {
   "cell_type": "raw",
   "id": "6435d4ba",
   "metadata": {},
   "source": [
    "2.Samples of size 25 are selected from a population with mean 40 and standard deviation 7.5. \n",
    "Answer the following question based on this information: The standard error of the sampling distribution of means is -\n",
    "\n",
    "A.0.3\n",
    "B.1.5\n",
    "C.7.5\n",
    "D.1.3"
   ]
  },
  {
   "cell_type": "markdown",
   "id": "f48aed9d",
   "metadata": {},
   "source": [
    "Answer B. 1.5"
   ]
  },
  {
   "cell_type": "raw",
   "id": "47ccecfd",
   "metadata": {},
   "source": [
    "3. Data has been collected for a random sample for the daily temperature. \n",
    "The amount of money collected from ice cream sales on those days is also recorded. The temperatures ranged from 60 F to 95  F.\n",
    "The least squares regression line is computed for the temperature values. \n",
    "Which statement best describes using of the line to predict sales when the temperature is 50 F?\n",
    "\n",
    "A.It will not be possible to compute the amount of sales\n",
    "B.The prediction is reliable because regression is used\n",
    "c.The prediction may be helpful but its less reliable because the value is lower than that in the data range\n",
    "D.None of the above"
   ]
  },
  {
   "cell_type": "markdown",
   "id": "4531a8c0",
   "metadata": {},
   "source": [
    "Answer. C"
   ]
  },
  {
   "cell_type": "raw",
   "id": "4e4250d1",
   "metadata": {},
   "source": [
    "4.Which of the following scenarios results in a Type I error in a Null Hypothesis Testing?\n",
    "\n",
    "A. Null hypothesis is not rejected but should be rejected\n",
    "B. Null hypothesis is rejected but should not be rejected\n",
    "C. A test statistic is incorrect\n",
    "D. All three of the above"
   ]
  },
  {
   "cell_type": "markdown",
   "id": "9a6cbc34",
   "metadata": {},
   "source": [
    "Answer. B"
   ]
  },
  {
   "cell_type": "raw",
   "id": "592d11c0",
   "metadata": {},
   "source": [
    "5.In a Null Hypothesis testing, which of the following situations leads to a Type II error?\n",
    "\n",
    "A. Null hypothesis is rejected but should not be rejected\n",
    "B. Null hypothesis is not rejected but should be rejected\n",
    "C. A test statistic results in value zero\n",
    "D.A test statistics results in a negative value"
   ]
  },
  {
   "cell_type": "markdown",
   "id": "4c1ccbb6",
   "metadata": {},
   "source": [
    "Answer. B"
   ]
  },
  {
   "cell_type": "raw",
   "id": "9029e303",
   "metadata": {},
   "source": [
    "6. You have designed a linear polynomial regression model of degree 3 on a data set and you found that the training and testing error is 0 which means it perfectly fits the data. Choose the correct statement out of the following based on the above information:\n",
    "\n",
    "A. There are high chances that degree 4 polynomial will over fit the data\n",
    "B. There are high chances that degree 4 polynomial will under fit the data\n",
    "C. There are high chances that degree 2 polynomial will over fit the data\n",
    "D. None of these"
   ]
  },
  {
   "cell_type": "markdown",
   "id": "4d89fc99",
   "metadata": {},
   "source": [
    "Answer. A"
   ]
  },
  {
   "cell_type": "raw",
   "id": "59ba87d0",
   "metadata": {},
   "source": [
    "7. While performing Hypothesis Testing on population mean, which of the following is an appropriate scenario for Alternate Hypothesis (Ha) for a Two-Tailed test?\n",
    "\n",
    "A. Ha: mean != 7\n",
    "B. Ha: mean < 7\n",
    "C. Ha: mean > 7\n",
    "D. Ha: mean = 7"
   ]
  },
  {
   "cell_type": "markdown",
   "id": "bab6879e",
   "metadata": {},
   "source": [
    "Answer. A"
   ]
  },
  {
   "cell_type": "raw",
   "id": "f025ebea",
   "metadata": {},
   "source": [
    "8.Which statement is true regarding a 95% confidence interval and a 99% confidence interval for the same sample?\n",
    "\n",
    "A. Both intervals have the same width\n",
    "B. 95% interval will be wider\n",
    "C. 99% interval will be wider\n",
    "D. No such comparison can be made"
   ]
  },
  {
   "cell_type": "markdown",
   "id": "09db0170",
   "metadata": {},
   "source": [
    "Answer. C"
   ]
  },
  {
   "cell_type": "markdown",
   "id": "e958bd2c",
   "metadata": {},
   "source": [
    "## 2 Time attempt questions"
   ]
  },
  {
   "cell_type": "raw",
   "id": "7834a39a",
   "metadata": {},
   "source": [
    "1.(2). A  survey is conducted with 100 students who are randomly selected from the freshman class at Lincoln High School. Answer the following question based on this information: What is the population in this case?\n",
    "\n",
    "A. The 100 selected students\n",
    "B. All the students of freshman class of Lincoln high school\n",
    "C. All the students at Lincoln High School\n",
    "D. Cannot say"
   ]
  },
  {
   "cell_type": "markdown",
   "id": "b4d863c4",
   "metadata": {},
   "source": [
    "Answer B. ------B--------"
   ]
  },
  {
   "cell_type": "raw",
   "id": "9e74d60e",
   "metadata": {},
   "source": [
    "2.(2). Samples of size 25 are selected from a population with mean 40 and standard deviation 7.5. Answer the following question based on this information: The mean of the sampling distribution of means is -\n",
    "\n",
    "A. 7.5\n",
    "B. 8\n",
    "C. 40\n",
    "D. 8.5"
   ]
  },
  {
   "cell_type": "markdown",
   "id": "06ee5db2",
   "metadata": {},
   "source": [
    "Answer. ----C. (40)--------"
   ]
  },
  {
   "cell_type": "raw",
   "id": "be5ae3cf",
   "metadata": {},
   "source": [
    "3. Based on the data set and its specifications as described below, calculate the coefficient and intercept of the Regression Line obtained as a result of Linear Regression: \n",
    "\n",
    "Specifications of data: \n",
    "\n",
    "n = 5\n",
    "\n",
    "x = 10\n",
    "\n",
    "y = 20\n",
    "\n",
    "xy = 49 and \n",
    "\n",
    "(x * x) = 30\n",
    "\n",
    "\n",
    "A.Coefficient = 10 & Intercept = 0.9\n",
    "B.Coefficient = 0.9 & Intercept = 2.2\n",
    "C.Coefficient = -2.2 & Intercept = 0.9\n",
    "D.Coefficient = -0.9 & Intercept = 10"
   ]
  },
  {
   "cell_type": "markdown",
   "id": "a8881e2b",
   "metadata": {},
   "source": [
    "Answer : ----  B.(0.9 and 2.2)  ----------"
   ]
  },
  {
   "cell_type": "raw",
   "id": "c8dcafa0",
   "metadata": {},
   "source": [
    "4. A beverage manufacturing company sells bottles of beverages which have a label stating that the volume is 12 oz. A consumer group suspects that the bottles are underfilled. The group plans to conduct a test. Considering the Null Hypothesis as H0 ≠ 12 oz, Type I error in this situation would occur when-\n",
    "\n",
    "\n",
    "A. The consumer group concludes that the bottles have less than 12 oz. when the mean is 12 oz\n",
    "B. The consumer group has evidence that the label is incorrect\n",
    "C. The consumer group concludes that the bottles have less than 12 oz when the mean is less than 12 oz\n",
    "D. The consumer group does not conclude that the bottles have less than 12 oz. when the mean is less than 12 oz"
   ]
  },
  {
   "cell_type": "markdown",
   "id": "ab0f57b7",
   "metadata": {},
   "source": [
    "Answer : -----  A  --------"
   ]
  },
  {
   "cell_type": "raw",
   "id": "c9db7a5e",
   "metadata": {},
   "source": [
    "5. For a statistical learning scenario, it is given that the confidence interval is 95%, the prediction error is 20 and the predicted value is 90. From this information, the result can be interpreted as:\n",
    "\n",
    "\n",
    "A. There is a 5% chance that the actual value will be between 70 and 110\n",
    "B. There is a 95% chance that the actual value will be between 70 and 110\n",
    "C. There is a 5% chance that the actual value will not exceed 20\n",
    "D. There is a 95% chance that 20 will be the actual value"
   ]
  },
  {
   "cell_type": "markdown",
   "id": "d175c596",
   "metadata": {},
   "source": [
    "Answer : ------likely A--------"
   ]
  },
  {
   "cell_type": "raw",
   "id": "72752ce2",
   "metadata": {},
   "source": [
    "6. Which of these is an example of a categorical variable?\n",
    "\n",
    "A. Flavor of soft drink ordered by each customer at a fast food restaurant\n",
    "B. Height, measured in inches, for each student in a class\n",
    "C. Number of goals scored by each player on a team\n",
    "D. All of the above"
   ]
  },
  {
   "cell_type": "markdown",
   "id": "d2a5d804",
   "metadata": {},
   "source": [
    "Answer: A"
   ]
  },
  {
   "cell_type": "markdown",
   "id": "032db5b5",
   "metadata": {},
   "source": [
    "## *Auto MPG - (Test - 2)*\n",
    "\n",
    "Consider the automobile data set located at res/autompg.csv\n",
    "This data set consists of specification and performance details of cars\n",
    "\n",
    "Here's a preview of the data under consideration: ﻿\n",
    "\n",
    "Questions:\n",
    "\n",
    "We need to analyse this data using Python programs as follows:\n",
    "Load the data from res/autompg.csv. Then perform the operations as described below:\n",
    "\n",
    "1. Calculate the following statistics for mpg column from the data set:\n",
    "\n",
    "Hint: Use pandas dataframe functions\n",
    "\n",
    "Mean\n",
    "Median\n",
    "Mode\n",
    "Standard Deviation\n",
    " \n",
    "\n",
    "Print these values in a file named output.csv on separate rows\n",
    "\n",
    "2. Calculate the correlation of weight with mpg using two methods – Pearson and Kendall\n",
    "\n",
    "First use df.corr and set method as kendall and print the value of resulting coefficient\n",
    "Then calculate the value using pearson method using function pearsonr() and print the value of its coefficient\n",
    "Print these two values on two rows of output.csv below the existing rows written in Step 1\n",
    " \n",
    "\n",
    "3. Read a sample of the above data set from a file. First, the name of the file containing the sample must be read from a file named testcaseauto.txt\n",
    "Example: autosample1 or autosample2. Then read the sample data from autosample1.csv or autosample2.csv respectively\n",
    "\n",
    "Compute the mean and standard deviation of mpg column of this sample. \n",
    "Calculate and print the difference between the means & standard deviations of the sample and population data as: < value for population > – < value for sample >\n",
    "Print these two values in a file named outputn.csv on two separate rows\n",
    "\n",
    "Input Format:\n",
    "\n",
    "First, you have to read data from a file named autompg.csv present at the location res/autompg.csv\n",
    "The second file to be read is a file named testcaseauto.txt which is present at the location res/testcaseauto.txt\n",
    "testcaseauto.txt has the following lines:\n",
    "The first line contains the number of test cases T \n",
    "From the second line, every line contains the name of the file containing sample data to be used in the calculation of required statistics such as autosample1\n",
    "Then read the sample data from res/autosample1.csv\n",
    "\n",
    "Output Format:\n",
    "\n",
    "You have to create a file named output.csv at the location output/output.csv\n",
    "This file should contain the following values on 6 rows\n",
    "Mean - value rounded to 2 decimal places such as 45.67\n",
    "Median - value converted to int such as 35\n",
    "Mode - value in the form of a list such as [12.1]\n",
    "Standard Deviation - value rounded to 2 decimal places such as 5.43\n",
    "Correlation coefficient using Kendall - value rounded to 2 decimal places such as 0.23\n",
    "Correlation Coefficient using Pearson - value rounded to 2 decimal places such as 0.45\n",
    "In Step 3, for each test case T, create an output file, output1.csv, output2.csv, ..., outputn.csv where n represents the test case number\n",
    "outputn.csv should be present at the location output/outputn.csv\n",
    "This file should consist of the values for difference in Means and Standard Deviations as described, on two separate rows\n",
    "Both values need to be rounded to 2 decimal places and then printed\n",
    "\n",
    " \n",
    "\n",
    "Sample Test Cases:\n",
    "\n",
    "testcaseauto.txt contains the following data:\n",
    "\n",
    "2\n",
    "autosample1\n",
    "autosample2\n",
    "\n",
    "\n",
    "Sample Output\n",
    "\n",
    "Example: output.csv will have data looking like this:﻿\n",
    "\n",
    "\n",
    "\n",
    "﻿\n",
    "Example: output1.csv will have data looking like this:﻿\n",
    "\n",
    "\n",
    "\n",
    "﻿***Note: Write the code only inside solution() function and do not pass any arguments to the function***"
   ]
  },
  {
   "cell_type": "code",
   "execution_count": 3,
   "id": "ed3447ac",
   "metadata": {},
   "outputs": [],
   "source": [
    "import pandas as pd\n",
    "import numpy as np\n",
    "import matplotlib.pyplot as plt\n",
    "import seaborn as sns"
   ]
  },
  {
   "cell_type": "code",
   "execution_count": 4,
   "id": "c48e1a43",
   "metadata": {},
   "outputs": [],
   "source": [
    "ma = pd.read_csv(r\"C:\\Users\\Shivani Dussa\\Downloads\\auto-mpg.csv\")"
   ]
  },
  {
   "cell_type": "code",
   "execution_count": 3,
   "id": "08501be1",
   "metadata": {},
   "outputs": [
    {
     "data": {
      "text/plain": [
       "(398, 9)"
      ]
     },
     "execution_count": 3,
     "metadata": {},
     "output_type": "execute_result"
    }
   ],
   "source": [
    "ma.shape"
   ]
  },
  {
   "cell_type": "code",
   "execution_count": 4,
   "id": "0cbb8b63",
   "metadata": {},
   "outputs": [
    {
     "data": {
      "text/html": [
       "<div>\n",
       "<style scoped>\n",
       "    .dataframe tbody tr th:only-of-type {\n",
       "        vertical-align: middle;\n",
       "    }\n",
       "\n",
       "    .dataframe tbody tr th {\n",
       "        vertical-align: top;\n",
       "    }\n",
       "\n",
       "    .dataframe thead th {\n",
       "        text-align: right;\n",
       "    }\n",
       "</style>\n",
       "<table border=\"1\" class=\"dataframe\">\n",
       "  <thead>\n",
       "    <tr style=\"text-align: right;\">\n",
       "      <th></th>\n",
       "      <th>mpg</th>\n",
       "      <th>cylinders</th>\n",
       "      <th>displacement</th>\n",
       "      <th>horsepower</th>\n",
       "      <th>weight</th>\n",
       "      <th>acceleration</th>\n",
       "      <th>model year</th>\n",
       "      <th>origin</th>\n",
       "      <th>car name</th>\n",
       "    </tr>\n",
       "  </thead>\n",
       "  <tbody>\n",
       "    <tr>\n",
       "      <th>0</th>\n",
       "      <td>18.0</td>\n",
       "      <td>8</td>\n",
       "      <td>307.0</td>\n",
       "      <td>130</td>\n",
       "      <td>3504</td>\n",
       "      <td>12.0</td>\n",
       "      <td>70</td>\n",
       "      <td>1</td>\n",
       "      <td>chevrolet chevelle malibu</td>\n",
       "    </tr>\n",
       "    <tr>\n",
       "      <th>1</th>\n",
       "      <td>15.0</td>\n",
       "      <td>8</td>\n",
       "      <td>350.0</td>\n",
       "      <td>165</td>\n",
       "      <td>3693</td>\n",
       "      <td>11.5</td>\n",
       "      <td>70</td>\n",
       "      <td>1</td>\n",
       "      <td>buick skylark 320</td>\n",
       "    </tr>\n",
       "    <tr>\n",
       "      <th>2</th>\n",
       "      <td>18.0</td>\n",
       "      <td>8</td>\n",
       "      <td>318.0</td>\n",
       "      <td>150</td>\n",
       "      <td>3436</td>\n",
       "      <td>11.0</td>\n",
       "      <td>70</td>\n",
       "      <td>1</td>\n",
       "      <td>plymouth satellite</td>\n",
       "    </tr>\n",
       "    <tr>\n",
       "      <th>3</th>\n",
       "      <td>16.0</td>\n",
       "      <td>8</td>\n",
       "      <td>304.0</td>\n",
       "      <td>150</td>\n",
       "      <td>3433</td>\n",
       "      <td>12.0</td>\n",
       "      <td>70</td>\n",
       "      <td>1</td>\n",
       "      <td>amc rebel sst</td>\n",
       "    </tr>\n",
       "    <tr>\n",
       "      <th>4</th>\n",
       "      <td>17.0</td>\n",
       "      <td>8</td>\n",
       "      <td>302.0</td>\n",
       "      <td>140</td>\n",
       "      <td>3449</td>\n",
       "      <td>10.5</td>\n",
       "      <td>70</td>\n",
       "      <td>1</td>\n",
       "      <td>ford torino</td>\n",
       "    </tr>\n",
       "  </tbody>\n",
       "</table>\n",
       "</div>"
      ],
      "text/plain": [
       "    mpg  cylinders  displacement horsepower  weight  acceleration  model year  \\\n",
       "0  18.0          8         307.0        130    3504          12.0          70   \n",
       "1  15.0          8         350.0        165    3693          11.5          70   \n",
       "2  18.0          8         318.0        150    3436          11.0          70   \n",
       "3  16.0          8         304.0        150    3433          12.0          70   \n",
       "4  17.0          8         302.0        140    3449          10.5          70   \n",
       "\n",
       "   origin                   car name  \n",
       "0       1  chevrolet chevelle malibu  \n",
       "1       1          buick skylark 320  \n",
       "2       1         plymouth satellite  \n",
       "3       1              amc rebel sst  \n",
       "4       1                ford torino  "
      ]
     },
     "execution_count": 4,
     "metadata": {},
     "output_type": "execute_result"
    }
   ],
   "source": [
    "ma.head()"
   ]
  },
  {
   "cell_type": "code",
   "execution_count": 4,
   "id": "f7e4a2ce",
   "metadata": {},
   "outputs": [],
   "source": [
    "# use pandas dataframe functions\n",
    "#find * Mean\n",
    "#     * Median\n",
    "#     * Mode\n",
    "#     * standard deviation\n",
    "\n",
    "mean = round(ma['mpg'].mean(),2)  # for mpg column\n",
    "median = round(ma['mpg'].median(),2)\n",
    "mode = round(ma['mpg'].mode(),2)\n",
    "standard_deviation = round(ma['mpg'].std(),2)"
   ]
  },
  {
   "cell_type": "code",
   "execution_count": 6,
   "id": "c2319cd1",
   "metadata": {},
   "outputs": [
    {
     "name": "stdout",
     "output_type": "stream",
     "text": [
      "23.51\n",
      "23.0\n"
     ]
    }
   ],
   "source": [
    "print(mean)\n",
    "print(median)"
   ]
  },
  {
   "cell_type": "code",
   "execution_count": 7,
   "id": "7dc1ab60",
   "metadata": {},
   "outputs": [
    {
     "data": {
      "text/plain": [
       "0    13.0\n",
       "dtype: float64"
      ]
     },
     "execution_count": 7,
     "metadata": {},
     "output_type": "execute_result"
    }
   ],
   "source": [
    "round(mode,2)"
   ]
  },
  {
   "cell_type": "code",
   "execution_count": 8,
   "id": "c12ec933",
   "metadata": {},
   "outputs": [
    {
     "data": {
      "text/plain": [
       "7.82"
      ]
     },
     "execution_count": 8,
     "metadata": {},
     "output_type": "execute_result"
    }
   ],
   "source": [
    "round(standard_deviation,2)"
   ]
  },
  {
   "cell_type": "code",
   "execution_count": 34,
   "id": "40cf2a39",
   "metadata": {},
   "outputs": [],
   "source": [
    "#output\n",
    "s1 = pd.DataFrame(np.array([mean]).round(2))\n",
    "s2 = pd.DataFrame(np.array([median]).round(2))\n",
    "s3 = pd.DataFrame(np.array([mode]).round(2))\n",
    "s4 = pd.DataFrame(np.array([standard_deviation]).round(2))\n",
    "f1 = s1.append(s2)\n",
    "f2 = f1.append(s3)\n",
    "output = f2.append(s4)\n",
    "output.to_csv(\"output.csv\")"
   ]
  },
  {
   "cell_type": "code",
   "execution_count": 35,
   "id": "e7ba588d",
   "metadata": {},
   "outputs": [
    {
     "data": {
      "text/html": [
       "<div>\n",
       "<style scoped>\n",
       "    .dataframe tbody tr th:only-of-type {\n",
       "        vertical-align: middle;\n",
       "    }\n",
       "\n",
       "    .dataframe tbody tr th {\n",
       "        vertical-align: top;\n",
       "    }\n",
       "\n",
       "    .dataframe thead th {\n",
       "        text-align: right;\n",
       "    }\n",
       "</style>\n",
       "<table border=\"1\" class=\"dataframe\">\n",
       "  <thead>\n",
       "    <tr style=\"text-align: right;\">\n",
       "      <th></th>\n",
       "      <th>0</th>\n",
       "    </tr>\n",
       "  </thead>\n",
       "  <tbody>\n",
       "    <tr>\n",
       "      <th>0</th>\n",
       "      <td>23.51</td>\n",
       "    </tr>\n",
       "    <tr>\n",
       "      <th>0</th>\n",
       "      <td>23.00</td>\n",
       "    </tr>\n",
       "    <tr>\n",
       "      <th>0</th>\n",
       "      <td>13.00</td>\n",
       "    </tr>\n",
       "    <tr>\n",
       "      <th>0</th>\n",
       "      <td>7.82</td>\n",
       "    </tr>\n",
       "  </tbody>\n",
       "</table>\n",
       "</div>"
      ],
      "text/plain": [
       "       0\n",
       "0  23.51\n",
       "0  23.00\n",
       "0  13.00\n",
       "0   7.82"
      ]
     },
     "execution_count": 35,
     "metadata": {},
     "output_type": "execute_result"
    }
   ],
   "source": [
    "output"
   ]
  },
  {
   "cell_type": "code",
   "execution_count": 29,
   "id": "0b56d41b",
   "metadata": {},
   "outputs": [],
   "source": [
    "# Calculate the correlation of weight with mpg using \"kendall\" and \"pearson\" methods"
   ]
  },
  {
   "cell_type": "code",
   "execution_count": 7,
   "id": "43792a62",
   "metadata": {},
   "outputs": [
    {
     "data": {
      "text/html": [
       "<div>\n",
       "<style scoped>\n",
       "    .dataframe tbody tr th:only-of-type {\n",
       "        vertical-align: middle;\n",
       "    }\n",
       "\n",
       "    .dataframe tbody tr th {\n",
       "        vertical-align: top;\n",
       "    }\n",
       "\n",
       "    .dataframe thead th {\n",
       "        text-align: right;\n",
       "    }\n",
       "</style>\n",
       "<table border=\"1\" class=\"dataframe\">\n",
       "  <thead>\n",
       "    <tr style=\"text-align: right;\">\n",
       "      <th></th>\n",
       "      <th>mpg</th>\n",
       "      <th>cylinders</th>\n",
       "      <th>displacement</th>\n",
       "      <th>horsepower</th>\n",
       "      <th>weight</th>\n",
       "      <th>acceleration</th>\n",
       "      <th>model year</th>\n",
       "      <th>origin</th>\n",
       "      <th>car name</th>\n",
       "    </tr>\n",
       "  </thead>\n",
       "  <tbody>\n",
       "    <tr>\n",
       "      <th>0</th>\n",
       "      <td>18.0</td>\n",
       "      <td>8</td>\n",
       "      <td>307.0</td>\n",
       "      <td>130</td>\n",
       "      <td>3504</td>\n",
       "      <td>12.0</td>\n",
       "      <td>70</td>\n",
       "      <td>1</td>\n",
       "      <td>chevrolet chevelle malibu</td>\n",
       "    </tr>\n",
       "    <tr>\n",
       "      <th>1</th>\n",
       "      <td>15.0</td>\n",
       "      <td>8</td>\n",
       "      <td>350.0</td>\n",
       "      <td>165</td>\n",
       "      <td>3693</td>\n",
       "      <td>11.5</td>\n",
       "      <td>70</td>\n",
       "      <td>1</td>\n",
       "      <td>buick skylark 320</td>\n",
       "    </tr>\n",
       "    <tr>\n",
       "      <th>2</th>\n",
       "      <td>18.0</td>\n",
       "      <td>8</td>\n",
       "      <td>318.0</td>\n",
       "      <td>150</td>\n",
       "      <td>3436</td>\n",
       "      <td>11.0</td>\n",
       "      <td>70</td>\n",
       "      <td>1</td>\n",
       "      <td>plymouth satellite</td>\n",
       "    </tr>\n",
       "    <tr>\n",
       "      <th>3</th>\n",
       "      <td>16.0</td>\n",
       "      <td>8</td>\n",
       "      <td>304.0</td>\n",
       "      <td>150</td>\n",
       "      <td>3433</td>\n",
       "      <td>12.0</td>\n",
       "      <td>70</td>\n",
       "      <td>1</td>\n",
       "      <td>amc rebel sst</td>\n",
       "    </tr>\n",
       "    <tr>\n",
       "      <th>4</th>\n",
       "      <td>17.0</td>\n",
       "      <td>8</td>\n",
       "      <td>302.0</td>\n",
       "      <td>140</td>\n",
       "      <td>3449</td>\n",
       "      <td>10.5</td>\n",
       "      <td>70</td>\n",
       "      <td>1</td>\n",
       "      <td>ford torino</td>\n",
       "    </tr>\n",
       "  </tbody>\n",
       "</table>\n",
       "</div>"
      ],
      "text/plain": [
       "    mpg  cylinders  displacement horsepower  weight  acceleration  model year  \\\n",
       "0  18.0          8         307.0        130    3504          12.0          70   \n",
       "1  15.0          8         350.0        165    3693          11.5          70   \n",
       "2  18.0          8         318.0        150    3436          11.0          70   \n",
       "3  16.0          8         304.0        150    3433          12.0          70   \n",
       "4  17.0          8         302.0        140    3449          10.5          70   \n",
       "\n",
       "   origin                   car name  \n",
       "0       1  chevrolet chevelle malibu  \n",
       "1       1          buick skylark 320  \n",
       "2       1         plymouth satellite  \n",
       "3       1              amc rebel sst  \n",
       "4       1                ford torino  "
      ]
     },
     "execution_count": 7,
     "metadata": {},
     "output_type": "execute_result"
    }
   ],
   "source": [
    "ma.head()"
   ]
  },
  {
   "cell_type": "code",
   "execution_count": 9,
   "id": "28676698",
   "metadata": {},
   "outputs": [
    {
     "data": {
      "text/html": [
       "<div>\n",
       "<style scoped>\n",
       "    .dataframe tbody tr th:only-of-type {\n",
       "        vertical-align: middle;\n",
       "    }\n",
       "\n",
       "    .dataframe tbody tr th {\n",
       "        vertical-align: top;\n",
       "    }\n",
       "\n",
       "    .dataframe thead th {\n",
       "        text-align: right;\n",
       "    }\n",
       "</style>\n",
       "<table border=\"1\" class=\"dataframe\">\n",
       "  <thead>\n",
       "    <tr style=\"text-align: right;\">\n",
       "      <th></th>\n",
       "      <th>mpg</th>\n",
       "      <th>cylinders</th>\n",
       "      <th>displacement</th>\n",
       "      <th>weight</th>\n",
       "      <th>acceleration</th>\n",
       "      <th>model year</th>\n",
       "      <th>origin</th>\n",
       "    </tr>\n",
       "  </thead>\n",
       "  <tbody>\n",
       "    <tr>\n",
       "      <th>mpg</th>\n",
       "      <td>1.000000</td>\n",
       "      <td>-0.686477</td>\n",
       "      <td>-0.679847</td>\n",
       "      <td>-0.694006</td>\n",
       "      <td>0.301096</td>\n",
       "      <td>0.413661</td>\n",
       "      <td>0.467249</td>\n",
       "    </tr>\n",
       "    <tr>\n",
       "      <th>cylinders</th>\n",
       "      <td>-0.686477</td>\n",
       "      <td>1.000000</td>\n",
       "      <td>0.794854</td>\n",
       "      <td>0.735481</td>\n",
       "      <td>-0.367194</td>\n",
       "      <td>-0.273742</td>\n",
       "      <td>-0.551610</td>\n",
       "    </tr>\n",
       "    <tr>\n",
       "      <th>displacement</th>\n",
       "      <td>-0.679847</td>\n",
       "      <td>0.794854</td>\n",
       "      <td>1.000000</td>\n",
       "      <td>0.800508</td>\n",
       "      <td>-0.352110</td>\n",
       "      <td>-0.218920</td>\n",
       "      <td>-0.570074</td>\n",
       "    </tr>\n",
       "    <tr>\n",
       "      <th>weight</th>\n",
       "      <td>-0.694006</td>\n",
       "      <td>0.735481</td>\n",
       "      <td>0.800508</td>\n",
       "      <td>1.000000</td>\n",
       "      <td>-0.268619</td>\n",
       "      <td>-0.196863</td>\n",
       "      <td>-0.496185</td>\n",
       "    </tr>\n",
       "    <tr>\n",
       "      <th>acceleration</th>\n",
       "      <td>0.301096</td>\n",
       "      <td>-0.367194</td>\n",
       "      <td>-0.352110</td>\n",
       "      <td>-0.268619</td>\n",
       "      <td>1.000000</td>\n",
       "      <td>0.196024</td>\n",
       "      <td>0.173055</td>\n",
       "    </tr>\n",
       "    <tr>\n",
       "      <th>model year</th>\n",
       "      <td>0.413661</td>\n",
       "      <td>-0.273742</td>\n",
       "      <td>-0.218920</td>\n",
       "      <td>-0.196863</td>\n",
       "      <td>0.196024</td>\n",
       "      <td>1.000000</td>\n",
       "      <td>0.136967</td>\n",
       "    </tr>\n",
       "    <tr>\n",
       "      <th>origin</th>\n",
       "      <td>0.467249</td>\n",
       "      <td>-0.551610</td>\n",
       "      <td>-0.570074</td>\n",
       "      <td>-0.496185</td>\n",
       "      <td>0.173055</td>\n",
       "      <td>0.136967</td>\n",
       "      <td>1.000000</td>\n",
       "    </tr>\n",
       "  </tbody>\n",
       "</table>\n",
       "</div>"
      ],
      "text/plain": [
       "                   mpg  cylinders  displacement    weight  acceleration  \\\n",
       "mpg           1.000000  -0.686477     -0.679847 -0.694006      0.301096   \n",
       "cylinders    -0.686477   1.000000      0.794854  0.735481     -0.367194   \n",
       "displacement -0.679847   0.794854      1.000000  0.800508     -0.352110   \n",
       "weight       -0.694006   0.735481      0.800508  1.000000     -0.268619   \n",
       "acceleration  0.301096  -0.367194     -0.352110 -0.268619      1.000000   \n",
       "model year    0.413661  -0.273742     -0.218920 -0.196863      0.196024   \n",
       "origin        0.467249  -0.551610     -0.570074 -0.496185      0.173055   \n",
       "\n",
       "              model year    origin  \n",
       "mpg             0.413661  0.467249  \n",
       "cylinders      -0.273742 -0.551610  \n",
       "displacement   -0.218920 -0.570074  \n",
       "weight         -0.196863 -0.496185  \n",
       "acceleration    0.196024  0.173055  \n",
       "model year      1.000000  0.136967  \n",
       "origin          0.136967  1.000000  "
      ]
     },
     "execution_count": 9,
     "metadata": {},
     "output_type": "execute_result"
    }
   ],
   "source": [
    "ma.corr(method = \"kendall\")"
   ]
  },
  {
   "cell_type": "code",
   "execution_count": 13,
   "id": "13f345c0",
   "metadata": {},
   "outputs": [],
   "source": [
    "kendall_weight = -0.694006"
   ]
  },
  {
   "cell_type": "code",
   "execution_count": 14,
   "id": "a3f46b90",
   "metadata": {},
   "outputs": [
    {
     "data": {
      "text/plain": [
       "-0.69"
      ]
     },
     "execution_count": 14,
     "metadata": {},
     "output_type": "execute_result"
    }
   ],
   "source": [
    "round(weight,2)"
   ]
  },
  {
   "cell_type": "code",
   "execution_count": 15,
   "id": "edde24a9",
   "metadata": {},
   "outputs": [],
   "source": [
    "pearsonr_weight = -0.832"
   ]
  },
  {
   "cell_type": "code",
   "execution_count": 26,
   "id": "434a3146",
   "metadata": {},
   "outputs": [
    {
     "data": {
      "text/plain": [
       "-0.83"
      ]
     },
     "execution_count": 26,
     "metadata": {},
     "output_type": "execute_result"
    }
   ],
   "source": [
    "round(pearsonr_weight,2)"
   ]
  },
  {
   "cell_type": "code",
   "execution_count": 5,
   "id": "ed6235b5",
   "metadata": {},
   "outputs": [
    {
     "data": {
      "text/html": [
       "<div>\n",
       "<style scoped>\n",
       "    .dataframe tbody tr th:only-of-type {\n",
       "        vertical-align: middle;\n",
       "    }\n",
       "\n",
       "    .dataframe tbody tr th {\n",
       "        vertical-align: top;\n",
       "    }\n",
       "\n",
       "    .dataframe thead th {\n",
       "        text-align: right;\n",
       "    }\n",
       "</style>\n",
       "<table border=\"1\" class=\"dataframe\">\n",
       "  <thead>\n",
       "    <tr style=\"text-align: right;\">\n",
       "      <th></th>\n",
       "      <th>mpg</th>\n",
       "      <th>cylinders</th>\n",
       "      <th>displacement</th>\n",
       "      <th>weight</th>\n",
       "      <th>acceleration</th>\n",
       "      <th>model year</th>\n",
       "      <th>origin</th>\n",
       "    </tr>\n",
       "  </thead>\n",
       "  <tbody>\n",
       "    <tr>\n",
       "      <th>mpg</th>\n",
       "      <td>1.000000</td>\n",
       "      <td>-0.775396</td>\n",
       "      <td>-0.804203</td>\n",
       "      <td>-0.831741</td>\n",
       "      <td>0.420289</td>\n",
       "      <td>0.579267</td>\n",
       "      <td>0.563450</td>\n",
       "    </tr>\n",
       "    <tr>\n",
       "      <th>cylinders</th>\n",
       "      <td>-0.775396</td>\n",
       "      <td>1.000000</td>\n",
       "      <td>0.950721</td>\n",
       "      <td>0.896017</td>\n",
       "      <td>-0.505419</td>\n",
       "      <td>-0.348746</td>\n",
       "      <td>-0.562543</td>\n",
       "    </tr>\n",
       "    <tr>\n",
       "      <th>displacement</th>\n",
       "      <td>-0.804203</td>\n",
       "      <td>0.950721</td>\n",
       "      <td>1.000000</td>\n",
       "      <td>0.932824</td>\n",
       "      <td>-0.543684</td>\n",
       "      <td>-0.370164</td>\n",
       "      <td>-0.609409</td>\n",
       "    </tr>\n",
       "    <tr>\n",
       "      <th>weight</th>\n",
       "      <td>-0.831741</td>\n",
       "      <td>0.896017</td>\n",
       "      <td>0.932824</td>\n",
       "      <td>1.000000</td>\n",
       "      <td>-0.417457</td>\n",
       "      <td>-0.306564</td>\n",
       "      <td>-0.581024</td>\n",
       "    </tr>\n",
       "    <tr>\n",
       "      <th>acceleration</th>\n",
       "      <td>0.420289</td>\n",
       "      <td>-0.505419</td>\n",
       "      <td>-0.543684</td>\n",
       "      <td>-0.417457</td>\n",
       "      <td>1.000000</td>\n",
       "      <td>0.288137</td>\n",
       "      <td>0.205873</td>\n",
       "    </tr>\n",
       "    <tr>\n",
       "      <th>model year</th>\n",
       "      <td>0.579267</td>\n",
       "      <td>-0.348746</td>\n",
       "      <td>-0.370164</td>\n",
       "      <td>-0.306564</td>\n",
       "      <td>0.288137</td>\n",
       "      <td>1.000000</td>\n",
       "      <td>0.180662</td>\n",
       "    </tr>\n",
       "    <tr>\n",
       "      <th>origin</th>\n",
       "      <td>0.563450</td>\n",
       "      <td>-0.562543</td>\n",
       "      <td>-0.609409</td>\n",
       "      <td>-0.581024</td>\n",
       "      <td>0.205873</td>\n",
       "      <td>0.180662</td>\n",
       "      <td>1.000000</td>\n",
       "    </tr>\n",
       "  </tbody>\n",
       "</table>\n",
       "</div>"
      ],
      "text/plain": [
       "                   mpg  cylinders  displacement    weight  acceleration  \\\n",
       "mpg           1.000000  -0.775396     -0.804203 -0.831741      0.420289   \n",
       "cylinders    -0.775396   1.000000      0.950721  0.896017     -0.505419   \n",
       "displacement -0.804203   0.950721      1.000000  0.932824     -0.543684   \n",
       "weight       -0.831741   0.896017      0.932824  1.000000     -0.417457   \n",
       "acceleration  0.420289  -0.505419     -0.543684 -0.417457      1.000000   \n",
       "model year    0.579267  -0.348746     -0.370164 -0.306564      0.288137   \n",
       "origin        0.563450  -0.562543     -0.609409 -0.581024      0.205873   \n",
       "\n",
       "              model year    origin  \n",
       "mpg             0.579267  0.563450  \n",
       "cylinders      -0.348746 -0.562543  \n",
       "displacement   -0.370164 -0.609409  \n",
       "weight         -0.306564 -0.581024  \n",
       "acceleration    0.288137  0.205873  \n",
       "model year      1.000000  0.180662  \n",
       "origin          0.180662  1.000000  "
      ]
     },
     "execution_count": 5,
     "metadata": {},
     "output_type": "execute_result"
    }
   ],
   "source": [
    "ma.corr(method = \"pearson\")"
   ]
  },
  {
   "cell_type": "code",
   "execution_count": 6,
   "id": "6da21a4f",
   "metadata": {},
   "outputs": [
    {
     "name": "stdout",
     "output_type": "stream",
     "text": [
      "Pearsons correlation: -0.804\n"
     ]
    }
   ],
   "source": [
    "from scipy.stats import pearsonr \n",
    "corr,_ = pearsonr(ma.mpg,ma.displacement)\n",
    "print('Pearsons correlation: %.3f' % corr)"
   ]
  },
  {
   "cell_type": "code",
   "execution_count": 11,
   "id": "392bbf42",
   "metadata": {},
   "outputs": [
    {
     "ename": "TypeError",
     "evalue": "fit() missing 2 required positional arguments: 'X' and 'y'",
     "output_type": "error",
     "traceback": [
      "\u001b[1;31m---------------------------------------------------------------------------\u001b[0m",
      "\u001b[1;31mTypeError\u001b[0m                                 Traceback (most recent call last)",
      "\u001b[1;32m<ipython-input-11-9dfa36f00a93>\u001b[0m in \u001b[0;36m<module>\u001b[1;34m\u001b[0m\n\u001b[0;32m      1\u001b[0m \u001b[1;32mfrom\u001b[0m \u001b[0msklearn\u001b[0m\u001b[1;33m.\u001b[0m\u001b[0mlinear_model\u001b[0m \u001b[1;32mimport\u001b[0m \u001b[0mLinearRegression\u001b[0m\u001b[1;33m\u001b[0m\u001b[1;33m\u001b[0m\u001b[0m\n\u001b[0;32m      2\u001b[0m \u001b[0mlr\u001b[0m \u001b[1;33m=\u001b[0m \u001b[0mLinearRegression\u001b[0m\u001b[1;33m(\u001b[0m\u001b[1;33m)\u001b[0m\u001b[1;33m\u001b[0m\u001b[1;33m\u001b[0m\u001b[0m\n\u001b[1;32m----> 3\u001b[1;33m \u001b[0mlr\u001b[0m\u001b[1;33m.\u001b[0m\u001b[0mfit\u001b[0m\u001b[1;33m(\u001b[0m\u001b[1;33m)\u001b[0m\u001b[1;33m\u001b[0m\u001b[1;33m\u001b[0m\u001b[0m\n\u001b[0m\u001b[0;32m      4\u001b[0m \u001b[0mlr\u001b[0m\u001b[1;33m.\u001b[0m\u001b[0mcoef_\u001b[0m\u001b[1;33m\u001b[0m\u001b[1;33m\u001b[0m\u001b[0m\n",
      "\u001b[1;31mTypeError\u001b[0m: fit() missing 2 required positional arguments: 'X' and 'y'"
     ]
    }
   ],
   "source": [
    "from sklearn.linear_model import LinearRegression\n",
    "lr = LinearRegression()\n",
    "lr.fit()\n",
    "lr.coef_"
   ]
  },
  {
   "cell_type": "code",
   "execution_count": 20,
   "id": "86b3b4bf",
   "metadata": {},
   "outputs": [
    {
     "name": "stdout",
     "output_type": "stream",
     "text": [
      "kendall's correlation: -0.694\n"
     ]
    }
   ],
   "source": [
    "from scipy.stats import kendalltau\n",
    "corr,_ = kendalltau(ma.weight,ma.mpg)\n",
    "print(\"kendall's correlation: %.3f\" % corr)"
   ]
  },
  {
   "cell_type": "code",
   "execution_count": 23,
   "id": "917fd2e5",
   "metadata": {},
   "outputs": [],
   "source": [
    "psnr = pearsonr(weight,mpg)"
   ]
  },
  {
   "cell_type": "code",
   "execution_count": 24,
   "id": "182f8af4",
   "metadata": {},
   "outputs": [
    {
     "data": {
      "text/plain": [
       "(-0.831740933244335, 2.9727995640500577e-103)"
      ]
     },
     "execution_count": 24,
     "metadata": {},
     "output_type": "execute_result"
    }
   ],
   "source": [
    "psnr"
   ]
  },
  {
   "cell_type": "code",
   "execution_count": 36,
   "id": "b40457a4",
   "metadata": {},
   "outputs": [],
   "source": [
    "s5 = pd.DataFrame(np.array([kendall_weight]).round(2))\n",
    "s6 = pd.DataFrame(np.array([pearsonr_weight]).round(2))\n",
    "f3 = output.append(s5)\n",
    "output= f3.append(s6)\n",
    "output.to_csv(\"output.csv\")"
   ]
  },
  {
   "cell_type": "code",
   "execution_count": 37,
   "id": "1fecfe4f",
   "metadata": {},
   "outputs": [
    {
     "data": {
      "text/html": [
       "<div>\n",
       "<style scoped>\n",
       "    .dataframe tbody tr th:only-of-type {\n",
       "        vertical-align: middle;\n",
       "    }\n",
       "\n",
       "    .dataframe tbody tr th {\n",
       "        vertical-align: top;\n",
       "    }\n",
       "\n",
       "    .dataframe thead th {\n",
       "        text-align: right;\n",
       "    }\n",
       "</style>\n",
       "<table border=\"1\" class=\"dataframe\">\n",
       "  <thead>\n",
       "    <tr style=\"text-align: right;\">\n",
       "      <th></th>\n",
       "      <th>0</th>\n",
       "    </tr>\n",
       "  </thead>\n",
       "  <tbody>\n",
       "    <tr>\n",
       "      <th>0</th>\n",
       "      <td>23.51</td>\n",
       "    </tr>\n",
       "    <tr>\n",
       "      <th>0</th>\n",
       "      <td>23.00</td>\n",
       "    </tr>\n",
       "    <tr>\n",
       "      <th>0</th>\n",
       "      <td>13.00</td>\n",
       "    </tr>\n",
       "    <tr>\n",
       "      <th>0</th>\n",
       "      <td>7.82</td>\n",
       "    </tr>\n",
       "    <tr>\n",
       "      <th>0</th>\n",
       "      <td>-0.69</td>\n",
       "    </tr>\n",
       "    <tr>\n",
       "      <th>0</th>\n",
       "      <td>-0.83</td>\n",
       "    </tr>\n",
       "  </tbody>\n",
       "</table>\n",
       "</div>"
      ],
      "text/plain": [
       "       0\n",
       "0  23.51\n",
       "0  23.00\n",
       "0  13.00\n",
       "0   7.82\n",
       "0  -0.69\n",
       "0  -0.83"
      ]
     },
     "execution_count": 37,
     "metadata": {},
     "output_type": "execute_result"
    }
   ],
   "source": [
    "output"
   ]
  },
  {
   "cell_type": "markdown",
   "id": "3d9bb87b",
   "metadata": {},
   "source": [
    "- Read a sample of the above data set from a file. First, the name of the file containing the sample must be read from a file named testcaseauto.txt Example: autosample1 or autosample2. Then read the sample data from autosample1.csv or autosample2.csv respectively\n",
    "- Compute the mean and standard deviation of mpg column of this sample. Calculate and print the difference between the means & standard deviations of the sample and population data as: < value for population > – < value for sample > Print these two values in a file named outputn.csv on two separate rows"
   ]
  },
  {
   "cell_type": "code",
   "execution_count": 38,
   "id": "5506d1f5",
   "metadata": {},
   "outputs": [],
   "source": [
    "auto1 = pd.read_csv(r\"C:\\Users\\Shivani Dussa\\Downloads\\auto-mpg.csv\")"
   ]
  },
  {
   "cell_type": "code",
   "execution_count": 45,
   "id": "5fc3235c",
   "metadata": {},
   "outputs": [
    {
     "data": {
      "text/html": [
       "<div>\n",
       "<style scoped>\n",
       "    .dataframe tbody tr th:only-of-type {\n",
       "        vertical-align: middle;\n",
       "    }\n",
       "\n",
       "    .dataframe tbody tr th {\n",
       "        vertical-align: top;\n",
       "    }\n",
       "\n",
       "    .dataframe thead th {\n",
       "        text-align: right;\n",
       "    }\n",
       "</style>\n",
       "<table border=\"1\" class=\"dataframe\">\n",
       "  <thead>\n",
       "    <tr style=\"text-align: right;\">\n",
       "      <th></th>\n",
       "      <th>mpg</th>\n",
       "      <th>cylinders</th>\n",
       "      <th>displacement</th>\n",
       "      <th>horsepower</th>\n",
       "      <th>weight</th>\n",
       "      <th>acceleration</th>\n",
       "      <th>model year</th>\n",
       "      <th>origin</th>\n",
       "      <th>car name</th>\n",
       "    </tr>\n",
       "  </thead>\n",
       "  <tbody>\n",
       "    <tr>\n",
       "      <th>0</th>\n",
       "      <td>18.0</td>\n",
       "      <td>8</td>\n",
       "      <td>307.0</td>\n",
       "      <td>130</td>\n",
       "      <td>3504</td>\n",
       "      <td>12.0</td>\n",
       "      <td>70</td>\n",
       "      <td>1</td>\n",
       "      <td>chevrolet chevelle malibu</td>\n",
       "    </tr>\n",
       "    <tr>\n",
       "      <th>1</th>\n",
       "      <td>15.0</td>\n",
       "      <td>8</td>\n",
       "      <td>350.0</td>\n",
       "      <td>165</td>\n",
       "      <td>3693</td>\n",
       "      <td>11.5</td>\n",
       "      <td>70</td>\n",
       "      <td>1</td>\n",
       "      <td>buick skylark 320</td>\n",
       "    </tr>\n",
       "    <tr>\n",
       "      <th>2</th>\n",
       "      <td>18.0</td>\n",
       "      <td>8</td>\n",
       "      <td>318.0</td>\n",
       "      <td>150</td>\n",
       "      <td>3436</td>\n",
       "      <td>11.0</td>\n",
       "      <td>70</td>\n",
       "      <td>1</td>\n",
       "      <td>plymouth satellite</td>\n",
       "    </tr>\n",
       "    <tr>\n",
       "      <th>3</th>\n",
       "      <td>16.0</td>\n",
       "      <td>8</td>\n",
       "      <td>304.0</td>\n",
       "      <td>150</td>\n",
       "      <td>3433</td>\n",
       "      <td>12.0</td>\n",
       "      <td>70</td>\n",
       "      <td>1</td>\n",
       "      <td>amc rebel sst</td>\n",
       "    </tr>\n",
       "    <tr>\n",
       "      <th>4</th>\n",
       "      <td>17.0</td>\n",
       "      <td>8</td>\n",
       "      <td>302.0</td>\n",
       "      <td>140</td>\n",
       "      <td>3449</td>\n",
       "      <td>10.5</td>\n",
       "      <td>70</td>\n",
       "      <td>1</td>\n",
       "      <td>ford torino</td>\n",
       "    </tr>\n",
       "  </tbody>\n",
       "</table>\n",
       "</div>"
      ],
      "text/plain": [
       "    mpg  cylinders  displacement horsepower  weight  acceleration  model year  \\\n",
       "0  18.0          8         307.0        130    3504          12.0          70   \n",
       "1  15.0          8         350.0        165    3693          11.5          70   \n",
       "2  18.0          8         318.0        150    3436          11.0          70   \n",
       "3  16.0          8         304.0        150    3433          12.0          70   \n",
       "4  17.0          8         302.0        140    3449          10.5          70   \n",
       "\n",
       "   origin                   car name  \n",
       "0       1  chevrolet chevelle malibu  \n",
       "1       1          buick skylark 320  \n",
       "2       1         plymouth satellite  \n",
       "3       1              amc rebel sst  \n",
       "4       1                ford torino  "
      ]
     },
     "execution_count": 45,
     "metadata": {},
     "output_type": "execute_result"
    }
   ],
   "source": [
    "auto1.head()"
   ]
  },
  {
   "cell_type": "code",
   "execution_count": 39,
   "id": "96c03bbe",
   "metadata": {},
   "outputs": [
    {
     "data": {
      "text/plain": [
       "23.514572864321615"
      ]
     },
     "execution_count": 39,
     "metadata": {},
     "output_type": "execute_result"
    }
   ],
   "source": [
    "textauto_mean = auto1['mpg'].mean()\n",
    "textauto_mean"
   ]
  },
  {
   "cell_type": "code",
   "execution_count": 40,
   "id": "bf2ed0e3",
   "metadata": {},
   "outputs": [
    {
     "data": {
      "text/plain": [
       "7.815984312565782"
      ]
     },
     "execution_count": 40,
     "metadata": {},
     "output_type": "execute_result"
    }
   ],
   "source": [
    "textauto_std= auto1['mpg'].std()\n",
    "textauto_std"
   ]
  },
  {
   "cell_type": "code",
   "execution_count": 49,
   "id": "2d25367e",
   "metadata": {},
   "outputs": [
    {
     "data": {
      "text/html": [
       "<div>\n",
       "<style scoped>\n",
       "    .dataframe tbody tr th:only-of-type {\n",
       "        vertical-align: middle;\n",
       "    }\n",
       "\n",
       "    .dataframe tbody tr th {\n",
       "        vertical-align: top;\n",
       "    }\n",
       "\n",
       "    .dataframe thead th {\n",
       "        text-align: right;\n",
       "    }\n",
       "</style>\n",
       "<table border=\"1\" class=\"dataframe\">\n",
       "  <thead>\n",
       "    <tr style=\"text-align: right;\">\n",
       "      <th></th>\n",
       "      <th>mpg</th>\n",
       "      <th>cylinders</th>\n",
       "      <th>displacement</th>\n",
       "      <th>horsepower</th>\n",
       "      <th>weight</th>\n",
       "      <th>acceleration</th>\n",
       "      <th>model year</th>\n",
       "      <th>origin</th>\n",
       "      <th>car name</th>\n",
       "    </tr>\n",
       "  </thead>\n",
       "  <tbody>\n",
       "    <tr>\n",
       "      <th>0</th>\n",
       "      <td>18.0</td>\n",
       "      <td>8</td>\n",
       "      <td>307.0</td>\n",
       "      <td>130</td>\n",
       "      <td>3504</td>\n",
       "      <td>12.0</td>\n",
       "      <td>70</td>\n",
       "      <td>1</td>\n",
       "      <td>chevrolet chevelle malibu</td>\n",
       "    </tr>\n",
       "    <tr>\n",
       "      <th>1</th>\n",
       "      <td>15.0</td>\n",
       "      <td>8</td>\n",
       "      <td>350.0</td>\n",
       "      <td>165</td>\n",
       "      <td>3693</td>\n",
       "      <td>11.5</td>\n",
       "      <td>70</td>\n",
       "      <td>1</td>\n",
       "      <td>buick skylark 320</td>\n",
       "    </tr>\n",
       "    <tr>\n",
       "      <th>2</th>\n",
       "      <td>18.0</td>\n",
       "      <td>8</td>\n",
       "      <td>318.0</td>\n",
       "      <td>150</td>\n",
       "      <td>3436</td>\n",
       "      <td>11.0</td>\n",
       "      <td>70</td>\n",
       "      <td>1</td>\n",
       "      <td>plymouth satellite</td>\n",
       "    </tr>\n",
       "    <tr>\n",
       "      <th>3</th>\n",
       "      <td>16.0</td>\n",
       "      <td>8</td>\n",
       "      <td>304.0</td>\n",
       "      <td>150</td>\n",
       "      <td>3433</td>\n",
       "      <td>12.0</td>\n",
       "      <td>70</td>\n",
       "      <td>1</td>\n",
       "      <td>amc rebel sst</td>\n",
       "    </tr>\n",
       "    <tr>\n",
       "      <th>4</th>\n",
       "      <td>17.0</td>\n",
       "      <td>8</td>\n",
       "      <td>302.0</td>\n",
       "      <td>140</td>\n",
       "      <td>3449</td>\n",
       "      <td>10.5</td>\n",
       "      <td>70</td>\n",
       "      <td>1</td>\n",
       "      <td>ford torino</td>\n",
       "    </tr>\n",
       "  </tbody>\n",
       "</table>\n",
       "</div>"
      ],
      "text/plain": [
       "    mpg  cylinders  displacement horsepower  weight  acceleration  model year  \\\n",
       "0  18.0          8         307.0        130    3504          12.0          70   \n",
       "1  15.0          8         350.0        165    3693          11.5          70   \n",
       "2  18.0          8         318.0        150    3436          11.0          70   \n",
       "3  16.0          8         304.0        150    3433          12.0          70   \n",
       "4  17.0          8         302.0        140    3449          10.5          70   \n",
       "\n",
       "   origin                   car name  \n",
       "0       1  chevrolet chevelle malibu  \n",
       "1       1          buick skylark 320  \n",
       "2       1         plymouth satellite  \n",
       "3       1              amc rebel sst  \n",
       "4       1                ford torino  "
      ]
     },
     "execution_count": 49,
     "metadata": {},
     "output_type": "execute_result"
    }
   ],
   "source": [
    "auto1.head()"
   ]
  },
  {
   "cell_type": "code",
   "execution_count": 44,
   "id": "0e858b2a",
   "metadata": {},
   "outputs": [],
   "source": [
    "#Calculate and print the difference between the means & standard deviations of the sample and population data as:\n",
    "#< value for population > – < value for sample >"
   ]
  },
  {
   "cell_type": "code",
   "execution_count": null,
   "id": "a4b04406",
   "metadata": {},
   "outputs": [],
   "source": [
    "#Calculate and print the difference between the means & standard deviations"
   ]
  },
  {
   "cell_type": "code",
   "execution_count": 47,
   "id": "c89ffe80",
   "metadata": {},
   "outputs": [],
   "source": [
    "value_for_population = standard_deviation "
   ]
  },
  {
   "cell_type": "code",
   "execution_count": 48,
   "id": "33d6aa0c",
   "metadata": {},
   "outputs": [],
   "source": [
    "value_for_mean = mean"
   ]
  },
  {
   "cell_type": "code",
   "execution_count": 53,
   "id": "d93ff1ac",
   "metadata": {},
   "outputs": [
    {
     "data": {
      "text/plain": [
       "-15.690000000000001"
      ]
     },
     "execution_count": 53,
     "metadata": {},
     "output_type": "execute_result"
    }
   ],
   "source": [
    "a = value_for_population - value_for_mean\n",
    "a"
   ]
  },
  {
   "cell_type": "code",
   "execution_count": 50,
   "id": "e22c0155",
   "metadata": {},
   "outputs": [],
   "source": [
    "value_for_population1 = textauto_std\n",
    "value_for_mean1 = textauto_mean"
   ]
  },
  {
   "cell_type": "code",
   "execution_count": 54,
   "id": "ac1bc019",
   "metadata": {},
   "outputs": [
    {
     "data": {
      "text/plain": [
       "-15.698588551755833"
      ]
     },
     "execution_count": 54,
     "metadata": {},
     "output_type": "execute_result"
    }
   ],
   "source": [
    "b = value_for_population1 - value_for_mean1\n",
    "b"
   ]
  },
  {
   "cell_type": "code",
   "execution_count": 55,
   "id": "5881ab90",
   "metadata": {},
   "outputs": [],
   "source": [
    "v1 = pd.DataFrame(np.array([a]).round(2))\n",
    "v2 = pd.DataFrame(np.array([b]).round(2))\n",
    "output1 = v1.append(v2)"
   ]
  },
  {
   "cell_type": "code",
   "execution_count": 59,
   "id": "a289a65e",
   "metadata": {},
   "outputs": [],
   "source": [
    "output1 = v1.append(v2)"
   ]
  },
  {
   "cell_type": "code",
   "execution_count": 60,
   "id": "3a96c822",
   "metadata": {},
   "outputs": [
    {
     "data": {
      "text/html": [
       "<div>\n",
       "<style scoped>\n",
       "    .dataframe tbody tr th:only-of-type {\n",
       "        vertical-align: middle;\n",
       "    }\n",
       "\n",
       "    .dataframe tbody tr th {\n",
       "        vertical-align: top;\n",
       "    }\n",
       "\n",
       "    .dataframe thead th {\n",
       "        text-align: right;\n",
       "    }\n",
       "</style>\n",
       "<table border=\"1\" class=\"dataframe\">\n",
       "  <thead>\n",
       "    <tr style=\"text-align: right;\">\n",
       "      <th></th>\n",
       "      <th>0</th>\n",
       "    </tr>\n",
       "  </thead>\n",
       "  <tbody>\n",
       "    <tr>\n",
       "      <th>0</th>\n",
       "      <td>-15.69</td>\n",
       "    </tr>\n",
       "    <tr>\n",
       "      <th>0</th>\n",
       "      <td>-15.70</td>\n",
       "    </tr>\n",
       "  </tbody>\n",
       "</table>\n",
       "</div>"
      ],
      "text/plain": [
       "       0\n",
       "0 -15.69\n",
       "0 -15.70"
      ]
     },
     "execution_count": 60,
     "metadata": {},
     "output_type": "execute_result"
    }
   ],
   "source": [
    "output1"
   ]
  },
  {
   "cell_type": "code",
   "execution_count": 61,
   "id": "ab1b4e9d",
   "metadata": {},
   "outputs": [],
   "source": [
    "output1.to_csv(\"output1.csv\")"
   ]
  },
  {
   "cell_type": "markdown",
   "id": "cc7f9101",
   "metadata": {},
   "source": [
    "---------------------------------------\n",
    "---------------"
   ]
  },
  {
   "cell_type": "code",
   "execution_count": 46,
   "id": "1074b8d4",
   "metadata": {},
   "outputs": [
    {
     "data": {
      "text/plain": [
       "-15.690000000000001"
      ]
     },
     "execution_count": 46,
     "metadata": {},
     "output_type": "execute_result"
    }
   ],
   "source": [
    "standard_deviation - mean"
   ]
  },
  {
   "cell_type": "code",
   "execution_count": 55,
   "id": "7d0b4dd8",
   "metadata": {},
   "outputs": [
    {
     "data": {
      "text/plain": [
       "-0.004572864321612968"
      ]
     },
     "execution_count": 55,
     "metadata": {},
     "output_type": "execute_result"
    }
   ],
   "source": [
    "mean - textauto_mean"
   ]
  },
  {
   "cell_type": "code",
   "execution_count": 56,
   "id": "85d7b288",
   "metadata": {},
   "outputs": [
    {
     "data": {
      "text/plain": [
       "0.004015687434217874"
      ]
     },
     "execution_count": 56,
     "metadata": {},
     "output_type": "execute_result"
    }
   ],
   "source": [
    "standard_deviation - textauto_std"
   ]
  },
  {
   "cell_type": "code",
   "execution_count": 58,
   "id": "82999765",
   "metadata": {},
   "outputs": [
    {
     "data": {
      "text/plain": [
       "0.008588551755830842"
      ]
     },
     "execution_count": 58,
     "metadata": {},
     "output_type": "execute_result"
    }
   ],
   "source": [
    "0.004015687434217874 - (-0.004572864321612968)"
   ]
  },
  {
   "cell_type": "code",
   "execution_count": 60,
   "id": "9172ecb8",
   "metadata": {},
   "outputs": [
    {
     "name": "stdout",
     "output_type": "stream",
     "text": [
      "23.51\n",
      "23.514572864321615\n"
     ]
    }
   ],
   "source": [
    "print(mean)\n",
    "print(textauto_mean)"
   ]
  },
  {
   "cell_type": "code",
   "execution_count": 61,
   "id": "b5590552",
   "metadata": {},
   "outputs": [
    {
     "name": "stdout",
     "output_type": "stream",
     "text": [
      "7.82\n",
      "7.815984312565782\n"
     ]
    }
   ],
   "source": [
    "print(standard_deviation)\n",
    "print(textauto_std)"
   ]
  },
  {
   "cell_type": "code",
   "execution_count": 62,
   "id": "546f4760",
   "metadata": {},
   "outputs": [
    {
     "data": {
      "text/plain": [
       "-15.690000000000001"
      ]
     },
     "execution_count": 62,
     "metadata": {},
     "output_type": "execute_result"
    }
   ],
   "source": [
    "standard_deviation - mean"
   ]
  }
 ],
 "metadata": {
  "kernelspec": {
   "display_name": "Python 3 (ipykernel)",
   "language": "python",
   "name": "python3"
  },
  "language_info": {
   "codemirror_mode": {
    "name": "ipython",
    "version": 3
   },
   "file_extension": ".py",
   "mimetype": "text/x-python",
   "name": "python",
   "nbconvert_exporter": "python",
   "pygments_lexer": "ipython3",
   "version": "3.9.12"
  }
 },
 "nbformat": 4,
 "nbformat_minor": 5
}
