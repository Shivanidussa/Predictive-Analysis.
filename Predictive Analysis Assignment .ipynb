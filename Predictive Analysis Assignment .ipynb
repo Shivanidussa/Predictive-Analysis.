{
 "cells": [
  {
   "cell_type": "markdown",
   "id": "cfcd111b",
   "metadata": {},
   "source": [
    "## Generate random numbers to perform Linear Regression "
   ]
  },
  {
   "cell_type": "markdown",
   "id": "a1501300",
   "metadata": {},
   "source": [
    "1. Set seed to 1\n",
    "\n",
    "2. Create 500 observations based on Standard Normal Distribution (Mean = 0 & Standard Deviation = 1.0) and store them into variable X\n",
    "\n",
    "3. Create 500 observations based on Normal Distribution with mean as 0.5 and variance as 0.75 and store them into variable err\n",
    "\n",
    "4. Using X and err, generate y as y = -1+0.5*X+err\n",
    "\n",
    "5. Fit a polynomial regression model as follows:\n",
    "\n",
    "First, fit & transform X using fit_transform and polynomial features of degree 2\n",
    "Use this transformed X and y for fitting a linear regression model\n",
    "Print the values of its coefficients and intercept in a file named 'output/output.csv'\n",
    "6. Predict the values for y using the above model\n",
    "\n",
    "Use the above model to predict the values of y based on the transformed X\n",
    "Calculate the Mean Square Error in the predicted y and actual y\n",
    "Print its value to the same file output.csv below the existing rows created in Step 5"
   ]
  },
  {
   "cell_type": "code",
   "execution_count": 49,
   "id": "bc844c50",
   "metadata": {},
   "outputs": [],
   "source": [
    "import scipy.stats\n",
    "from scipy import stats\n",
    "import random\n",
    "import numpy as np\n",
    "import pandas as pd\n",
    "import sys\n",
    "sys.path.append('../')\n",
    "from scipy.stats import uniform,norm\n",
    "from sklearn.linear_model import LinearRegression\n",
    "from sklearn.preprocessing import PolynomialFeatures"
   ]
  },
  {
   "cell_type": "code",
   "execution_count": 17,
   "id": "aabe9f22",
   "metadata": {},
   "outputs": [],
   "source": [
    "np.set_printoptions(formatter={'float_kind': '{:.2f}'.format})"
   ]
  },
  {
   "cell_type": "code",
   "execution_count": 91,
   "id": "aa25a2ed",
   "metadata": {
    "scrolled": true
   },
   "outputs": [
    {
     "data": {
      "text/plain": [
       "array([1.62, -0.61, -0.53, -1.07, 0.87, -2.30, 1.74, -0.76, 0.32, -0.25,\n",
       "       1.46, -2.06, -0.32, -0.38, 1.13, -1.10, -0.17, -0.88, 0.04, 0.58,\n",
       "       -1.10, 1.14, 0.90, 0.50, 0.90, -0.68, -0.12, -0.94, -0.27, 0.53,\n",
       "       -0.69, -0.40, -0.69, -0.85, -0.67, -0.01, -1.12, 0.23, 1.66, 0.74,\n",
       "       -0.19, -0.89, -0.75, 1.69, 0.05, -0.64, 0.19, 2.10, 0.12, 0.62,\n",
       "       0.30, -0.35, -1.14, -0.35, -0.21, 0.59, 0.84, 0.93, 0.29, 0.89,\n",
       "       -0.75, 1.25, 0.51, -0.30, 0.49, -0.08, 1.13, 1.52, 2.19, -1.40,\n",
       "       -1.44, -0.50, 0.16, 0.88, 0.32, -2.02, -0.31, 0.83, 0.23, 0.76,\n",
       "       -0.22, -0.20, 0.19, 0.41, 0.20, 0.12, -0.67, 0.38, 0.12, 1.13,\n",
       "       1.20, 0.19, -0.38, -0.64, 0.42, 0.08, -0.34, 0.04, -0.62, 0.70,\n",
       "       -0.45, 1.22, 0.40, 0.59, -1.09, 0.17, 0.74, -0.95, -0.27, 0.03,\n",
       "       -1.37, 0.32, 0.85, -0.86, 0.35, -1.31, -0.04, -1.62, 1.12, 0.41,\n",
       "       -0.02, -0.78, 1.27, 1.97, -1.86, 1.24, 1.63, 0.34, -1.20, 0.86,\n",
       "       -0.18, -0.60, -1.23, 0.55, 0.79, -0.62, 0.52, -1.14, 0.80, 0.05,\n",
       "       -0.19, -0.10, 0.87, 0.75, 0.53, 0.14, 0.08, 0.62, 0.23, 0.68,\n",
       "       -0.31, -2.43, 1.04, 2.19, 0.44, -0.10, -0.14, -0.12, 0.02, -1.12,\n",
       "       -0.52, -1.00, 0.25, -0.30, 0.50, -0.17, 0.99, 0.21, 2.19, -1.90,\n",
       "       -0.65, 0.90, 2.53, -0.25, 0.04, -0.23, 1.33, -0.29, 0.68, -0.32,\n",
       "       -1.27, 0.31, 0.50, 1.29, -0.11, -0.62, 0.56, 0.24, 0.28, -0.07,\n",
       "       1.16, 0.37, 1.90, 1.11, 0.66, -1.63, 0.60, 0.42, 0.81, 1.04, -0.40,\n",
       "       0.82, -0.56, 1.95, -1.33, -1.76, -1.65, -0.89, -1.12, 1.96, -0.33,\n",
       "       -1.34, 1.11, -0.59, -1.24, 0.88, 0.62, -0.43, 1.41, 0.13, 1.62,\n",
       "       0.50, 1.56, 0.11, -1.22, 2.45, -0.55, -0.20, -0.70, -0.20, 0.24,\n",
       "       0.20, 0.66, 1.79, -0.12, -1.23, -1.18, -0.67, -1.67, 0.83, -0.50,\n",
       "       -0.31, -0.00, -1.40, -0.86, 0.67, 0.62, -0.44, 1.81, -1.31, -0.34,\n",
       "       -0.23, -2.79, 1.94, 0.37, -1.04, 2.05, 0.59, 0.43, -0.61, 0.11,\n",
       "       -1.53, 0.80, -0.37, 0.13, 1.20, 0.28, 0.26, 0.28, -0.73, 0.84,\n",
       "       1.54, 0.76, 0.88, -0.88, -0.87, -1.44, 1.23, -0.25, 1.40, -0.78,\n",
       "       -0.44, 0.10, 0.92, 0.06, 0.21, 0.02, 0.18, -1.12, 0.08, -0.19,\n",
       "       -0.06, 0.49, -0.68, -0.08, -0.30, 0.42, 0.78, -0.96, 0.59, 2.07,\n",
       "       -1.47, -0.83, -0.88, -0.28, 1.62, 0.01, -0.69, 0.62, -0.60, 1.12,\n",
       "       0.31, 1.39, -0.66, 3.03, 0.82, 0.65, -0.05, -0.73, -0.87, -0.14,\n",
       "       -0.80, 0.28, -0.83, 0.62, 0.96, -0.71, 1.19, -0.24, 1.16, 0.44,\n",
       "       1.12, -1.00, -0.11, 1.45, -0.62, -2.04, -1.94, -2.51, -2.11, -0.41,\n",
       "       1.28, -0.44, 0.32, -0.11, 0.01, -0.17, -0.17, 0.46, -1.18, 1.01,\n",
       "       0.92, -0.20, 0.81, -0.70, -0.54, 0.16, -0.19, -0.45, -0.67, -0.56,\n",
       "       0.94, -1.94, 0.35, -0.24, 0.73, 0.52, -2.78, 0.58, 0.32, 0.02,\n",
       "       -0.47, 0.85, -0.41, 1.83, 0.56, 2.14, -0.79, -1.76, 0.71, 0.85,\n",
       "       0.04, -1.54, -0.45, 0.62, -0.18, -0.12, -0.18, -0.93, -0.53, -1.43,\n",
       "       1.77, -0.48, 0.48, -1.02, 0.79, -1.87, 0.92, -0.04, 2.11, -1.31,\n",
       "       0.08, 0.37, 1.23, -0.42, 0.09, -2.14, -0.83, 0.45, 1.10, -0.28,\n",
       "       2.06, 1.76, -0.06, -2.41, -1.78, -0.78, 1.12, 0.31, -2.09, -0.23,\n",
       "       1.61, -0.37, -0.75, 2.05, 0.05, -0.48, 0.35, 0.02, -0.43, 1.21,\n",
       "       1.12, 0.84, -0.10, 1.15, -0.05, 0.47, 1.03, 0.81, 1.79, 0.45,\n",
       "       -1.68, -1.16, 1.35, -0.33, 0.39, -0.85, 1.00, -0.38, 1.46, -0.53,\n",
       "       1.12, 0.67, -0.72, 1.10, -0.90, -0.82, 0.72, -0.63, -0.59, -0.34,\n",
       "       -1.00, 1.04, 0.61, -0.07, -0.11, 0.45, 1.77, 0.87, -0.51, 0.78,\n",
       "       -0.12, -0.20, 1.87, -0.42, -0.48, -1.95, -1.40, 0.45, -0.69, 0.52,\n",
       "       -1.11, -0.77, 0.67, 1.46, 0.59, 1.20, 1.70, 1.04, -0.92, -0.11,\n",
       "       0.63, -0.41, 0.45, -1.58, -0.83, 0.53, -2.24, -1.11, -0.02])"
      ]
     },
     "execution_count": 91,
     "metadata": {},
     "output_type": "execute_result"
    }
   ],
   "source": [
    "X = np.random.seed(1)\n",
    "X = np.random.normal(Mean,Standard_deviation,size = 500)\n",
    "X"
   ]
  },
  {
   "cell_type": "code",
   "execution_count": 70,
   "id": "bd3960f0",
   "metadata": {
    "scrolled": true
   },
   "outputs": [
    {
     "name": "stdout",
     "output_type": "stream",
     "text": [
      "[-0.46 1.71 0.24 -1.00 0.40 -0.19 -3.05 0.48 -1.55 0.58 -0.96 -1.46 0.49\n",
      " -1.49 -0.45 0.20 0.61 0.74 -0.04 -0.83 1.92 -0.61 1.80 -0.45 1.16 1.07\n",
      " -1.05 0.36 0.76 0.70 -0.20 0.30 -0.39 -1.17 0.98 -0.56 1.38 0.60 -0.89\n",
      " -0.16 -0.29 -0.87 0.50 -0.48 1.63 0.86 -0.88 -0.02 -0.23 -1.56 0.93 0.95\n",
      " 0.93 -0.46 1.07 -0.21 0.94 1.81 0.14 -1.42 -0.32 0.64 1.22 -1.13 -0.19\n",
      " 0.23 0.43 0.91 -0.95 -0.42 1.01 0.39 0.45 1.13 0.10 0.53 -0.31 -1.35\n",
      " -1.30 0.07 -0.20 -0.65 0.32 -0.89 0.11 -0.02 -0.84 -2.30 1.46 0.32 -2.66\n",
      " -0.43 0.39 -0.23 0.58 -0.97 0.18 -0.05 -0.18 -0.22 0.20 0.93 -0.53 -0.41\n",
      " 0.16 -0.12 0.39 0.72 1.29 -0.12 -2.28 -0.07 0.35 -0.19 -0.15 -2.43 0.51\n",
      " -0.32 -1.51 -0.87 -0.86 0.61 0.56 1.51 0.65 -1.35 -1.41 1.13 1.57 -0.24\n",
      " 0.56 -1.50 -1.94 -1.17 -0.36 -0.52 -0.23 -0.49 0.68 1.43 0.04 2.03 -0.63\n",
      " -0.53 0.39 -0.35 1.18 -0.64 1.32 0.19 2.57 -0.46 -0.20 0.15 -2.18 0.60\n",
      " 0.48 0.11 -1.54 -1.55 0.59 1.18 1.59 -0.90 -1.03 -0.27 -1.98 -0.59 0.85\n",
      " 1.63 0.28 1.64 0.41 0.19 -0.17 0.19 -0.25 -0.14 -0.66 0.26 0.01 -1.48\n",
      " -0.24 -0.86 -2.05 0.48 1.56 2.37 1.56 -0.87 1.18 1.12 -1.99 0.86 0.63\n",
      " 0.16 0.29 0.06 1.63 -0.40 -0.20 0.01 0.28 -1.76 1.39 0.23 0.57 0.20 -0.19\n",
      " -0.36 0.10 0.15 1.16 0.35 -0.13 1.99 -1.28 -1.34 0.35 -0.21 -1.77 -0.31\n",
      " -0.71 1.13 -0.62 1.05 0.46 -0.21 0.02 0.43 -2.31 0.33 -0.38 1.80 -0.69\n",
      " 1.14 -2.51 0.81 0.28 -0.25 -0.12 -0.26 0.42 -0.13 -1.79 -0.19 2.23 0.05\n",
      " 0.29 -0.44 0.17 0.18 -0.26 0.86 -0.92 -0.13 0.51 -0.27 -1.22 0.56 -0.98\n",
      " -0.45 -0.83 -0.11 -0.43 -0.47 0.68 1.76 -0.36 0.52 -0.36 0.10 1.13 0.05\n",
      " -0.82 -0.73 -0.62 -0.01 0.86 -1.36 -1.04 -0.92 -1.75 1.33 -0.04 1.90\n",
      " -1.42 1.29 -0.70 -0.41 -0.99 -0.95 -1.32 0.22 -1.31 -0.24 -0.01 0.67 0.10\n",
      " 0.32 0.51 -0.02 0.36 -0.98 -0.78 1.90 -0.01 -0.71 1.38 -0.16 -0.65 -1.45\n",
      " 0.78 -1.09 -0.54 0.64 0.18 -0.09 -0.21 1.15 2.23 -0.55 0.57 1.93 1.08\n",
      " -0.69 -0.43 -0.60 -0.91 -0.62 0.26 -0.59 0.88 0.12 -0.40 0.89 0.32 0.26\n",
      " 1.04 0.57 -0.11 0.94 0.31 2.92 1.10 1.15 1.29 0.08 1.31 0.02 -0.83 -0.56\n",
      " 0.53 -1.56 0.21 -0.73 0.72 -0.75 1.87 0.77 -1.27 1.76 -0.23 -0.73 -1.02\n",
      " 0.57 1.50 -0.58 -1.00 -1.14 1.50 1.67 -0.35 0.54 -0.00 -0.06 0.96 0.44\n",
      " 0.33 -0.29 0.82 -0.28 0.05 0.22 -1.20 -0.30 -0.31 0.10 -1.11 -1.19 1.62\n",
      " 1.16 0.89 1.82 0.42 -0.09 0.48 -1.88 -1.10 0.76 0.03 -1.28 0.66 1.00 0.67\n",
      " -0.03 -0.84 0.11 0.43 -0.36 0.60 0.31 0.33 -2.03 1.08 1.72 -0.40 -1.48\n",
      " 0.64 -0.47 -0.97 1.22 -1.38 0.72 -1.25 1.46 0.52 -0.26 0.15 0.58 0.83\n",
      " 0.83 0.55 -0.48 0.66 -1.31 1.00 0.87 1.39 -0.59 0.19 0.86 0.32 -0.43 0.31\n",
      " 0.07 1.00 -0.63 0.34 0.29 0.76 -0.07 0.13 -0.07 0.03 0.01 -0.33 2.83\n",
      " -0.84 -1.17 -0.80 -0.71 0.01 1.43 1.69 0.24 -2.50 0.38 -1.31 -0.50 -1.15\n",
      " 0.43 -0.63 0.77 0.48 -0.24 0.08 0.92 -0.37 0.92 -0.02 0.27 0.80 1.33 0.52\n",
      " 0.06 0.72 -1.55 1.64 -1.33 0.90 -0.56 0.51 -0.12 0.30 -0.80 -2.16 0.41\n",
      " -0.60 -0.65]\n"
     ]
    }
   ],
   "source": [
    "mean = 0.5\n",
    "varaiance = 0.75\n",
    "err = stats.norm(mean,varaiance)\n",
    "err = norm.rvs(size = 500)\n",
    "print(err)"
   ]
  },
  {
   "cell_type": "code",
   "execution_count": 93,
   "id": "d8c55669",
   "metadata": {},
   "outputs": [],
   "source": [
    "histplt = pd.DataFrame(err)\n",
    "histplt1 = pd.DataFrame(X)"
   ]
  },
  {
   "cell_type": "code",
   "execution_count": 95,
   "id": "e3b44a06",
   "metadata": {},
   "outputs": [
    {
     "data": {
      "image/png": "[encoded data removed]",
      "text/plain": [
       "<Figure size 432x288 with 1 Axes>"
      ]
     },
     "metadata": {
      "needs_background": "light"
     },
     "output_type": "display_data"
    }
   ],
   "source": [
    "hist = histplt.hist()"
   ]
  },
  {
   "cell_type": "code",
   "execution_count": 30,
   "id": "0d170ebf",
   "metadata": {},
   "outputs": [],
   "source": [
    "# Generating y\n",
    "#y = -1+0.5*X+err\n",
    "y = -1 +0.5 * X + err"
   ]
  },
  {
   "cell_type": "code",
   "execution_count": 33,
   "id": "e96e049b",
   "metadata": {},
   "outputs": [
    {
     "data": {
      "text/plain": [
       "-0.5"
      ]
     },
     "execution_count": 33,
     "metadata": {},
     "output_type": "execute_result"
    }
   ],
   "source": [
    "y = -1 + 0.5 \n",
    "y"
   ]
  },
  {
   "cell_type": "code",
   "execution_count": 43,
   "id": "beac6edb",
   "metadata": {
    "collapsed": true
   },
   "outputs": [
    {
     "data": {
      "text/plain": [
       "array([-0.67, 1.35, 0.24, -1.15, 0.33, -0.24, -3.15, 0.31, -1.75, 0.31,\n",
       "       -1.17, -1.80, 0.39, -1.93, -0.46, -0.13, 0.40, 0.47, -0.11, -0.93,\n",
       "       1.52, -1.09, 1.65, -0.80, 0.72, 0.62, -1.09, 0.34, 0.67, 0.26,\n",
       "       -0.25, 0.09, -0.87, -1.44, 0.64, -0.72, 1.04, 0.19, -0.90, -0.54,\n",
       "       -0.78, -1.24, 0.36, -0.87, 1.58, 0.64, -1.33, -0.17, -0.37, -1.63,\n",
       "       0.92, 0.61, 0.82, -0.59, 0.82, -0.24, 0.65, 1.74, -0.15, -1.77,\n",
       "       -0.37, 0.43, 0.87, -1.34, -0.22, -0.03, 0.10, 0.65, -1.42, -0.72,\n",
       "       0.56, 0.32, 0.38, 0.72, -0.09, 0.45, -0.78, -1.52, -1.67, -0.29,\n",
       "       -0.64, -0.97, -0.06, -1.06, -0.02, -0.47, -1.05, -2.78, 1.12, 0.01,\n",
       "       -2.72, -0.90, 0.17, -0.52, 0.38, -1.09, -0.28, -0.34, -0.18, -0.53,\n",
       "       0.04, 0.67, -0.97, -0.59, -0.29, -0.43, 0.38, 0.25, 0.95, -0.62,\n",
       "       -2.36, -0.14, -0.11, -0.54, -0.19, -2.81, 0.13, -0.79, -1.87,\n",
       "       -0.93, -0.87, 0.60, 0.55, 1.39, 0.22, -1.62, -1.69, 0.71, 1.50,\n",
       "       -0.38, 0.27, -1.99, -2.22, -1.18, -0.76, -0.64, -0.63, -0.68, 0.25,\n",
       "       1.05, -0.24, 1.96, -0.66, -0.59, 0.37, -0.41, 1.06, -1.00, 1.04,\n",
       "       0.19, 2.53, -0.95, -0.49, 0.04, -2.31, 0.23, 0.38, -0.18, -2.03,\n",
       "       -1.97, 0.47, 0.93, 1.28, -1.31, -1.11, -0.28, -2.01, -0.83, 0.55,\n",
       "       1.35, 0.12, 1.15, 0.12, 0.00, -0.45, -0.19, -0.59, -0.27, -0.70,\n",
       "       0.07, -0.30, -1.58, -0.62, -0.89, -2.18, 0.08, 1.46, 2.05, 1.30,\n",
       "       -1.33, 1.04, 1.09, -2.36, 0.48, 0.17, -0.30, 0.28, -0.06, 1.32,\n",
       "       -0.88, -0.68, -0.27, -0.18, -2.08, 1.19, -0.02, 0.27, -0.08, -0.65,\n",
       "       -0.81, -0.10, -0.33, 1.07, 0.28, -0.20, 1.73, -1.29, -1.81, -0.06,\n",
       "       -0.22, -1.86, -0.48, -0.78, 0.73, -0.79, 0.58, 0.17, -0.65, -0.40,\n",
       "       -0.02, -2.54, 0.05, -0.78, 1.66, -0.94, 0.84, -2.52, 0.52, 0.06,\n",
       "       -0.65, -0.28, -0.71, 0.13, -0.23, -2.18, -0.49, 2.21, -0.16, -0.05,\n",
       "       -0.90, 0.17, -0.31, -0.45, 0.38, -1.23, -0.54, 0.22, -0.58, -1.37,\n",
       "       0.26, -1.36, -0.88, -1.21, -0.46, -0.86, -0.64, 0.35, 1.54, -0.55,\n",
       "       0.32, -0.56, -0.06, 0.82, -0.16, -1.30, -1.07, -0.72, -0.23, 0.69,\n",
       "       -1.76, -1.48, -1.38, -2.08, 1.19, -0.16, 1.47, -1.69, 0.89, -0.99,\n",
       "       -0.77, -1.25, -1.34, -1.61, -0.02, -1.49, -0.28, -0.20, 0.63,\n",
       "       -0.39, 0.23, 0.11, -0.45, 0.02, -1.26, -0.86, 1.66, -0.18, -0.82,\n",
       "       1.08, -0.31, -1.10, -1.90, 0.65, -1.14, -0.64, 0.39, -0.18, -0.19,\n",
       "       -0.34, 0.72, 2.02, -0.86, 0.45, 1.88, 0.82, -0.93, -0.51, -0.91,\n",
       "       -1.19, -0.95, 0.19, -0.96, 0.77, -0.14, -0.79, 0.87, 0.16, -0.17,\n",
       "       0.62, 0.30, -0.54, 0.46, -0.10, 2.49, 1.05, 0.83, 0.94, -0.23,\n",
       "       0.91, 0.01, -1.22, -0.93, 0.40, -1.69, -0.11, -0.90, 0.32, -0.97,\n",
       "       1.48, 0.27, -1.42, 1.69, -0.68, -1.00, -1.51, 0.25, 1.01, -0.85,\n",
       "       -1.26, -1.21, 1.32, 1.66, -0.43, 0.16, -0.02, -0.24, 0.53, 0.09,\n",
       "       -0.02, -0.39, 0.59, -0.57, -0.44, 0.12, -1.33, -0.43, -0.69, -0.13,\n",
       "       -1.14, -1.44, 1.52, 0.76, 0.74, 1.81, 0.12, -0.51, 0.29, -2.25,\n",
       "       -1.35, 0.49, -0.45, -1.68, 0.64, 0.64, 0.44, -0.50, -0.95, -0.03,\n",
       "       0.39, -0.57, 0.55, -0.00, -0.07, -2.38, 0.70, 1.55, -0.83, -1.69,\n",
       "       0.23, -0.78, -1.04, 1.18, -1.39, 0.68, -1.48, 1.41, 0.50, -0.63,\n",
       "       -0.05, 0.21, 0.60, 0.60, 0.31, -0.71, 0.26, -1.51, 0.55, 0.85,\n",
       "       1.01, -0.65, -0.12, 0.85, 0.05, -0.43, -0.17, -0.38, 0.60, -1.09,\n",
       "       0.27, 0.21, 0.66, -0.38, -0.33, -0.57, -0.32, -0.36, -0.78, 2.63,\n",
       "       -0.97, -1.26, -0.86, -1.12, -0.06, 1.30, 1.28, 0.08, -2.99, 0.25,\n",
       "       -1.58, -0.66, -1.61, 0.24, -0.84, 0.52, 0.01, -0.26, -0.28, 0.47,\n",
       "       -0.39, 0.65, -0.18, -0.16, 0.52, 0.99, 0.29, -0.26, 0.58, -1.55,\n",
       "       1.35, -1.48, 0.65, -1.02, 0.29, -0.24, 0.12, -1.27, -2.63, -0.02,\n",
       "       -1.06, -0.76])"
      ]
     },
     "execution_count": 43,
     "metadata": {},
     "output_type": "execute_result"
    }
   ],
   "source": [
    "y1 = -0.5 * X\n",
    "y = y1 + err\n",
    "y"
   ]
  },
  {
   "cell_type": "code",
   "execution_count": 39,
   "id": "d89b5d30",
   "metadata": {
    "scrolled": true
   },
   "outputs": [
    {
     "data": {
      "text/plain": [
       "array([-0.67, 1.35, 0.24, -1.15, 0.33, -0.24, -3.15, 0.31, -1.75, 0.31,\n",
       "       -1.17, -1.80, 0.39, -1.93, -0.46, -0.13, 0.40, 0.47, -0.11, -0.93,\n",
       "       1.52, -1.09, 1.65, -0.80, 0.72, 0.62, -1.09, 0.34, 0.67, 0.26,\n",
       "       -0.25, 0.09, -0.87, -1.44, 0.64, -0.72, 1.04, 0.19, -0.90, -0.54,\n",
       "       -0.78, -1.24, 0.36, -0.87, 1.58, 0.64, -1.33, -0.17, -0.37, -1.63,\n",
       "       0.92, 0.61, 0.82, -0.59, 0.82, -0.24, 0.65, 1.74, -0.15, -1.77,\n",
       "       -0.37, 0.43, 0.87, -1.34, -0.22, -0.03, 0.10, 0.65, -1.42, -0.72,\n",
       "       0.56, 0.32, 0.38, 0.72, -0.09, 0.45, -0.78, -1.52, -1.67, -0.29,\n",
       "       -0.64, -0.97, -0.06, -1.06, -0.02, -0.47, -1.05, -2.78, 1.12, 0.01,\n",
       "       -2.72, -0.90, 0.17, -0.52, 0.38, -1.09, -0.28, -0.34, -0.18, -0.53,\n",
       "       0.04, 0.67, -0.97, -0.59, -0.29, -0.43, 0.38, 0.25, 0.95, -0.62,\n",
       "       -2.36, -0.14, -0.11, -0.54, -0.19, -2.81, 0.13, -0.79, -1.87,\n",
       "       -0.93, -0.87, 0.60, 0.55, 1.39, 0.22, -1.62, -1.69, 0.71, 1.50,\n",
       "       -0.38, 0.27, -1.99, -2.22, -1.18, -0.76, -0.64, -0.63, -0.68, 0.25,\n",
       "       1.05, -0.24, 1.96, -0.66, -0.59, 0.37, -0.41, 1.06, -1.00, 1.04,\n",
       "       0.19, 2.53, -0.95, -0.49, 0.04, -2.31, 0.23, 0.38, -0.18, -2.03,\n",
       "       -1.97, 0.47, 0.93, 1.28, -1.31, -1.11, -0.28, -2.01, -0.83, 0.55,\n",
       "       1.35, 0.12, 1.15, 0.12, 0.00, -0.45, -0.19, -0.59, -0.27, -0.70,\n",
       "       0.07, -0.30, -1.58, -0.62, -0.89, -2.18, 0.08, 1.46, 2.05, 1.30,\n",
       "       -1.33, 1.04, 1.09, -2.36, 0.48, 0.17, -0.30, 0.28, -0.06, 1.32,\n",
       "       -0.88, -0.68, -0.27, -0.18, -2.08, 1.19, -0.02, 0.27, -0.08, -0.65,\n",
       "       -0.81, -0.10, -0.33, 1.07, 0.28, -0.20, 1.73, -1.29, -1.81, -0.06,\n",
       "       -0.22, -1.86, -0.48, -0.78, 0.73, -0.79, 0.58, 0.17, -0.65, -0.40,\n",
       "       -0.02, -2.54, 0.05, -0.78, 1.66, -0.94, 0.84, -2.52, 0.52, 0.06,\n",
       "       -0.65, -0.28, -0.71, 0.13, -0.23, -2.18, -0.49, 2.21, -0.16, -0.05,\n",
       "       -0.90, 0.17, -0.31, -0.45, 0.38, -1.23, -0.54, 0.22, -0.58, -1.37,\n",
       "       0.26, -1.36, -0.88, -1.21, -0.46, -0.86, -0.64, 0.35, 1.54, -0.55,\n",
       "       0.32, -0.56, -0.06, 0.82, -0.16, -1.30, -1.07, -0.72, -0.23, 0.69,\n",
       "       -1.76, -1.48, -1.38, -2.08, 1.19, -0.16, 1.47, -1.69, 0.89, -0.99,\n",
       "       -0.77, -1.25, -1.34, -1.61, -0.02, -1.49, -0.28, -0.20, 0.63,\n",
       "       -0.39, 0.23, 0.11, -0.45, 0.02, -1.26, -0.86, 1.66, -0.18, -0.82,\n",
       "       1.08, -0.31, -1.10, -1.90, 0.65, -1.14, -0.64, 0.39, -0.18, -0.19,\n",
       "       -0.34, 0.72, 2.02, -0.86, 0.45, 1.88, 0.82, -0.93, -0.51, -0.91,\n",
       "       -1.19, -0.95, 0.19, -0.96, 0.77, -0.14, -0.79, 0.87, 0.16, -0.17,\n",
       "       0.62, 0.30, -0.54, 0.46, -0.10, 2.49, 1.05, 0.83, 0.94, -0.23,\n",
       "       0.91, 0.01, -1.22, -0.93, 0.40, -1.69, -0.11, -0.90, 0.32, -0.97,\n",
       "       1.48, 0.27, -1.42, 1.69, -0.68, -1.00, -1.51, 0.25, 1.01, -0.85,\n",
       "       -1.26, -1.21, 1.32, 1.66, -0.43, 0.16, -0.02, -0.24, 0.53, 0.09,\n",
       "       -0.02, -0.39, 0.59, -0.57, -0.44, 0.12, -1.33, -0.43, -0.69, -0.13,\n",
       "       -1.14, -1.44, 1.52, 0.76, 0.74, 1.81, 0.12, -0.51, 0.29, -2.25,\n",
       "       -1.35, 0.49, -0.45, -1.68, 0.64, 0.64, 0.44, -0.50, -0.95, -0.03,\n",
       "       0.39, -0.57, 0.55, -0.00, -0.07, -2.38, 0.70, 1.55, -0.83, -1.69,\n",
       "       0.23, -0.78, -1.04, 1.18, -1.39, 0.68, -1.48, 1.41, 0.50, -0.63,\n",
       "       -0.05, 0.21, 0.60, 0.60, 0.31, -0.71, 0.26, -1.51, 0.55, 0.85,\n",
       "       1.01, -0.65, -0.12, 0.85, 0.05, -0.43, -0.17, -0.38, 0.60, -1.09,\n",
       "       0.27, 0.21, 0.66, -0.38, -0.33, -0.57, -0.32, -0.36, -0.78, 2.63,\n",
       "       -0.97, -1.26, -0.86, -1.12, -0.06, 1.30, 1.28, 0.08, -2.99, 0.25,\n",
       "       -1.58, -0.66, -1.61, 0.24, -0.84, 0.52, 0.01, -0.26, -0.28, 0.47,\n",
       "       -0.39, 0.65, -0.18, -0.16, 0.52, 0.99, 0.29, -0.26, 0.58, -1.55,\n",
       "       1.35, -1.48, 0.65, -1.02, 0.29, -0.24, 0.12, -1.27, -2.63, -0.02,\n",
       "       -1.06, -0.76])"
      ]
     },
     "execution_count": 39,
     "metadata": {},
     "output_type": "execute_result"
    }
   ],
   "source": [
    "y = -0.5 * X +err\n",
    "y"
   ]
  },
  {
   "cell_type": "code",
   "execution_count": 44,
   "id": "dc9ae0c2",
   "metadata": {},
   "outputs": [],
   "source": [
    "# Fitting the polynomial model\n",
    "# First, fit & transform X using fit_transform and polynomial features of degree 2 "
   ]
  },
  {
   "cell_type": "code",
   "execution_count": 98,
   "id": "62478b02",
   "metadata": {},
   "outputs": [],
   "source": [
    "#X is in array 1D so convert into 2D by dataframe\n",
    "X = pd.DataFrame(X)"
   ]
  },
  {
   "cell_type": "code",
   "execution_count": 99,
   "id": "3e5bb172",
   "metadata": {},
   "outputs": [],
   "source": [
    "fit_transform = poly_feat.fit_transform(X)"
   ]
  },
  {
   "cell_type": "code",
   "execution_count": 96,
   "id": "aed7315e",
   "metadata": {},
   "outputs": [],
   "source": [
    "poly_feat = PolynomialFeatures(degree=2)"
   ]
  },
  {
   "cell_type": "code",
   "execution_count": 78,
   "id": "45c6697a",
   "metadata": {},
   "outputs": [
    {
     "data": {
      "text/plain": [
       "(500, 3)"
      ]
     },
     "execution_count": 78,
     "metadata": {},
     "output_type": "execute_result"
    }
   ],
   "source": [
    "fit_transform.shape"
   ]
  },
  {
   "cell_type": "code",
   "execution_count": 63,
   "id": "f2d66eeb",
   "metadata": {},
   "outputs": [],
   "source": [
    "#Use this transformed X and y for fitting a linear regression model"
   ]
  },
  {
   "cell_type": "code",
   "execution_count": 103,
   "id": "ac4e125d",
   "metadata": {},
   "outputs": [],
   "source": [
    "from sklearn.model_selection import train_test_split\n",
    "x_train, x_test, y_train, y_test = train_test_split(X, y, test_size=0.2, random_state=2)"
   ]
  },
  {
   "cell_type": "code",
   "execution_count": 104,
   "id": "3d7d2fd0",
   "metadata": {},
   "outputs": [],
   "source": [
    "lr = LinearRegression()"
   ]
  },
  {
   "cell_type": "code",
   "execution_count": 105,
   "id": "d0ac83c7",
   "metadata": {},
   "outputs": [
    {
     "data": {
      "text/plain": [
       "LinearRegression()"
      ]
     },
     "execution_count": 105,
     "metadata": {},
     "output_type": "execute_result"
    }
   ],
   "source": [
    "lr.fit(X,y)"
   ]
  },
  {
   "cell_type": "code",
   "execution_count": 66,
   "id": "d9e1c31f",
   "metadata": {},
   "outputs": [],
   "source": [
    "#Print the values of its coefficients and intercept"
   ]
  },
  {
   "cell_type": "code",
   "execution_count": 112,
   "id": "ed05e1d6",
   "metadata": {},
   "outputs": [
    {
     "name": "stdout",
     "output_type": "stream",
     "text": [
      "[-0.51]\n"
     ]
    }
   ],
   "source": [
    "co_effecient = lr.coef_\n",
    "print(co_effecient)"
   ]
  },
  {
   "cell_type": "code",
   "execution_count": 107,
   "id": "8915038d",
   "metadata": {},
   "outputs": [
    {
     "name": "stdout",
     "output_type": "stream",
     "text": [
      "0.03443498396774203\n"
     ]
    }
   ],
   "source": [
    "intercept = lr.intercept_\n",
    "print(lr.intercept_)"
   ]
  },
  {
   "cell_type": "code",
   "execution_count": 113,
   "id": "fa7c6436",
   "metadata": {},
   "outputs": [],
   "source": [
    "rw1 = pd.DataFrame(np.array([co_effecient]).round(3))\n",
    "rw2 = pd.DataFrame(np.array([intercept]).round(3))"
   ]
  },
  {
   "cell_type": "code",
   "execution_count": 114,
   "id": "f8e003e9",
   "metadata": {},
   "outputs": [],
   "source": [
    "output = rw1.append(rw2)"
   ]
  },
  {
   "cell_type": "code",
   "execution_count": 115,
   "id": "1001acb5",
   "metadata": {},
   "outputs": [
    {
     "data": {
      "text/html": [
       "<div>\n",
       "<style scoped>\n",
       "    .dataframe tbody tr th:only-of-type {\n",
       "        vertical-align: middle;\n",
       "    }\n",
       "\n",
       "    .dataframe tbody tr th {\n",
       "        vertical-align: top;\n",
       "    }\n",
       "\n",
       "    .dataframe thead th {\n",
       "        text-align: right;\n",
       "    }\n",
       "</style>\n",
       "<table border=\"1\" class=\"dataframe\">\n",
       "  <thead>\n",
       "    <tr style=\"text-align: right;\">\n",
       "      <th></th>\n",
       "      <th>0</th>\n",
       "    </tr>\n",
       "  </thead>\n",
       "  <tbody>\n",
       "    <tr>\n",
       "      <th>0</th>\n",
       "      <td>-0.505</td>\n",
       "    </tr>\n",
       "    <tr>\n",
       "      <th>0</th>\n",
       "      <td>0.034</td>\n",
       "    </tr>\n",
       "  </tbody>\n",
       "</table>\n",
       "</div>"
      ],
      "text/plain": [
       "       0\n",
       "0 -0.505\n",
       "0  0.034"
      ]
     },
     "execution_count": 115,
     "metadata": {},
     "output_type": "execute_result"
    }
   ],
   "source": [
    "output"
   ]
  },
  {
   "cell_type": "code",
   "execution_count": 116,
   "id": "e2b34cab",
   "metadata": {},
   "outputs": [],
   "source": [
    "#Predict the values for y using the above model"
   ]
  },
  {
   "cell_type": "code",
   "execution_count": 120,
   "id": "01ab8a0a",
   "metadata": {
    "scrolled": true
   },
   "outputs": [
    {
     "data": {
      "text/plain": [
       "array([-0.18, -0.33, 0.03, -0.12, -0.04, -0.01, -0.06, -0.14, -0.17,\n",
       "       -0.24, -0.18, -0.31, -0.07, -0.41, 0.02, -0.30, -0.18, -0.25,\n",
       "       -0.04, -0.07, -0.37, -0.45, -0.12, -0.32, -0.41, -0.42, -0.01,\n",
       "       0.01, -0.05, -0.41, -0.02, -0.18, -0.45, -0.23, -0.32, -0.12,\n",
       "       -0.31, -0.39, 0.03, -0.34, -0.47, -0.34, -0.11, -0.36, -0.02,\n",
       "       -0.19, -0.42, -0.11, -0.11, -0.03, 0.02, -0.31, -0.07, -0.10,\n",
       "       -0.21, 0.01, -0.26, -0.04, -0.26, -0.32, -0.02, -0.17, -0.32,\n",
       "       -0.17, 0.01, -0.24, -0.30, -0.23, -0.44, -0.26, -0.42, -0.04,\n",
       "       -0.04, -0.37, -0.17, -0.05, -0.43, -0.14, -0.34, -0.33, -0.41,\n",
       "       -0.28, -0.34, -0.14, -0.10, -0.42, -0.18, -0.45, -0.30, -0.28,\n",
       "       -0.02, -0.45, -0.19, -0.26, -0.17, -0.09, -0.42, -0.26, 0.03,\n",
       "       -0.28, -0.13, -0.23, -0.41, -0.15, -0.42, -0.28, 0.03, -0.44,\n",
       "       -0.31, -0.47, -0.05, -0.03, -0.44, -0.32, 0.00, -0.35, -0.35,\n",
       "       -0.43, -0.32, -0.03, 0.02, 0.02, 0.02, -0.09, -0.40, -0.24, -0.24,\n",
       "       -0.39, -0.03, -0.11, -0.26, -0.46, -0.25, 0.03, -0.37, -0.08,\n",
       "       -0.37, -0.16, -0.40, -0.34, -0.25, -0.03, 0.00, -0.03, 0.01, -0.02,\n",
       "       -0.08, -0.33, -0.25, 0.03, -0.00, -0.45, -0.25, -0.07, -0.09,\n",
       "       -0.34, -0.06, -0.26, -0.46, -0.39, -0.09, -0.21, -0.28, -0.38,\n",
       "       -0.04, 0.03, -0.00, -0.21, -0.27, -0.25, -0.13, -0.46, -0.26,\n",
       "       -0.16, -0.24, -0.34, -0.30, -0.10, 0.00, -0.15, -0.28, -0.07,\n",
       "       -0.35, 0.00, -0.10, -0.37, -0.06, -0.29, -0.23, -0.43, -0.10, 0.00,\n",
       "       -0.34, -0.36, -0.42, -0.44, 0.03, -0.08, -0.28, -0.44, -0.45,\n",
       "       -0.25, -0.43, -0.29, -0.16, -0.21, -0.27, -0.24, -0.43, -0.43,\n",
       "       -0.17, -0.45, -0.05, -0.03, -0.03, -0.22, 0.02, -0.44, -0.38, 0.03,\n",
       "       -0.05, -0.13, -0.03, -0.37, -0.14, -0.44, -0.26, -0.41, -0.39,\n",
       "       -0.42, -0.20, -0.24, -0.37, -0.11, -0.21, -0.27, 0.03, -0.27,\n",
       "       -0.18, -0.37, -0.12, -0.42, -0.26, -0.06, -0.36, -0.27, 0.01,\n",
       "       -0.18, -0.31, -0.43, 0.03, -0.46, -0.16, -0.46, -0.27, -0.38,\n",
       "       -0.26, -0.28, -0.11, -0.26, -0.34, -0.40, -0.35, -0.32, -0.40,\n",
       "       -0.13, -0.30, -0.19, -0.16, -0.17, -0.17, -0.13, -0.28, -0.18,\n",
       "       -0.46, -0.31, -0.07, -0.18, -0.14, -0.37, -0.41, -0.42, -0.30,\n",
       "       -0.10, -0.09, -0.40, -0.23, -0.37, -0.25, -0.34, -0.23, -0.35,\n",
       "       -0.25, -0.20, -0.14, -0.00, -0.16, -0.01, -0.46, -0.06, -0.38,\n",
       "       -0.41, -0.31, -0.25, -0.05, -0.20, -0.14, -0.08, -0.26, -0.12,\n",
       "       -0.43, -0.43, -0.10, -0.02, -0.06, -0.22, -0.33, -0.07, -0.09,\n",
       "       -0.40, -0.18, -0.28, -0.08, -0.02, -0.23, -0.21, -0.04, -0.28,\n",
       "       -0.24, -0.30, -0.04, -0.35, -0.08, -0.23, -0.36, 0.02, -0.13,\n",
       "       -0.41, -0.39, -0.24, -0.40, -0.45, -0.38, -0.40, -0.02, -0.29,\n",
       "       -0.32, -0.27, -0.37, 0.02, -0.35, -0.34, -0.10, -0.10, -0.28,\n",
       "       -0.14, -0.37, -0.19, -0.36, -0.47, -0.12, -0.04, -0.42, -0.24,\n",
       "       -0.46, -0.29, -0.47, -0.24, -0.23, -0.03, -0.15, 0.02, -0.05,\n",
       "       -0.34, 0.02, -0.15, -0.40, -0.32, -0.31, -0.06, -0.19, -0.26,\n",
       "       -0.47, -0.07, -0.09, -0.10, -0.34, -0.20, 0.01, -0.22, -0.07,\n",
       "       -0.37, -0.12, 0.02, -0.27, -0.39, -0.16, -0.34, -0.22, -0.24,\n",
       "       -0.45, -0.37, 0.02, -0.32, -0.20, -0.44, -0.08, -0.10, -0.01,\n",
       "       -0.18, -0.02, -0.29, -0.37, -0.32, -0.35, -0.14, -0.39, -0.18,\n",
       "       -0.38, -0.28, -0.04, -0.01, 0.03, 0.00, -0.20, -0.02, 0.02, -0.35,\n",
       "       -0.17, -0.34, -0.19, -0.19, -0.21, -0.21, -0.37, -0.17, -0.42,\n",
       "       0.02, -0.36, -0.03, -0.28, 0.03, -0.24, 0.03, -0.45, -0.42, -0.37,\n",
       "       -0.43, -0.04, -0.05, -0.06, -0.28, -0.42, -0.47, -0.32, -0.34,\n",
       "       -0.42, -0.17, -0.09, -0.05, -0.03, -0.38, -0.04, -0.10, -0.38,\n",
       "       -0.12, -0.46, -0.10, -0.24, -0.12, -0.43, -0.15, -0.18, -0.22,\n",
       "       -0.44, 0.02, -0.33, -0.42, 0.02, -0.23, -0.13, -0.40, -0.25, -0.31,\n",
       "       -0.19, -0.28, -0.11, 0.03, -0.26, -0.12, -0.23, -0.43, -0.18,\n",
       "       -0.09, -0.15, -0.44, -0.44, -0.39, -0.43, -0.08])"
      ]
     },
     "execution_count": 120,
     "metadata": {},
     "output_type": "execute_result"
    }
   ],
   "source": [
    "lr.fit(X,y)\n",
    "y_predict = lr.predict(X)\n",
    "y_predict"
   ]
  },
  {
   "cell_type": "code",
   "execution_count": 121,
   "id": "9e3981ff",
   "metadata": {},
   "outputs": [],
   "source": [
    "#Calculate the Mean Square Error in the predicted y and actual y"
   ]
  },
  {
   "cell_type": "code",
   "execution_count": 122,
   "id": "c6775f68",
   "metadata": {},
   "outputs": [],
   "source": [
    "from sklearn.metrics import r2_score, mean_squared_error"
   ]
  },
  {
   "cell_type": "code",
   "execution_count": 124,
   "id": "d005d081",
   "metadata": {},
   "outputs": [
    {
     "name": "stdout",
     "output_type": "stream",
     "text": [
      "Mean squared Error : 0.9318690912535241\n"
     ]
    }
   ],
   "source": [
    "mean_square_err = print(\"Mean squared Error :\", mean_squared_error(y,y_predict)) "
   ]
  },
  {
   "cell_type": "code",
   "execution_count": 127,
   "id": "95fc95fd",
   "metadata": {},
   "outputs": [],
   "source": [
    "rw3 = pd.DataFrame(np.array([mean_square_err]).round(2))"
   ]
  },
  {
   "cell_type": "code",
   "execution_count": 128,
   "id": "c8cf7694",
   "metadata": {},
   "outputs": [
    {
     "data": {
      "text/html": [
       "<div>\n",
       "<style scoped>\n",
       "    .dataframe tbody tr th:only-of-type {\n",
       "        vertical-align: middle;\n",
       "    }\n",
       "\n",
       "    .dataframe tbody tr th {\n",
       "        vertical-align: top;\n",
       "    }\n",
       "\n",
       "    .dataframe thead th {\n",
       "        text-align: right;\n",
       "    }\n",
       "</style>\n",
       "<table border=\"1\" class=\"dataframe\">\n",
       "  <thead>\n",
       "    <tr style=\"text-align: right;\">\n",
       "      <th></th>\n",
       "      <th>0</th>\n",
       "    </tr>\n",
       "  </thead>\n",
       "  <tbody>\n",
       "    <tr>\n",
       "      <th>0</th>\n",
       "      <td>-0.505</td>\n",
       "    </tr>\n",
       "    <tr>\n",
       "      <th>0</th>\n",
       "      <td>0.034</td>\n",
       "    </tr>\n",
       "    <tr>\n",
       "      <th>0</th>\n",
       "      <td>0.930</td>\n",
       "    </tr>\n",
       "  </tbody>\n",
       "</table>\n",
       "</div>"
      ],
      "text/plain": [
       "       0\n",
       "0 -0.505\n",
       "0  0.034\n",
       "0  0.930"
      ]
     },
     "execution_count": 128,
     "metadata": {},
     "output_type": "execute_result"
    }
   ],
   "source": [
    "output.append(rw3)"
   ]
  },
  {
   "cell_type": "markdown",
   "id": "13daf43f",
   "metadata": {},
   "source": [
    "# 2. Autompg\n",
    "1. Load the data set from the input file mpg.csv\n",
    "\n",
    "  \n",
    "\n",
    "2. Is the relationship between mpg and displacement positive or negative?\n",
    "\n",
    "Check by performing Pearson correlation. Print the result as Negative Association or Positive Association or No Association based on the value of coefficient in a file named output1.csv\n",
    " \n",
    "\n",
    "3. Compute the values of mean, standard deviation and standard error for the column mpg\n",
    "\n",
    "Print these three values in the same file output1.csv below the existing row created in Step 2\n",
    " \n",
    "\n",
    "4. Compute 95% confidence interval for column mpg\n",
    "\n",
    "Print the lower and upper bounds of confidence interval on two separate rows of a file named output2.csv\n",
    " \n",
    "\n",
    "5. Perform linear regression to fit a model to predict values for mpg using the values of displacement\n",
    "\n",
    "Print the score of fitting of this model in the same file output2.csv below the existing rows created in Step 4\n",
    " "
   ]
  },
  {
   "cell_type": "code",
   "execution_count": 131,
   "id": "fefdcdf6",
   "metadata": {},
   "outputs": [],
   "source": [
    "#1.Load the data set from the input file mpg.csv"
   ]
  },
  {
   "cell_type": "code",
   "execution_count": 129,
   "id": "cb7b5228",
   "metadata": {},
   "outputs": [],
   "source": [
    "df = pd.read_csv(r\"C:\\Users\\Shivani Dussa\\Downloads\\auto-mpg.csv\")"
   ]
  },
  {
   "cell_type": "code",
   "execution_count": 130,
   "id": "ebf6af26",
   "metadata": {},
   "outputs": [
    {
     "data": {
      "text/html": [
       "<div>\n",
       "<style scoped>\n",
       "    .dataframe tbody tr th:only-of-type {\n",
       "        vertical-align: middle;\n",
       "    }\n",
       "\n",
       "    .dataframe tbody tr th {\n",
       "        vertical-align: top;\n",
       "    }\n",
       "\n",
       "    .dataframe thead th {\n",
       "        text-align: right;\n",
       "    }\n",
       "</style>\n",
       "<table border=\"1\" class=\"dataframe\">\n",
       "  <thead>\n",
       "    <tr style=\"text-align: right;\">\n",
       "      <th></th>\n",
       "      <th>mpg</th>\n",
       "      <th>cylinders</th>\n",
       "      <th>displacement</th>\n",
       "      <th>horsepower</th>\n",
       "      <th>weight</th>\n",
       "      <th>acceleration</th>\n",
       "      <th>model year</th>\n",
       "      <th>origin</th>\n",
       "      <th>car name</th>\n",
       "    </tr>\n",
       "  </thead>\n",
       "  <tbody>\n",
       "    <tr>\n",
       "      <th>0</th>\n",
       "      <td>18.0</td>\n",
       "      <td>8</td>\n",
       "      <td>307.0</td>\n",
       "      <td>130</td>\n",
       "      <td>3504</td>\n",
       "      <td>12.0</td>\n",
       "      <td>70</td>\n",
       "      <td>1</td>\n",
       "      <td>chevrolet chevelle malibu</td>\n",
       "    </tr>\n",
       "    <tr>\n",
       "      <th>1</th>\n",
       "      <td>15.0</td>\n",
       "      <td>8</td>\n",
       "      <td>350.0</td>\n",
       "      <td>165</td>\n",
       "      <td>3693</td>\n",
       "      <td>11.5</td>\n",
       "      <td>70</td>\n",
       "      <td>1</td>\n",
       "      <td>buick skylark 320</td>\n",
       "    </tr>\n",
       "    <tr>\n",
       "      <th>2</th>\n",
       "      <td>18.0</td>\n",
       "      <td>8</td>\n",
       "      <td>318.0</td>\n",
       "      <td>150</td>\n",
       "      <td>3436</td>\n",
       "      <td>11.0</td>\n",
       "      <td>70</td>\n",
       "      <td>1</td>\n",
       "      <td>plymouth satellite</td>\n",
       "    </tr>\n",
       "    <tr>\n",
       "      <th>3</th>\n",
       "      <td>16.0</td>\n",
       "      <td>8</td>\n",
       "      <td>304.0</td>\n",
       "      <td>150</td>\n",
       "      <td>3433</td>\n",
       "      <td>12.0</td>\n",
       "      <td>70</td>\n",
       "      <td>1</td>\n",
       "      <td>amc rebel sst</td>\n",
       "    </tr>\n",
       "    <tr>\n",
       "      <th>4</th>\n",
       "      <td>17.0</td>\n",
       "      <td>8</td>\n",
       "      <td>302.0</td>\n",
       "      <td>140</td>\n",
       "      <td>3449</td>\n",
       "      <td>10.5</td>\n",
       "      <td>70</td>\n",
       "      <td>1</td>\n",
       "      <td>ford torino</td>\n",
       "    </tr>\n",
       "  </tbody>\n",
       "</table>\n",
       "</div>"
      ],
      "text/plain": [
       "    mpg  cylinders  displacement horsepower  weight  acceleration  model year  \\\n",
       "0  18.0          8         307.0        130    3504          12.0          70   \n",
       "1  15.0          8         350.0        165    3693          11.5          70   \n",
       "2  18.0          8         318.0        150    3436          11.0          70   \n",
       "3  16.0          8         304.0        150    3433          12.0          70   \n",
       "4  17.0          8         302.0        140    3449          10.5          70   \n",
       "\n",
       "   origin                   car name  \n",
       "0       1  chevrolet chevelle malibu  \n",
       "1       1          buick skylark 320  \n",
       "2       1         plymouth satellite  \n",
       "3       1              amc rebel sst  \n",
       "4       1                ford torino  "
      ]
     },
     "execution_count": 130,
     "metadata": {},
     "output_type": "execute_result"
    }
   ],
   "source": [
    "df.head()"
   ]
  },
  {
   "cell_type": "code",
   "execution_count": 132,
   "id": "772e532b",
   "metadata": {},
   "outputs": [
    {
     "data": {
      "text/plain": [
       "(398, 9)"
      ]
     },
     "execution_count": 132,
     "metadata": {},
     "output_type": "execute_result"
    }
   ],
   "source": [
    "df.shape"
   ]
  },
  {
   "cell_type": "code",
   "execution_count": 133,
   "id": "23dc19a3",
   "metadata": {},
   "outputs": [],
   "source": [
    "#2.Is the relationship between mpg and displacement positive or negative?"
   ]
  },
  {
   "cell_type": "code",
   "execution_count": 134,
   "id": "dca3661a",
   "metadata": {},
   "outputs": [
    {
     "data": {
      "text/html": [
       "<div>\n",
       "<style scoped>\n",
       "    .dataframe tbody tr th:only-of-type {\n",
       "        vertical-align: middle;\n",
       "    }\n",
       "\n",
       "    .dataframe tbody tr th {\n",
       "        vertical-align: top;\n",
       "    }\n",
       "\n",
       "    .dataframe thead th {\n",
       "        text-align: right;\n",
       "    }\n",
       "</style>\n",
       "<table border=\"1\" class=\"dataframe\">\n",
       "  <thead>\n",
       "    <tr style=\"text-align: right;\">\n",
       "      <th></th>\n",
       "      <th>mpg</th>\n",
       "      <th>cylinders</th>\n",
       "      <th>displacement</th>\n",
       "      <th>weight</th>\n",
       "      <th>acceleration</th>\n",
       "      <th>model year</th>\n",
       "      <th>origin</th>\n",
       "    </tr>\n",
       "  </thead>\n",
       "  <tbody>\n",
       "    <tr>\n",
       "      <th>mpg</th>\n",
       "      <td>1.000000</td>\n",
       "      <td>-0.775396</td>\n",
       "      <td>-0.804203</td>\n",
       "      <td>-0.831741</td>\n",
       "      <td>0.420289</td>\n",
       "      <td>0.579267</td>\n",
       "      <td>0.563450</td>\n",
       "    </tr>\n",
       "    <tr>\n",
       "      <th>cylinders</th>\n",
       "      <td>-0.775396</td>\n",
       "      <td>1.000000</td>\n",
       "      <td>0.950721</td>\n",
       "      <td>0.896017</td>\n",
       "      <td>-0.505419</td>\n",
       "      <td>-0.348746</td>\n",
       "      <td>-0.562543</td>\n",
       "    </tr>\n",
       "    <tr>\n",
       "      <th>displacement</th>\n",
       "      <td>-0.804203</td>\n",
       "      <td>0.950721</td>\n",
       "      <td>1.000000</td>\n",
       "      <td>0.932824</td>\n",
       "      <td>-0.543684</td>\n",
       "      <td>-0.370164</td>\n",
       "      <td>-0.609409</td>\n",
       "    </tr>\n",
       "    <tr>\n",
       "      <th>weight</th>\n",
       "      <td>-0.831741</td>\n",
       "      <td>0.896017</td>\n",
       "      <td>0.932824</td>\n",
       "      <td>1.000000</td>\n",
       "      <td>-0.417457</td>\n",
       "      <td>-0.306564</td>\n",
       "      <td>-0.581024</td>\n",
       "    </tr>\n",
       "    <tr>\n",
       "      <th>acceleration</th>\n",
       "      <td>0.420289</td>\n",
       "      <td>-0.505419</td>\n",
       "      <td>-0.543684</td>\n",
       "      <td>-0.417457</td>\n",
       "      <td>1.000000</td>\n",
       "      <td>0.288137</td>\n",
       "      <td>0.205873</td>\n",
       "    </tr>\n",
       "    <tr>\n",
       "      <th>model year</th>\n",
       "      <td>0.579267</td>\n",
       "      <td>-0.348746</td>\n",
       "      <td>-0.370164</td>\n",
       "      <td>-0.306564</td>\n",
       "      <td>0.288137</td>\n",
       "      <td>1.000000</td>\n",
       "      <td>0.180662</td>\n",
       "    </tr>\n",
       "    <tr>\n",
       "      <th>origin</th>\n",
       "      <td>0.563450</td>\n",
       "      <td>-0.562543</td>\n",
       "      <td>-0.609409</td>\n",
       "      <td>-0.581024</td>\n",
       "      <td>0.205873</td>\n",
       "      <td>0.180662</td>\n",
       "      <td>1.000000</td>\n",
       "    </tr>\n",
       "  </tbody>\n",
       "</table>\n",
       "</div>"
      ],
      "text/plain": [
       "                   mpg  cylinders  displacement    weight  acceleration  \\\n",
       "mpg           1.000000  -0.775396     -0.804203 -0.831741      0.420289   \n",
       "cylinders    -0.775396   1.000000      0.950721  0.896017     -0.505419   \n",
       "displacement -0.804203   0.950721      1.000000  0.932824     -0.543684   \n",
       "weight       -0.831741   0.896017      0.932824  1.000000     -0.417457   \n",
       "acceleration  0.420289  -0.505419     -0.543684 -0.417457      1.000000   \n",
       "model year    0.579267  -0.348746     -0.370164 -0.306564      0.288137   \n",
       "origin        0.563450  -0.562543     -0.609409 -0.581024      0.205873   \n",
       "\n",
       "              model year    origin  \n",
       "mpg             0.579267  0.563450  \n",
       "cylinders      -0.348746 -0.562543  \n",
       "displacement   -0.370164 -0.609409  \n",
       "weight         -0.306564 -0.581024  \n",
       "acceleration    0.288137  0.205873  \n",
       "model year      1.000000  0.180662  \n",
       "origin          0.180662  1.000000  "
      ]
     },
     "execution_count": 134,
     "metadata": {},
     "output_type": "execute_result"
    }
   ],
   "source": [
    "df.corr(method = \"pearson\")    "
   ]
  },
  {
   "cell_type": "code",
   "execution_count": 137,
   "id": "9f76a2c0",
   "metadata": {},
   "outputs": [
    {
     "name": "stdout",
     "output_type": "stream",
     "text": [
      "Pearsons correlation: -0.804\n"
     ]
    }
   ],
   "source": [
    "from scipy.stats import pearsonr \n",
    "corr,_ = pearsonr(df.mpg,df.displacement)\n",
    "psnr = print('Pearsons correlation: %.3f' % corr)"
   ]
  },
  {
   "cell_type": "markdown",
   "id": "4fef2be0",
   "metadata": {},
   "source": [
    "### The relationship between mpg and displacement is negative"
   ]
  },
  {
   "cell_type": "code",
   "execution_count": 138,
   "id": "a3ef0e84",
   "metadata": {},
   "outputs": [],
   "source": [
    "#Compute the values of mean, standard deviation and standard error for the column mpg"
   ]
  },
  {
   "cell_type": "code",
   "execution_count": 139,
   "id": "7efaa8e9",
   "metadata": {},
   "outputs": [],
   "source": [
    "rw1 = pd.DataFrame(np.array([\"Negitive Association\"]))"
   ]
  },
  {
   "cell_type": "code",
   "execution_count": 142,
   "id": "edbc9c48",
   "metadata": {},
   "outputs": [],
   "source": [
    "mean = round(df['mpg'].mean())\n",
    "standard_deviation = round(df['mpg'].std())\n",
    "standard_error = standard_deviation/np.sqrt(5)"
   ]
  },
  {
   "cell_type": "code",
   "execution_count": 143,
   "id": "d9e02ee7",
   "metadata": {},
   "outputs": [
    {
     "name": "stdout",
     "output_type": "stream",
     "text": [
      "24\n",
      "8\n",
      "3.5777087639996634\n"
     ]
    }
   ],
   "source": [
    "print(mean)\n",
    "print(standard_deviation)\n",
    "print(standard_error)"
   ]
  },
  {
   "cell_type": "code",
   "execution_count": 144,
   "id": "23acfba6",
   "metadata": {},
   "outputs": [],
   "source": [
    "rw2 = pd.DataFrame(np.array([mean]).round(1))\n",
    "rw3 = pd.DataFrame(np.array([standard_deviation]).round(1))\n",
    "rw4 = pd.DataFrame(np.array([standard_error]).round(1))"
   ]
  },
  {
   "cell_type": "code",
   "execution_count": 146,
   "id": "c861629f",
   "metadata": {},
   "outputs": [],
   "source": [
    "f1 = rw1.append(rw2)\n",
    "f2 = f1.append(rw3)\n",
    "output = f2.append(rw4)\n",
    "output.to_csv(\"output.csv\",header = \"A\",index = False)\n"
   ]
  },
  {
   "cell_type": "code",
   "execution_count": 147,
   "id": "c23b16a3",
   "metadata": {},
   "outputs": [
    {
     "data": {
      "text/html": [
       "<div>\n",
       "<style scoped>\n",
       "    .dataframe tbody tr th:only-of-type {\n",
       "        vertical-align: middle;\n",
       "    }\n",
       "\n",
       "    .dataframe tbody tr th {\n",
       "        vertical-align: top;\n",
       "    }\n",
       "\n",
       "    .dataframe thead th {\n",
       "        text-align: right;\n",
       "    }\n",
       "</style>\n",
       "<table border=\"1\" class=\"dataframe\">\n",
       "  <thead>\n",
       "    <tr style=\"text-align: right;\">\n",
       "      <th></th>\n",
       "      <th>0</th>\n",
       "    </tr>\n",
       "  </thead>\n",
       "  <tbody>\n",
       "    <tr>\n",
       "      <th>0</th>\n",
       "      <td>Negitive Association</td>\n",
       "    </tr>\n",
       "    <tr>\n",
       "      <th>0</th>\n",
       "      <td>24</td>\n",
       "    </tr>\n",
       "    <tr>\n",
       "      <th>0</th>\n",
       "      <td>8</td>\n",
       "    </tr>\n",
       "    <tr>\n",
       "      <th>0</th>\n",
       "      <td>3.6</td>\n",
       "    </tr>\n",
       "  </tbody>\n",
       "</table>\n",
       "</div>"
      ],
      "text/plain": [
       "                      0\n",
       "0  Negitive Association\n",
       "0                    24\n",
       "0                     8\n",
       "0                   3.6"
      ]
     },
     "execution_count": 147,
     "metadata": {},
     "output_type": "execute_result"
    }
   ],
   "source": [
    "output"
   ]
  },
  {
   "cell_type": "code",
   "execution_count": 148,
   "id": "b3643802",
   "metadata": {},
   "outputs": [],
   "source": [
    "#Compute 95% confidence interval for column mpg"
   ]
  },
  {
   "cell_type": "code",
   "execution_count": 153,
   "id": "6b9e1448",
   "metadata": {},
   "outputs": [],
   "source": [
    "import math"
   ]
  },
  {
   "cell_type": "code",
   "execution_count": 164,
   "id": "597ba928",
   "metadata": {},
   "outputs": [],
   "source": [
    "sample = df['mpg']\n",
    "sample_mean= np.mean(sample)\n",
    "sample_m1 = np.array([sample_mean]).round(2)\n",
    "sample_rw3 = pd.DataFrame(np.array([sample_m1]).round(2))\n",
    "\n",
    "Standard_Deviation= np.std(sample)\n",
    "sample_s1 = np.array([Standard_Deviation]).round(2)\n",
    "sample_rw4 = pd.DataFrame(np.array([sample_s1]).round(2))"
   ]
  },
  {
   "cell_type": "code",
   "execution_count": 224,
   "id": "6662c921",
   "metadata": {},
   "outputs": [],
   "source": [
    "sample_size = 398\n",
    "m = sample_rw3\n",
    "s = sample_rw4\n",
    "sample = df['mpg']\n",
    "\n",
    "dof = len(sample)-1 \n",
    "#confidence = 0.95\n",
    "\n",
    "z_critical = stats.norm.ppf(q = 0.975)\n",
    "\n",
    "margin_of_error = z_critical * (s/math.sqrt(sample_size))\n",
    "\n",
    "confidence_interval = (m - margin_of_error,\n",
    "                       m + margin_of_error)  \n",
    "\n",
    "coi=(confidence_interval)"
   ]
  },
  {
   "cell_type": "code",
   "execution_count": 225,
   "id": "7b0ddeb7",
   "metadata": {},
   "outputs": [
    {
     "data": {
      "text/plain": [
       "(           0\n",
       " 0  22.742713,\n",
       "            0\n",
       " 0  24.277287)"
      ]
     },
     "execution_count": 225,
     "metadata": {},
     "output_type": "execute_result"
    }
   ],
   "source": [
    "coi"
   ]
  },
  {
   "cell_type": "code",
   "execution_count": 237,
   "id": "186ce3ee",
   "metadata": {},
   "outputs": [
    {
     "name": "stdout",
     "output_type": "stream",
     "text": [
      "           0\n",
      "0  22.742713\n",
      "           0\n",
      "0  24.277287\n"
     ]
    }
   ],
   "source": [
    "#x̅ ± Za/2 * σ/√(n).\n",
    "print(m - z_critical * (s/math.sqrt(sample_size)))\n",
    "print(m + z_critical * (s/math.sqrt(sample_size)))"
   ]
  },
  {
   "cell_type": "code",
   "execution_count": 167,
   "id": "66ba3307",
   "metadata": {},
   "outputs": [],
   "source": [
    "#Print the lower and upper bounds of confidence interval"
   ]
  },
  {
   "cell_type": "code",
   "execution_count": 336,
   "id": "0bdfa219",
   "metadata": {},
   "outputs": [],
   "source": [
    "lower_bound = m - z_critical * (s/math.sqrt(sample_size))\n",
    "upper_bound = m + z_critical * (s/math.sqrt(sample_size))"
   ]
  },
  {
   "cell_type": "code",
   "execution_count": 337,
   "id": "43a007fc",
   "metadata": {},
   "outputs": [
    {
     "data": {
      "text/html": [
       "<div>\n",
       "<style scoped>\n",
       "    .dataframe tbody tr th:only-of-type {\n",
       "        vertical-align: middle;\n",
       "    }\n",
       "\n",
       "    .dataframe tbody tr th {\n",
       "        vertical-align: top;\n",
       "    }\n",
       "\n",
       "    .dataframe thead th {\n",
       "        text-align: right;\n",
       "    }\n",
       "</style>\n",
       "<table border=\"1\" class=\"dataframe\">\n",
       "  <thead>\n",
       "    <tr style=\"text-align: right;\">\n",
       "      <th></th>\n",
       "      <th>0</th>\n",
       "    </tr>\n",
       "  </thead>\n",
       "  <tbody>\n",
       "    <tr>\n",
       "      <th>0</th>\n",
       "      <td>22.74</td>\n",
       "    </tr>\n",
       "  </tbody>\n",
       "</table>\n",
       "</div>"
      ],
      "text/plain": [
       "       0\n",
       "0  22.74"
      ]
     },
     "execution_count": 337,
     "metadata": {},
     "output_type": "execute_result"
    }
   ],
   "source": [
    "lower_bound.round(2)"
   ]
  },
  {
   "cell_type": "code",
   "execution_count": 338,
   "id": "ec6eeca8",
   "metadata": {},
   "outputs": [
    {
     "data": {
      "text/html": [
       "<div>\n",
       "<style scoped>\n",
       "    .dataframe tbody tr th:only-of-type {\n",
       "        vertical-align: middle;\n",
       "    }\n",
       "\n",
       "    .dataframe tbody tr th {\n",
       "        vertical-align: top;\n",
       "    }\n",
       "\n",
       "    .dataframe thead th {\n",
       "        text-align: right;\n",
       "    }\n",
       "</style>\n",
       "<table border=\"1\" class=\"dataframe\">\n",
       "  <thead>\n",
       "    <tr style=\"text-align: right;\">\n",
       "      <th></th>\n",
       "      <th>0</th>\n",
       "    </tr>\n",
       "  </thead>\n",
       "  <tbody>\n",
       "    <tr>\n",
       "      <th>0</th>\n",
       "      <td>24.28</td>\n",
       "    </tr>\n",
       "  </tbody>\n",
       "</table>\n",
       "</div>"
      ],
      "text/plain": [
       "       0\n",
       "0  24.28"
      ]
     },
     "execution_count": 338,
     "metadata": {},
     "output_type": "execute_result"
    }
   ],
   "source": [
    "upper_bound.round(2)"
   ]
  },
  {
   "cell_type": "code",
   "execution_count": 339,
   "id": "372f7003",
   "metadata": {},
   "outputs": [],
   "source": [
    "output2 = lower_bound.append(upper_bound)"
   ]
  },
  {
   "cell_type": "code",
   "execution_count": 247,
   "id": "3ca834b4",
   "metadata": {},
   "outputs": [],
   "source": [
    "#Print the score of fitting of this model"
   ]
  },
  {
   "cell_type": "code",
   "execution_count": 320,
   "id": "04b707c8",
   "metadata": {},
   "outputs": [],
   "source": [
    "y = df['mpg']\n",
    "X = df['displacement']\n",
    "X_train, X_test, y_train, y_test = train_test_split(X1, y1, test_size=0.2, random_state= 136)"
   ]
  },
  {
   "cell_type": "code",
   "execution_count": 269,
   "id": "73089972",
   "metadata": {},
   "outputs": [],
   "source": [
    "X1 = pd.DataFrame(X)\n",
    "y1 = pd.DataFrame(y)"
   ]
  },
  {
   "cell_type": "code",
   "execution_count": 321,
   "id": "8db46be1",
   "metadata": {},
   "outputs": [],
   "source": [
    "lr = LinearRegression()\n",
    "lr.fit(X_train,y_train)\n",
    "y_pred = lr.predict(X_test)"
   ]
  },
  {
   "cell_type": "code",
   "execution_count": 341,
   "id": "37a7d67e",
   "metadata": {},
   "outputs": [
    {
     "name": "stdout",
     "output_type": "stream",
     "text": [
      "score: 0.7107940176213314\n"
     ]
    }
   ],
   "source": [
    "score = print(\"score:\",lr.score(X_test,y_test))"
   ]
  },
  {
   "cell_type": "code",
   "execution_count": 342,
   "id": "d8b6d891",
   "metadata": {},
   "outputs": [],
   "source": [
    "score = 0.7107940176213314"
   ]
  },
  {
   "cell_type": "code",
   "execution_count": 343,
   "id": "6ba7e52c",
   "metadata": {},
   "outputs": [],
   "source": [
    "srw3 = pd.DataFrame(np.array([score]).round(2))\n",
    "output2 = output2.append(srw3)"
   ]
  },
  {
   "cell_type": "code",
   "execution_count": 345,
   "id": "371aef9b",
   "metadata": {},
   "outputs": [],
   "source": [
    "output2 = output2.append(srw3)"
   ]
  },
  {
   "cell_type": "code",
   "execution_count": 346,
   "id": "28384c5b",
   "metadata": {},
   "outputs": [
    {
     "data": {
      "text/html": [
       "<div>\n",
       "<style scoped>\n",
       "    .dataframe tbody tr th:only-of-type {\n",
       "        vertical-align: middle;\n",
       "    }\n",
       "\n",
       "    .dataframe tbody tr th {\n",
       "        vertical-align: top;\n",
       "    }\n",
       "\n",
       "    .dataframe thead th {\n",
       "        text-align: right;\n",
       "    }\n",
       "</style>\n",
       "<table border=\"1\" class=\"dataframe\">\n",
       "  <thead>\n",
       "    <tr style=\"text-align: right;\">\n",
       "      <th></th>\n",
       "      <th>0</th>\n",
       "    </tr>\n",
       "  </thead>\n",
       "  <tbody>\n",
       "    <tr>\n",
       "      <th>0</th>\n",
       "      <td>22.742713</td>\n",
       "    </tr>\n",
       "    <tr>\n",
       "      <th>0</th>\n",
       "      <td>24.277287</td>\n",
       "    </tr>\n",
       "    <tr>\n",
       "      <th>0</th>\n",
       "      <td>0.710000</td>\n",
       "    </tr>\n",
       "  </tbody>\n",
       "</table>\n",
       "</div>"
      ],
      "text/plain": [
       "           0\n",
       "0  22.742713\n",
       "0  24.277287\n",
       "0   0.710000"
      ]
     },
     "execution_count": 346,
     "metadata": {},
     "output_type": "execute_result"
    }
   ],
   "source": [
    "output2"
   ]
  },
  {
   "cell_type": "code",
   "execution_count": null,
   "id": "88984258",
   "metadata": {},
   "outputs": [],
   "source": [
    "pd.DataFrame(res).to_csv(\"output/output2.csv\", header= 'A', index=False)"
   ]
  },
  {
   "cell_type": "markdown",
   "id": "360d9781",
   "metadata": {},
   "source": [
    "## 3. wages\n",
    "1. Load the data set from the input file wages.csv\n",
    "\n",
    " \n",
    "\n",
    "2. Generate polynomial models of age column from this data set up to 4 degrees (i.e. create 4 polynomial models of degrees 1 to 4)\n",
    "Hint: Use PolynomialFeatures().fit_transform to create these models\n",
    " \n",
    "\n",
    " 3. Perform linear regression as follows:\n",
    "\n",
    "Perform linear regression using all these four models\n",
    "Fit each model on wage column of the data set\n",
    "Use cross-validation with cv=5 to compute the scores for fitting of each of these models\n",
    "Note: There will be 5 scores (since cv=5) for fitting of each model\n",
    "Compute the mean score of fitting of each model\n",
    "Print the 4 mean scores in a file named output.csv"
   ]
  },
  {
   "cell_type": "code",
   "execution_count": 2,
   "id": "eea33c78",
   "metadata": {},
   "outputs": [],
   "source": [
    "import pandas as pd\n",
    "import numpy as np\n",
    "from sklearn.linear_model import LinearRegression\n",
    "from sklearn.preprocessing import PolynomialFeatures"
   ]
  },
  {
   "cell_type": "code",
   "execution_count": 112,
   "id": "ea413f09",
   "metadata": {},
   "outputs": [],
   "source": [
    "wages = pd.read_csv(\"https://raw.githubusercontent.com/selva86/datasets/master/Wage.csv\")"
   ]
  },
  {
   "cell_type": "code",
   "execution_count": 76,
   "id": "93eb07af",
   "metadata": {},
   "outputs": [
    {
     "data": {
      "text/html": [
       "<div>\n",
       "<style scoped>\n",
       "    .dataframe tbody tr th:only-of-type {\n",
       "        vertical-align: middle;\n",
       "    }\n",
       "\n",
       "    .dataframe tbody tr th {\n",
       "        vertical-align: top;\n",
       "    }\n",
       "\n",
       "    .dataframe thead th {\n",
       "        text-align: right;\n",
       "    }\n",
       "</style>\n",
       "<table border=\"1\" class=\"dataframe\">\n",
       "  <thead>\n",
       "    <tr style=\"text-align: right;\">\n",
       "      <th></th>\n",
       "      <th>year</th>\n",
       "      <th>age</th>\n",
       "      <th>sex</th>\n",
       "      <th>maritl</th>\n",
       "      <th>race</th>\n",
       "      <th>education</th>\n",
       "      <th>region</th>\n",
       "      <th>jobclass</th>\n",
       "      <th>health</th>\n",
       "      <th>health_ins</th>\n",
       "      <th>logwage</th>\n",
       "      <th>wage</th>\n",
       "    </tr>\n",
       "  </thead>\n",
       "  <tbody>\n",
       "    <tr>\n",
       "      <th>0</th>\n",
       "      <td>2006</td>\n",
       "      <td>18</td>\n",
       "      <td>1. Male</td>\n",
       "      <td>1. Never Married</td>\n",
       "      <td>1. White</td>\n",
       "      <td>1. &lt; HS Grad</td>\n",
       "      <td>2. Middle Atlantic</td>\n",
       "      <td>1. Industrial</td>\n",
       "      <td>1. &lt;=Good</td>\n",
       "      <td>2. No</td>\n",
       "      <td>4.318063</td>\n",
       "      <td>75.043154</td>\n",
       "    </tr>\n",
       "    <tr>\n",
       "      <th>1</th>\n",
       "      <td>2004</td>\n",
       "      <td>24</td>\n",
       "      <td>1. Male</td>\n",
       "      <td>1. Never Married</td>\n",
       "      <td>1. White</td>\n",
       "      <td>4. College Grad</td>\n",
       "      <td>2. Middle Atlantic</td>\n",
       "      <td>2. Information</td>\n",
       "      <td>2. &gt;=Very Good</td>\n",
       "      <td>2. No</td>\n",
       "      <td>4.255273</td>\n",
       "      <td>70.476020</td>\n",
       "    </tr>\n",
       "    <tr>\n",
       "      <th>2</th>\n",
       "      <td>2003</td>\n",
       "      <td>45</td>\n",
       "      <td>1. Male</td>\n",
       "      <td>2. Married</td>\n",
       "      <td>1. White</td>\n",
       "      <td>3. Some College</td>\n",
       "      <td>2. Middle Atlantic</td>\n",
       "      <td>1. Industrial</td>\n",
       "      <td>1. &lt;=Good</td>\n",
       "      <td>1. Yes</td>\n",
       "      <td>4.875061</td>\n",
       "      <td>130.982177</td>\n",
       "    </tr>\n",
       "    <tr>\n",
       "      <th>3</th>\n",
       "      <td>2003</td>\n",
       "      <td>43</td>\n",
       "      <td>1. Male</td>\n",
       "      <td>2. Married</td>\n",
       "      <td>3. Asian</td>\n",
       "      <td>4. College Grad</td>\n",
       "      <td>2. Middle Atlantic</td>\n",
       "      <td>2. Information</td>\n",
       "      <td>2. &gt;=Very Good</td>\n",
       "      <td>1. Yes</td>\n",
       "      <td>5.041393</td>\n",
       "      <td>154.685293</td>\n",
       "    </tr>\n",
       "    <tr>\n",
       "      <th>4</th>\n",
       "      <td>2005</td>\n",
       "      <td>50</td>\n",
       "      <td>1. Male</td>\n",
       "      <td>4. Divorced</td>\n",
       "      <td>1. White</td>\n",
       "      <td>2. HS Grad</td>\n",
       "      <td>2. Middle Atlantic</td>\n",
       "      <td>2. Information</td>\n",
       "      <td>1. &lt;=Good</td>\n",
       "      <td>1. Yes</td>\n",
       "      <td>4.318063</td>\n",
       "      <td>75.043154</td>\n",
       "    </tr>\n",
       "  </tbody>\n",
       "</table>\n",
       "</div>"
      ],
      "text/plain": [
       "   year  age      sex            maritl      race        education  \\\n",
       "0  2006   18  1. Male  1. Never Married  1. White     1. < HS Grad   \n",
       "1  2004   24  1. Male  1. Never Married  1. White  4. College Grad   \n",
       "2  2003   45  1. Male        2. Married  1. White  3. Some College   \n",
       "3  2003   43  1. Male        2. Married  3. Asian  4. College Grad   \n",
       "4  2005   50  1. Male       4. Divorced  1. White       2. HS Grad   \n",
       "\n",
       "               region        jobclass          health health_ins   logwage  \\\n",
       "0  2. Middle Atlantic   1. Industrial       1. <=Good      2. No  4.318063   \n",
       "1  2. Middle Atlantic  2. Information  2. >=Very Good      2. No  4.255273   \n",
       "2  2. Middle Atlantic   1. Industrial       1. <=Good     1. Yes  4.875061   \n",
       "3  2. Middle Atlantic  2. Information  2. >=Very Good     1. Yes  5.041393   \n",
       "4  2. Middle Atlantic  2. Information       1. <=Good     1. Yes  4.318063   \n",
       "\n",
       "         wage  \n",
       "0   75.043154  \n",
       "1   70.476020  \n",
       "2  130.982177  \n",
       "3  154.685293  \n",
       "4   75.043154  "
      ]
     },
     "execution_count": 76,
     "metadata": {},
     "output_type": "execute_result"
    }
   ],
   "source": [
    "wages.head()"
   ]
  },
  {
   "cell_type": "code",
   "execution_count": 98,
   "id": "624f61b9",
   "metadata": {},
   "outputs": [],
   "source": [
    "wages = pd.get_dummies(wages)"
   ]
  },
  {
   "cell_type": "code",
   "execution_count": 99,
   "id": "4cbe534c",
   "metadata": {},
   "outputs": [
    {
     "data": {
      "text/plain": [
       "(3000, 26)"
      ]
     },
     "execution_count": 99,
     "metadata": {},
     "output_type": "execute_result"
    }
   ],
   "source": [
    "wages.shape"
   ]
  },
  {
   "cell_type": "code",
   "execution_count": 6,
   "id": "da7a0565",
   "metadata": {},
   "outputs": [],
   "source": [
    "#Generate polynomial models of age column from this data set up to 4 degrees (i.e. create 4 polynomial models of degrees 1 to 4)"
   ]
  },
  {
   "cell_type": "code",
   "execution_count": 88,
   "id": "10ebba88",
   "metadata": {},
   "outputs": [],
   "source": [
    "X = wages['age']\n",
    "X = pd.DataFrame(X)"
   ]
  },
  {
   "cell_type": "code",
   "execution_count": 89,
   "id": "63d8b7a0",
   "metadata": {},
   "outputs": [],
   "source": [
    "model1 = PolynomialFeatures(degree=1)\n",
    "model1 = model1.fit_transform(X)\n",
    "\n",
    "model2 = PolynomialFeatures(degree=2)\n",
    "model2 = model2.fit_transform(X)\n",
    "\n",
    "model3 = PolynomialFeatures(degree=3)\n",
    "model3 = model3.fit_transform(X)\n",
    "\n",
    "model4 = PolynomialFeatures(degree=4)\n",
    "model4 = model4.fit_transform(X)\n"
   ]
  },
  {
   "cell_type": "code",
   "execution_count": 90,
   "id": "b3d5aa9f",
   "metadata": {},
   "outputs": [
    {
     "data": {
      "text/plain": [
       "((3000, 2), (3000, 3), (3000, 4), (3000, 5))"
      ]
     },
     "execution_count": 90,
     "metadata": {},
     "output_type": "execute_result"
    }
   ],
   "source": [
    "model1.shape,model2.shape,model3.shape,model4.shape"
   ]
  },
  {
   "cell_type": "code",
   "execution_count": 37,
   "id": "293da6be",
   "metadata": {},
   "outputs": [],
   "source": [
    "#Perform linear regression \n",
    "#using all these four models Fit each model on wage column of the data set "
   ]
  },
  {
   "cell_type": "code",
   "execution_count": 91,
   "id": "4af73e2f",
   "metadata": {},
   "outputs": [
    {
     "data": {
      "text/plain": [
       "LinearRegression()"
      ]
     },
     "execution_count": 91,
     "metadata": {},
     "output_type": "execute_result"
    }
   ],
   "source": [
    "pol_reg1 = LinearRegression()\n",
    "pol_reg1.fit(model1, y)"
   ]
  },
  {
   "cell_type": "code",
   "execution_count": 92,
   "id": "447d62c0",
   "metadata": {},
   "outputs": [
    {
     "data": {
      "text/plain": [
       "LinearRegression()"
      ]
     },
     "execution_count": 92,
     "metadata": {},
     "output_type": "execute_result"
    }
   ],
   "source": [
    "pol_reg2 = LinearRegression()\n",
    "pol_reg2.fit(model2, y)"
   ]
  },
  {
   "cell_type": "code",
   "execution_count": 93,
   "id": "a8e74ee7",
   "metadata": {},
   "outputs": [
    {
     "data": {
      "text/plain": [
       "LinearRegression()"
      ]
     },
     "execution_count": 93,
     "metadata": {},
     "output_type": "execute_result"
    }
   ],
   "source": [
    "pol_reg3 = LinearRegression()\n",
    "pol_reg3.fit(model3, y)"
   ]
  },
  {
   "cell_type": "code",
   "execution_count": 94,
   "id": "d32d6823",
   "metadata": {},
   "outputs": [
    {
     "data": {
      "text/plain": [
       "LinearRegression()"
      ]
     },
     "execution_count": 94,
     "metadata": {},
     "output_type": "execute_result"
    }
   ],
   "source": [
    "pol_reg4 = LinearRegression()\n",
    "pol_reg4.fit(model4, y)"
   ]
  },
  {
   "cell_type": "code",
   "execution_count": 187,
   "id": "d6cee67b",
   "metadata": {},
   "outputs": [],
   "source": [
    "#Use cross-validation with cv=5 to compute the scores for fitting of each of these models"
   ]
  },
  {
   "cell_type": "code",
   "execution_count": 107,
   "id": "ff01d1ae",
   "metadata": {},
   "outputs": [],
   "source": [
    "#X1 = wages.drop(['age'],axis = 1)\n",
    "X = wages.drop(['age'],axis = 1)\n",
    "y1 = wages['age']\n",
    "from sklearn.model_selection import train_test_split\n",
    "X_train, X_test, y_train, y_test = train_test_split(X, y1, test_size=0.2, random_state=42)"
   ]
  },
  {
   "cell_type": "code",
   "execution_count": 106,
   "id": "b8e555aa",
   "metadata": {},
   "outputs": [
    {
     "data": {
      "text/plain": [
       "array([18, 24, 45, ..., 27, 27, 55], dtype=int64)"
      ]
     },
     "execution_count": 106,
     "metadata": {},
     "output_type": "execute_result"
    }
   ],
   "source": [
    "y1 = np.array(y1)\n",
    "y1"
   ]
  },
  {
   "cell_type": "code",
   "execution_count": 108,
   "id": "6d70af5a",
   "metadata": {
    "scrolled": true
   },
   "outputs": [
    {
     "name": "stderr",
     "output_type": "stream",
     "text": [
      "C:\\Users\\Shivani Dussa\\anaconda3\\lib\\site-packages\\sklearn\\model_selection\\_split.py:666: UserWarning: The least populated class in y has only 1 members, which is less than n_splits=5.\n",
      "  warnings.warn((\"The least populated class in y has only %d\"\n"
     ]
    },
    {
     "data": {
      "text/plain": [
       "array([0.04333333, 0.04833333, 0.03833333, 0.055     , 0.04      ])"
      ]
     },
     "execution_count": 108,
     "metadata": {},
     "output_type": "execute_result"
    }
   ],
   "source": [
    "from sklearn import svm\n",
    "from sklearn.model_selection import cross_val_score\n",
    "from sklearn.model_selection import KFold\n",
    "clf = svm.SVC(kernel='linear', C = 5);\n",
    "scores = cross_val_score(clf, X, y1, cv=5);\n",
    "scores"
   ]
  },
  {
   "cell_type": "code",
   "execution_count": 113,
   "id": "fd4fb31c",
   "metadata": {},
   "outputs": [],
   "source": [
    "clfr = KFold(n_splits=10, random_state=1, shuffle=True)"
   ]
  },
  {
   "cell_type": "code",
   "execution_count": 114,
   "id": "2ffeb93e",
   "metadata": {},
   "outputs": [
    {
     "name": "stdout",
     "output_type": "stream",
     "text": [
      "[0.03050123 0.03814371 0.02350693 0.03472129 0.02241744]\n"
     ]
    }
   ],
   "source": [
    "print(scores)"
   ]
  },
  {
   "cell_type": "code",
   "execution_count": 111,
   "id": "bd15e663",
   "metadata": {},
   "outputs": [
    {
     "name": "stderr",
     "output_type": "stream",
     "text": [
      "C:\\Users\\Shivani Dussa\\anaconda3\\lib\\site-packages\\sklearn\\model_selection\\_split.py:666: UserWarning: The least populated class in y has only 1 members, which is less than n_splits=5.\n",
      "  warnings.warn((\"The least populated class in y has only %d\"\n"
     ]
    },
    {
     "data": {
      "text/plain": [
       "array([0.03050123, 0.03814371, 0.02350693, 0.03472129, 0.02241744])"
      ]
     },
     "execution_count": 111,
     "metadata": {},
     "output_type": "execute_result"
    }
   ],
   "source": [
    "from sklearn import metrics\n",
    "scores = cross_val_score(\n",
    "clf, X, y1, cv=5, scoring='f1_macro');\n",
    "scores"
   ]
  },
  {
   "cell_type": "code",
   "execution_count": 124,
   "id": "9d64d227",
   "metadata": {},
   "outputs": [],
   "source": [
    "score1 = pol_reg1.score(model1,y)"
   ]
  },
  {
   "cell_type": "code",
   "execution_count": 125,
   "id": "8376591e",
   "metadata": {},
   "outputs": [],
   "source": [
    "score2 = pol_reg2.score(model2,y)"
   ]
  },
  {
   "cell_type": "code",
   "execution_count": 126,
   "id": "d1879b97",
   "metadata": {},
   "outputs": [],
   "source": [
    "score3 = pol_reg3.score(model3,y)"
   ]
  },
  {
   "cell_type": "code",
   "execution_count": 127,
   "id": "ca198eb4",
   "metadata": {},
   "outputs": [],
   "source": [
    "score4 = pol_reg4.score(model4,y)"
   ]
  },
  {
   "cell_type": "code",
   "execution_count": 128,
   "id": "784a1357",
   "metadata": {},
   "outputs": [],
   "source": [
    "rs1 = pd.DataFrame(np.array([score1]).round(4))\n",
    "rs2 = pd.DataFrame(np.array([score2]).round(4))\n",
    "rs3 = pd.DataFrame(np.array([score3]).round(4))\n",
    "rs4 = pd.DataFrame(np.array([score4]).round(4))"
   ]
  },
  {
   "cell_type": "code",
   "execution_count": 129,
   "id": "765d06e0",
   "metadata": {},
   "outputs": [],
   "source": [
    "f5 = rs1.append(rs2)\n",
    "f6 = f5.append(rs3)\n",
    "output = f6.append(rs4)\n",
    "output.to_csv(\"output.csv\",header = 'A')"
   ]
  },
  {
   "cell_type": "code",
   "execution_count": 130,
   "id": "dfc4f5c9",
   "metadata": {},
   "outputs": [
    {
     "data": {
      "text/html": [
       "<div>\n",
       "<style scoped>\n",
       "    .dataframe tbody tr th:only-of-type {\n",
       "        vertical-align: middle;\n",
       "    }\n",
       "\n",
       "    .dataframe tbody tr th {\n",
       "        vertical-align: top;\n",
       "    }\n",
       "\n",
       "    .dataframe thead th {\n",
       "        text-align: right;\n",
       "    }\n",
       "</style>\n",
       "<table border=\"1\" class=\"dataframe\">\n",
       "  <thead>\n",
       "    <tr style=\"text-align: right;\">\n",
       "      <th></th>\n",
       "      <th>0</th>\n",
       "    </tr>\n",
       "  </thead>\n",
       "  <tbody>\n",
       "    <tr>\n",
       "      <th>0</th>\n",
       "      <td>0.0015</td>\n",
       "    </tr>\n",
       "    <tr>\n",
       "      <th>0</th>\n",
       "      <td>0.0021</td>\n",
       "    </tr>\n",
       "    <tr>\n",
       "      <th>0</th>\n",
       "      <td>0.0027</td>\n",
       "    </tr>\n",
       "    <tr>\n",
       "      <th>0</th>\n",
       "      <td>0.0046</td>\n",
       "    </tr>\n",
       "  </tbody>\n",
       "</table>\n",
       "</div>"
      ],
      "text/plain": [
       "        0\n",
       "0  0.0015\n",
       "0  0.0021\n",
       "0  0.0027\n",
       "0  0.0046"
      ]
     },
     "execution_count": 130,
     "metadata": {},
     "output_type": "execute_result"
    }
   ],
   "source": [
    "output"
   ]
  },
  {
   "cell_type": "markdown",
   "id": "ea266a9b",
   "metadata": {},
   "source": [
    "# **Thank You**"
   ]
  }
 ],
 "metadata": {
  "kernelspec": {
   "display_name": "Python 3",
   "language": "python",
   "name": "python3"
  },
  "language_info": {
   "codemirror_mode": {
    "name": "ipython",
    "version": 3
   },
   "file_extension": ".py",
   "mimetype": "text/x-python",
   "name": "python",
   "nbconvert_exporter": "python",
   "pygments_lexer": "ipython3",
   "version": "3.8.8"
  }
 },
 "nbformat": 4,
 "nbformat_minor": 5
}
