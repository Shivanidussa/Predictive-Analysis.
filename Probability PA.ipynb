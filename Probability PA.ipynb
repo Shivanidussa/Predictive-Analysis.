{
 "cells": [
  {
   "cell_type": "markdown",
   "id": "ffdb14f3",
   "metadata": {},
   "source": [
    "# Samplings "
   ]
  },
  {
   "cell_type": "code",
   "execution_count": 1,
   "id": "533fe223",
   "metadata": {},
   "outputs": [],
   "source": [
    "import pandas as pd\n",
    "import numpy as np\n",
    "import matplotlib.pyplot as plt\n",
    "import seaborn as sns"
   ]
  },
  {
   "cell_type": "code",
   "execution_count": 2,
   "id": "c9196596",
   "metadata": {
    "scrolled": true
   },
   "outputs": [],
   "source": [
    "df = pd.read_excel(r\"C:\\Users\\Shivani Dussa\\Downloads\\part_2 - demo files_jg4_jfsqx1l\\Part 2 - Demo Files\\US Superstore data.xls\")"
   ]
  },
  {
   "cell_type": "code",
   "execution_count": 3,
   "id": "8e5133ff",
   "metadata": {},
   "outputs": [
    {
     "data": {
      "text/html": [
       "<div>\n",
       "<style scoped>\n",
       "    .dataframe tbody tr th:only-of-type {\n",
       "        vertical-align: middle;\n",
       "    }\n",
       "\n",
       "    .dataframe tbody tr th {\n",
       "        vertical-align: top;\n",
       "    }\n",
       "\n",
       "    .dataframe thead th {\n",
       "        text-align: right;\n",
       "    }\n",
       "</style>\n",
       "<table border=\"1\" class=\"dataframe\">\n",
       "  <thead>\n",
       "    <tr style=\"text-align: right;\">\n",
       "      <th></th>\n",
       "      <th>Row ID</th>\n",
       "      <th>Order ID</th>\n",
       "      <th>Order Date</th>\n",
       "      <th>Ship Date</th>\n",
       "      <th>Ship Mode</th>\n",
       "      <th>Customer ID</th>\n",
       "      <th>Customer Name</th>\n",
       "      <th>Segment</th>\n",
       "      <th>Country</th>\n",
       "      <th>City</th>\n",
       "      <th>...</th>\n",
       "      <th>Postal Code</th>\n",
       "      <th>Region</th>\n",
       "      <th>Product ID</th>\n",
       "      <th>Category</th>\n",
       "      <th>Sub-Category</th>\n",
       "      <th>Product Name</th>\n",
       "      <th>Sales</th>\n",
       "      <th>Quantity</th>\n",
       "      <th>Discount</th>\n",
       "      <th>Profit</th>\n",
       "    </tr>\n",
       "  </thead>\n",
       "  <tbody>\n",
       "    <tr>\n",
       "      <th>0</th>\n",
       "      <td>1</td>\n",
       "      <td>CA-2016-152156</td>\n",
       "      <td>2016-11-08</td>\n",
       "      <td>2016-11-11</td>\n",
       "      <td>Second Class</td>\n",
       "      <td>CG-12520</td>\n",
       "      <td>Claire Gute</td>\n",
       "      <td>Consumer</td>\n",
       "      <td>United States</td>\n",
       "      <td>Henderson</td>\n",
       "      <td>...</td>\n",
       "      <td>42420</td>\n",
       "      <td>South</td>\n",
       "      <td>FUR-BO-10001798</td>\n",
       "      <td>Furniture</td>\n",
       "      <td>Bookcases</td>\n",
       "      <td>Bush Somerset Collection Bookcase</td>\n",
       "      <td>261.96</td>\n",
       "      <td>2</td>\n",
       "      <td>0.0</td>\n",
       "      <td>41.9136</td>\n",
       "    </tr>\n",
       "    <tr>\n",
       "      <th>1</th>\n",
       "      <td>2</td>\n",
       "      <td>CA-2016-152156</td>\n",
       "      <td>2016-11-08</td>\n",
       "      <td>2016-11-11</td>\n",
       "      <td>Second Class</td>\n",
       "      <td>CG-12520</td>\n",
       "      <td>Claire Gute</td>\n",
       "      <td>Consumer</td>\n",
       "      <td>United States</td>\n",
       "      <td>Henderson</td>\n",
       "      <td>...</td>\n",
       "      <td>42420</td>\n",
       "      <td>South</td>\n",
       "      <td>FUR-CH-10000454</td>\n",
       "      <td>Furniture</td>\n",
       "      <td>Chairs</td>\n",
       "      <td>Hon Deluxe Fabric Upholstered Stacking Chairs,...</td>\n",
       "      <td>731.94</td>\n",
       "      <td>3</td>\n",
       "      <td>0.0</td>\n",
       "      <td>219.5820</td>\n",
       "    </tr>\n",
       "  </tbody>\n",
       "</table>\n",
       "<p>2 rows × 21 columns</p>\n",
       "</div>"
      ],
      "text/plain": [
       "   Row ID        Order ID Order Date  Ship Date     Ship Mode Customer ID  \\\n",
       "0       1  CA-2016-152156 2016-11-08 2016-11-11  Second Class    CG-12520   \n",
       "1       2  CA-2016-152156 2016-11-08 2016-11-11  Second Class    CG-12520   \n",
       "\n",
       "  Customer Name   Segment        Country       City  ... Postal Code  Region  \\\n",
       "0   Claire Gute  Consumer  United States  Henderson  ...       42420   South   \n",
       "1   Claire Gute  Consumer  United States  Henderson  ...       42420   South   \n",
       "\n",
       "        Product ID   Category Sub-Category  \\\n",
       "0  FUR-BO-10001798  Furniture    Bookcases   \n",
       "1  FUR-CH-10000454  Furniture       Chairs   \n",
       "\n",
       "                                        Product Name   Sales  Quantity  \\\n",
       "0                  Bush Somerset Collection Bookcase  261.96         2   \n",
       "1  Hon Deluxe Fabric Upholstered Stacking Chairs,...  731.94         3   \n",
       "\n",
       "   Discount    Profit  \n",
       "0       0.0   41.9136  \n",
       "1       0.0  219.5820  \n",
       "\n",
       "[2 rows x 21 columns]"
      ]
     },
     "execution_count": 3,
     "metadata": {},
     "output_type": "execute_result"
    }
   ],
   "source": [
    "df.head(2)"
   ]
  },
  {
   "cell_type": "code",
   "execution_count": 4,
   "id": "61298827",
   "metadata": {},
   "outputs": [
    {
     "data": {
      "text/plain": [
       "(9994, 21)"
      ]
     },
     "execution_count": 4,
     "metadata": {},
     "output_type": "execute_result"
    }
   ],
   "source": [
    "df.shape"
   ]
  },
  {
   "cell_type": "markdown",
   "id": "f16af7aa",
   "metadata": {},
   "source": [
    "### Obtaining a random sample"
   ]
  },
  {
   "cell_type": "code",
   "execution_count": 6,
   "id": "ccda9778",
   "metadata": {},
   "outputs": [],
   "source": [
    "newdf = df.sample(frac = .30,random_state = 21)  # random_state is seed we give 21 it means it give random\n",
    "                                                 # 21 numbers out of that"
   ]
  },
  {
   "cell_type": "code",
   "execution_count": 9,
   "id": "a72c2685",
   "metadata": {},
   "outputs": [
    {
     "data": {
      "text/html": [
       "<div>\n",
       "<style scoped>\n",
       "    .dataframe tbody tr th:only-of-type {\n",
       "        vertical-align: middle;\n",
       "    }\n",
       "\n",
       "    .dataframe tbody tr th {\n",
       "        vertical-align: top;\n",
       "    }\n",
       "\n",
       "    .dataframe thead th {\n",
       "        text-align: right;\n",
       "    }\n",
       "</style>\n",
       "<table border=\"1\" class=\"dataframe\">\n",
       "  <thead>\n",
       "    <tr style=\"text-align: right;\">\n",
       "      <th></th>\n",
       "      <th>Row ID</th>\n",
       "      <th>Order ID</th>\n",
       "      <th>Order Date</th>\n",
       "      <th>Ship Date</th>\n",
       "      <th>Ship Mode</th>\n",
       "      <th>Customer ID</th>\n",
       "      <th>Customer Name</th>\n",
       "      <th>Segment</th>\n",
       "      <th>Country</th>\n",
       "      <th>City</th>\n",
       "      <th>...</th>\n",
       "      <th>Postal Code</th>\n",
       "      <th>Region</th>\n",
       "      <th>Product ID</th>\n",
       "      <th>Category</th>\n",
       "      <th>Sub-Category</th>\n",
       "      <th>Product Name</th>\n",
       "      <th>Sales</th>\n",
       "      <th>Quantity</th>\n",
       "      <th>Discount</th>\n",
       "      <th>Profit</th>\n",
       "    </tr>\n",
       "  </thead>\n",
       "  <tbody>\n",
       "    <tr>\n",
       "      <th>8865</th>\n",
       "      <td>8866</td>\n",
       "      <td>CA-2015-158148</td>\n",
       "      <td>2015-12-20</td>\n",
       "      <td>2015-12-26</td>\n",
       "      <td>Standard Class</td>\n",
       "      <td>JM-15865</td>\n",
       "      <td>John Murray</td>\n",
       "      <td>Consumer</td>\n",
       "      <td>United States</td>\n",
       "      <td>Arlington</td>\n",
       "      <td>...</td>\n",
       "      <td>22204</td>\n",
       "      <td>South</td>\n",
       "      <td>OFF-AP-10003281</td>\n",
       "      <td>Office Supplies</td>\n",
       "      <td>Appliances</td>\n",
       "      <td>Acco 6 Outlet Guardian Standard Surge Suppressor</td>\n",
       "      <td>36.270</td>\n",
       "      <td>3</td>\n",
       "      <td>0.0</td>\n",
       "      <td>10.8810</td>\n",
       "    </tr>\n",
       "    <tr>\n",
       "      <th>4049</th>\n",
       "      <td>4050</td>\n",
       "      <td>CA-2017-136350</td>\n",
       "      <td>2017-06-24</td>\n",
       "      <td>2017-06-26</td>\n",
       "      <td>Second Class</td>\n",
       "      <td>GA-14515</td>\n",
       "      <td>George Ashbrook</td>\n",
       "      <td>Consumer</td>\n",
       "      <td>United States</td>\n",
       "      <td>New York City</td>\n",
       "      <td>...</td>\n",
       "      <td>10011</td>\n",
       "      <td>East</td>\n",
       "      <td>FUR-FU-10003601</td>\n",
       "      <td>Furniture</td>\n",
       "      <td>Furnishings</td>\n",
       "      <td>Deflect-o RollaMat Studded, Beveled Mat for Me...</td>\n",
       "      <td>276.690</td>\n",
       "      <td>3</td>\n",
       "      <td>0.0</td>\n",
       "      <td>49.8042</td>\n",
       "    </tr>\n",
       "    <tr>\n",
       "      <th>11</th>\n",
       "      <td>12</td>\n",
       "      <td>CA-2014-115812</td>\n",
       "      <td>2014-06-09</td>\n",
       "      <td>2014-06-14</td>\n",
       "      <td>Standard Class</td>\n",
       "      <td>BH-11710</td>\n",
       "      <td>Brosina Hoffman</td>\n",
       "      <td>Consumer</td>\n",
       "      <td>United States</td>\n",
       "      <td>Los Angeles</td>\n",
       "      <td>...</td>\n",
       "      <td>90032</td>\n",
       "      <td>West</td>\n",
       "      <td>TEC-PH-10002033</td>\n",
       "      <td>Technology</td>\n",
       "      <td>Phones</td>\n",
       "      <td>Konftel 250 Conference phone - Charcoal black</td>\n",
       "      <td>911.424</td>\n",
       "      <td>4</td>\n",
       "      <td>0.2</td>\n",
       "      <td>68.3568</td>\n",
       "    </tr>\n",
       "    <tr>\n",
       "      <th>7505</th>\n",
       "      <td>7506</td>\n",
       "      <td>US-2017-106579</td>\n",
       "      <td>2017-06-08</td>\n",
       "      <td>2017-06-13</td>\n",
       "      <td>Standard Class</td>\n",
       "      <td>BW-11200</td>\n",
       "      <td>Ben Wallace</td>\n",
       "      <td>Consumer</td>\n",
       "      <td>United States</td>\n",
       "      <td>Skokie</td>\n",
       "      <td>...</td>\n",
       "      <td>60076</td>\n",
       "      <td>Central</td>\n",
       "      <td>OFF-BI-10000309</td>\n",
       "      <td>Office Supplies</td>\n",
       "      <td>Binders</td>\n",
       "      <td>GBC Twin Loop Wire Binding Elements, 9/16\" Spi...</td>\n",
       "      <td>12.176</td>\n",
       "      <td>4</td>\n",
       "      <td>0.8</td>\n",
       "      <td>-18.8728</td>\n",
       "    </tr>\n",
       "    <tr>\n",
       "      <th>2102</th>\n",
       "      <td>2103</td>\n",
       "      <td>CA-2014-123295</td>\n",
       "      <td>2014-07-18</td>\n",
       "      <td>2014-07-18</td>\n",
       "      <td>Same Day</td>\n",
       "      <td>AH-10120</td>\n",
       "      <td>Adrian Hane</td>\n",
       "      <td>Home Office</td>\n",
       "      <td>United States</td>\n",
       "      <td>Tucson</td>\n",
       "      <td>...</td>\n",
       "      <td>85705</td>\n",
       "      <td>West</td>\n",
       "      <td>FUR-CH-10002372</td>\n",
       "      <td>Furniture</td>\n",
       "      <td>Chairs</td>\n",
       "      <td>Office Star - Ergonomically Designed Knee Chair</td>\n",
       "      <td>259.136</td>\n",
       "      <td>4</td>\n",
       "      <td>0.2</td>\n",
       "      <td>-25.9136</td>\n",
       "    </tr>\n",
       "  </tbody>\n",
       "</table>\n",
       "<p>5 rows × 21 columns</p>\n",
       "</div>"
      ],
      "text/plain": [
       "      Row ID        Order ID Order Date  Ship Date       Ship Mode  \\\n",
       "8865    8866  CA-2015-158148 2015-12-20 2015-12-26  Standard Class   \n",
       "4049    4050  CA-2017-136350 2017-06-24 2017-06-26    Second Class   \n",
       "11        12  CA-2014-115812 2014-06-09 2014-06-14  Standard Class   \n",
       "7505    7506  US-2017-106579 2017-06-08 2017-06-13  Standard Class   \n",
       "2102    2103  CA-2014-123295 2014-07-18 2014-07-18        Same Day   \n",
       "\n",
       "     Customer ID    Customer Name      Segment        Country           City  \\\n",
       "8865    JM-15865      John Murray     Consumer  United States      Arlington   \n",
       "4049    GA-14515  George Ashbrook     Consumer  United States  New York City   \n",
       "11      BH-11710  Brosina Hoffman     Consumer  United States    Los Angeles   \n",
       "7505    BW-11200      Ben Wallace     Consumer  United States         Skokie   \n",
       "2102    AH-10120      Adrian Hane  Home Office  United States         Tucson   \n",
       "\n",
       "      ... Postal Code   Region       Product ID         Category Sub-Category  \\\n",
       "8865  ...       22204    South  OFF-AP-10003281  Office Supplies   Appliances   \n",
       "4049  ...       10011     East  FUR-FU-10003601        Furniture  Furnishings   \n",
       "11    ...       90032     West  TEC-PH-10002033       Technology       Phones   \n",
       "7505  ...       60076  Central  OFF-BI-10000309  Office Supplies      Binders   \n",
       "2102  ...       85705     West  FUR-CH-10002372        Furniture       Chairs   \n",
       "\n",
       "                                           Product Name    Sales  Quantity  \\\n",
       "8865   Acco 6 Outlet Guardian Standard Surge Suppressor   36.270         3   \n",
       "4049  Deflect-o RollaMat Studded, Beveled Mat for Me...  276.690         3   \n",
       "11        Konftel 250 Conference phone - Charcoal black  911.424         4   \n",
       "7505  GBC Twin Loop Wire Binding Elements, 9/16\" Spi...   12.176         4   \n",
       "2102    Office Star - Ergonomically Designed Knee Chair  259.136         4   \n",
       "\n",
       "      Discount   Profit  \n",
       "8865       0.0  10.8810  \n",
       "4049       0.0  49.8042  \n",
       "11         0.2  68.3568  \n",
       "7505       0.8 -18.8728  \n",
       "2102       0.2 -25.9136  \n",
       "\n",
       "[5 rows x 21 columns]"
      ]
     },
     "execution_count": 9,
     "metadata": {},
     "output_type": "execute_result"
    }
   ],
   "source": [
    "newdf.head()"
   ]
  },
  {
   "cell_type": "code",
   "execution_count": 10,
   "id": "ecce69ae",
   "metadata": {},
   "outputs": [],
   "source": [
    "_5 = df.sample(frac = .50,random_state = 500) # frac means we were collecting 50% of original data "
   ]
  },
  {
   "cell_type": "code",
   "execution_count": 11,
   "id": "d1f434e0",
   "metadata": {},
   "outputs": [
    {
     "data": {
      "text/plain": [
       "(4997, 21)"
      ]
     },
     "execution_count": 11,
     "metadata": {},
     "output_type": "execute_result"
    }
   ],
   "source": [
    "_5.shape"
   ]
  },
  {
   "cell_type": "code",
   "execution_count": 13,
   "id": "5c192457",
   "metadata": {},
   "outputs": [
    {
     "data": {
      "text/html": [
       "<div>\n",
       "<style scoped>\n",
       "    .dataframe tbody tr th:only-of-type {\n",
       "        vertical-align: middle;\n",
       "    }\n",
       "\n",
       "    .dataframe tbody tr th {\n",
       "        vertical-align: top;\n",
       "    }\n",
       "\n",
       "    .dataframe thead th {\n",
       "        text-align: right;\n",
       "    }\n",
       "</style>\n",
       "<table border=\"1\" class=\"dataframe\">\n",
       "  <thead>\n",
       "    <tr style=\"text-align: right;\">\n",
       "      <th></th>\n",
       "      <th>Row ID</th>\n",
       "      <th>Order ID</th>\n",
       "      <th>Order Date</th>\n",
       "      <th>Ship Date</th>\n",
       "      <th>Ship Mode</th>\n",
       "      <th>Customer ID</th>\n",
       "      <th>Customer Name</th>\n",
       "      <th>Segment</th>\n",
       "      <th>Country</th>\n",
       "      <th>City</th>\n",
       "      <th>...</th>\n",
       "      <th>Postal Code</th>\n",
       "      <th>Region</th>\n",
       "      <th>Product ID</th>\n",
       "      <th>Category</th>\n",
       "      <th>Sub-Category</th>\n",
       "      <th>Product Name</th>\n",
       "      <th>Sales</th>\n",
       "      <th>Quantity</th>\n",
       "      <th>Discount</th>\n",
       "      <th>Profit</th>\n",
       "    </tr>\n",
       "  </thead>\n",
       "  <tbody>\n",
       "    <tr>\n",
       "      <th>5070</th>\n",
       "      <td>5071</td>\n",
       "      <td>CA-2014-124478</td>\n",
       "      <td>2014-08-08</td>\n",
       "      <td>2014-08-12</td>\n",
       "      <td>Standard Class</td>\n",
       "      <td>MA-17560</td>\n",
       "      <td>Matt Abelman</td>\n",
       "      <td>Home Office</td>\n",
       "      <td>United States</td>\n",
       "      <td>Trenton</td>\n",
       "      <td>...</td>\n",
       "      <td>48183</td>\n",
       "      <td>Central</td>\n",
       "      <td>OFF-EN-10002500</td>\n",
       "      <td>Office Supplies</td>\n",
       "      <td>Envelopes</td>\n",
       "      <td>Globe Weis Peel &amp; Seel First Class Envelopes</td>\n",
       "      <td>38.340</td>\n",
       "      <td>3</td>\n",
       "      <td>0.0</td>\n",
       "      <td>17.2530</td>\n",
       "    </tr>\n",
       "    <tr>\n",
       "      <th>1934</th>\n",
       "      <td>1935</td>\n",
       "      <td>CA-2017-101245</td>\n",
       "      <td>2017-11-27</td>\n",
       "      <td>2017-12-03</td>\n",
       "      <td>Standard Class</td>\n",
       "      <td>LW-16990</td>\n",
       "      <td>Lindsay Williams</td>\n",
       "      <td>Corporate</td>\n",
       "      <td>United States</td>\n",
       "      <td>San Francisco</td>\n",
       "      <td>...</td>\n",
       "      <td>94109</td>\n",
       "      <td>West</td>\n",
       "      <td>OFF-PA-10003129</td>\n",
       "      <td>Office Supplies</td>\n",
       "      <td>Paper</td>\n",
       "      <td>Tops White Computer Printout Paper</td>\n",
       "      <td>244.550</td>\n",
       "      <td>5</td>\n",
       "      <td>0.0</td>\n",
       "      <td>114.9385</td>\n",
       "    </tr>\n",
       "    <tr>\n",
       "      <th>7623</th>\n",
       "      <td>7624</td>\n",
       "      <td>CA-2014-124464</td>\n",
       "      <td>2014-07-14</td>\n",
       "      <td>2014-07-20</td>\n",
       "      <td>Standard Class</td>\n",
       "      <td>SS-20515</td>\n",
       "      <td>Shirley Schmidt</td>\n",
       "      <td>Home Office</td>\n",
       "      <td>United States</td>\n",
       "      <td>Newark</td>\n",
       "      <td>...</td>\n",
       "      <td>19711</td>\n",
       "      <td>East</td>\n",
       "      <td>OFF-AP-10000576</td>\n",
       "      <td>Office Supplies</td>\n",
       "      <td>Appliances</td>\n",
       "      <td>Belkin 7 Outlet SurgeMaster II</td>\n",
       "      <td>39.480</td>\n",
       "      <td>1</td>\n",
       "      <td>0.0</td>\n",
       "      <td>11.0544</td>\n",
       "    </tr>\n",
       "    <tr>\n",
       "      <th>5520</th>\n",
       "      <td>5521</td>\n",
       "      <td>CA-2017-117667</td>\n",
       "      <td>2017-12-04</td>\n",
       "      <td>2017-12-09</td>\n",
       "      <td>Standard Class</td>\n",
       "      <td>MS-17980</td>\n",
       "      <td>Michael Stewart</td>\n",
       "      <td>Corporate</td>\n",
       "      <td>United States</td>\n",
       "      <td>Philadelphia</td>\n",
       "      <td>...</td>\n",
       "      <td>19134</td>\n",
       "      <td>East</td>\n",
       "      <td>OFF-PA-10002709</td>\n",
       "      <td>Office Supplies</td>\n",
       "      <td>Paper</td>\n",
       "      <td>Xerox 1956</td>\n",
       "      <td>23.920</td>\n",
       "      <td>5</td>\n",
       "      <td>0.2</td>\n",
       "      <td>8.6710</td>\n",
       "    </tr>\n",
       "    <tr>\n",
       "      <th>8642</th>\n",
       "      <td>8643</td>\n",
       "      <td>CA-2015-108259</td>\n",
       "      <td>2015-11-08</td>\n",
       "      <td>2015-11-15</td>\n",
       "      <td>Standard Class</td>\n",
       "      <td>NS-18640</td>\n",
       "      <td>Noel Staavos</td>\n",
       "      <td>Corporate</td>\n",
       "      <td>United States</td>\n",
       "      <td>Jacksonville</td>\n",
       "      <td>...</td>\n",
       "      <td>28540</td>\n",
       "      <td>South</td>\n",
       "      <td>OFF-FA-10000624</td>\n",
       "      <td>Office Supplies</td>\n",
       "      <td>Fasteners</td>\n",
       "      <td>OIC Binder Clips</td>\n",
       "      <td>31.504</td>\n",
       "      <td>11</td>\n",
       "      <td>0.2</td>\n",
       "      <td>11.8140</td>\n",
       "    </tr>\n",
       "  </tbody>\n",
       "</table>\n",
       "<p>5 rows × 21 columns</p>\n",
       "</div>"
      ],
      "text/plain": [
       "      Row ID        Order ID Order Date  Ship Date       Ship Mode  \\\n",
       "5070    5071  CA-2014-124478 2014-08-08 2014-08-12  Standard Class   \n",
       "1934    1935  CA-2017-101245 2017-11-27 2017-12-03  Standard Class   \n",
       "7623    7624  CA-2014-124464 2014-07-14 2014-07-20  Standard Class   \n",
       "5520    5521  CA-2017-117667 2017-12-04 2017-12-09  Standard Class   \n",
       "8642    8643  CA-2015-108259 2015-11-08 2015-11-15  Standard Class   \n",
       "\n",
       "     Customer ID     Customer Name      Segment        Country           City  \\\n",
       "5070    MA-17560      Matt Abelman  Home Office  United States        Trenton   \n",
       "1934    LW-16990  Lindsay Williams    Corporate  United States  San Francisco   \n",
       "7623    SS-20515   Shirley Schmidt  Home Office  United States         Newark   \n",
       "5520    MS-17980   Michael Stewart    Corporate  United States   Philadelphia   \n",
       "8642    NS-18640      Noel Staavos    Corporate  United States   Jacksonville   \n",
       "\n",
       "      ... Postal Code   Region       Product ID         Category Sub-Category  \\\n",
       "5070  ...       48183  Central  OFF-EN-10002500  Office Supplies    Envelopes   \n",
       "1934  ...       94109     West  OFF-PA-10003129  Office Supplies        Paper   \n",
       "7623  ...       19711     East  OFF-AP-10000576  Office Supplies   Appliances   \n",
       "5520  ...       19134     East  OFF-PA-10002709  Office Supplies        Paper   \n",
       "8642  ...       28540    South  OFF-FA-10000624  Office Supplies    Fasteners   \n",
       "\n",
       "                                      Product Name    Sales  Quantity  \\\n",
       "5070  Globe Weis Peel & Seel First Class Envelopes   38.340         3   \n",
       "1934            Tops White Computer Printout Paper  244.550         5   \n",
       "7623                Belkin 7 Outlet SurgeMaster II   39.480         1   \n",
       "5520                                    Xerox 1956   23.920         5   \n",
       "8642                              OIC Binder Clips   31.504        11   \n",
       "\n",
       "      Discount    Profit  \n",
       "5070       0.0   17.2530  \n",
       "1934       0.0  114.9385  \n",
       "7623       0.0   11.0544  \n",
       "5520       0.2    8.6710  \n",
       "8642       0.2   11.8140  \n",
       "\n",
       "[5 rows x 21 columns]"
      ]
     },
     "execution_count": 13,
     "metadata": {},
     "output_type": "execute_result"
    }
   ],
   "source": [
    "_5.head()"
   ]
  },
  {
   "cell_type": "code",
   "execution_count": 29,
   "id": "56f729a5",
   "metadata": {},
   "outputs": [],
   "source": [
    "r = df.sample(frac = 0.0002,random_state = 10)"
   ]
  },
  {
   "cell_type": "code",
   "execution_count": 30,
   "id": "ec57e05b",
   "metadata": {},
   "outputs": [
    {
     "data": {
      "text/plain": [
       "(2, 21)"
      ]
     },
     "execution_count": 30,
     "metadata": {},
     "output_type": "execute_result"
    }
   ],
   "source": [
    "r.shape"
   ]
  },
  {
   "cell_type": "code",
   "execution_count": 31,
   "id": "f1785f00",
   "metadata": {},
   "outputs": [
    {
     "data": {
      "text/html": [
       "<div>\n",
       "<style scoped>\n",
       "    .dataframe tbody tr th:only-of-type {\n",
       "        vertical-align: middle;\n",
       "    }\n",
       "\n",
       "    .dataframe tbody tr th {\n",
       "        vertical-align: top;\n",
       "    }\n",
       "\n",
       "    .dataframe thead th {\n",
       "        text-align: right;\n",
       "    }\n",
       "</style>\n",
       "<table border=\"1\" class=\"dataframe\">\n",
       "  <thead>\n",
       "    <tr style=\"text-align: right;\">\n",
       "      <th></th>\n",
       "      <th>Row ID</th>\n",
       "      <th>Order ID</th>\n",
       "      <th>Order Date</th>\n",
       "      <th>Ship Date</th>\n",
       "      <th>Ship Mode</th>\n",
       "      <th>Customer ID</th>\n",
       "      <th>Customer Name</th>\n",
       "      <th>Segment</th>\n",
       "      <th>Country</th>\n",
       "      <th>City</th>\n",
       "      <th>...</th>\n",
       "      <th>Postal Code</th>\n",
       "      <th>Region</th>\n",
       "      <th>Product ID</th>\n",
       "      <th>Category</th>\n",
       "      <th>Sub-Category</th>\n",
       "      <th>Product Name</th>\n",
       "      <th>Sales</th>\n",
       "      <th>Quantity</th>\n",
       "      <th>Discount</th>\n",
       "      <th>Profit</th>\n",
       "    </tr>\n",
       "  </thead>\n",
       "  <tbody>\n",
       "    <tr>\n",
       "      <th>937</th>\n",
       "      <td>938</td>\n",
       "      <td>US-2017-111745</td>\n",
       "      <td>2017-11-05</td>\n",
       "      <td>2017-11-06</td>\n",
       "      <td>First Class</td>\n",
       "      <td>RA-19885</td>\n",
       "      <td>Ruben Ausman</td>\n",
       "      <td>Corporate</td>\n",
       "      <td>United States</td>\n",
       "      <td>Farmington</td>\n",
       "      <td>...</td>\n",
       "      <td>87401</td>\n",
       "      <td>West</td>\n",
       "      <td>TEC-AC-10003911</td>\n",
       "      <td>Technology</td>\n",
       "      <td>Accessories</td>\n",
       "      <td>NETGEAR AC1750 Dual Band Gigabit Smart WiFi Ro...</td>\n",
       "      <td>159.99</td>\n",
       "      <td>1</td>\n",
       "      <td>0.0</td>\n",
       "      <td>54.3966</td>\n",
       "    </tr>\n",
       "    <tr>\n",
       "      <th>4514</th>\n",
       "      <td>4515</td>\n",
       "      <td>CA-2016-120873</td>\n",
       "      <td>2016-10-27</td>\n",
       "      <td>2016-11-01</td>\n",
       "      <td>Second Class</td>\n",
       "      <td>BW-11200</td>\n",
       "      <td>Ben Wallace</td>\n",
       "      <td>Consumer</td>\n",
       "      <td>United States</td>\n",
       "      <td>Hampton</td>\n",
       "      <td>...</td>\n",
       "      <td>23666</td>\n",
       "      <td>South</td>\n",
       "      <td>FUR-CH-10000847</td>\n",
       "      <td>Furniture</td>\n",
       "      <td>Chairs</td>\n",
       "      <td>Global Executive Mid-Back Manager's Chair</td>\n",
       "      <td>290.98</td>\n",
       "      <td>1</td>\n",
       "      <td>0.0</td>\n",
       "      <td>75.6548</td>\n",
       "    </tr>\n",
       "  </tbody>\n",
       "</table>\n",
       "<p>2 rows × 21 columns</p>\n",
       "</div>"
      ],
      "text/plain": [
       "      Row ID        Order ID Order Date  Ship Date     Ship Mode Customer ID  \\\n",
       "937      938  US-2017-111745 2017-11-05 2017-11-06   First Class    RA-19885   \n",
       "4514    4515  CA-2016-120873 2016-10-27 2016-11-01  Second Class    BW-11200   \n",
       "\n",
       "     Customer Name    Segment        Country        City  ... Postal Code  \\\n",
       "937   Ruben Ausman  Corporate  United States  Farmington  ...       87401   \n",
       "4514   Ben Wallace   Consumer  United States     Hampton  ...       23666   \n",
       "\n",
       "      Region       Product ID    Category Sub-Category  \\\n",
       "937     West  TEC-AC-10003911  Technology  Accessories   \n",
       "4514   South  FUR-CH-10000847   Furniture       Chairs   \n",
       "\n",
       "                                           Product Name   Sales  Quantity  \\\n",
       "937   NETGEAR AC1750 Dual Band Gigabit Smart WiFi Ro...  159.99         1   \n",
       "4514          Global Executive Mid-Back Manager's Chair  290.98         1   \n",
       "\n",
       "      Discount   Profit  \n",
       "937        0.0  54.3966  \n",
       "4514       0.0  75.6548  \n",
       "\n",
       "[2 rows x 21 columns]"
      ]
     },
     "execution_count": 31,
     "metadata": {},
     "output_type": "execute_result"
    }
   ],
   "source": [
    "r"
   ]
  },
  {
   "cell_type": "markdown",
   "id": "4cbee876",
   "metadata": {},
   "source": [
    "### startified Sample "
   ]
  },
  {
   "cell_type": "code",
   "execution_count": 33,
   "id": "65c0ae59",
   "metadata": {},
   "outputs": [],
   "source": [
    "seg1 = df[df.Segment == 'Corporate']\n",
    "seg2 = df[df.Segment == 'Consumer']\n",
    "seg3 = df[df.Segment == 'Home Office']\n",
    "\n",
    "sample1 = seg1.sample(frac = 0.0002)\n",
    "sample2 = seg2.sample(frac = 0.0003)\n",
    "sample3 = seg3.sample(frac = 0.001)\n"
   ]
  },
  {
   "cell_type": "code",
   "execution_count": 37,
   "id": "f9f7eaaa",
   "metadata": {},
   "outputs": [],
   "source": [
    "finalsample = pd.concat([sample1,sample2,sample3],axis = 0)"
   ]
  },
  {
   "cell_type": "code",
   "execution_count": 38,
   "id": "2c0ec24b",
   "metadata": {},
   "outputs": [
    {
     "data": {
      "text/html": [
       "<div>\n",
       "<style scoped>\n",
       "    .dataframe tbody tr th:only-of-type {\n",
       "        vertical-align: middle;\n",
       "    }\n",
       "\n",
       "    .dataframe tbody tr th {\n",
       "        vertical-align: top;\n",
       "    }\n",
       "\n",
       "    .dataframe thead th {\n",
       "        text-align: right;\n",
       "    }\n",
       "</style>\n",
       "<table border=\"1\" class=\"dataframe\">\n",
       "  <thead>\n",
       "    <tr style=\"text-align: right;\">\n",
       "      <th></th>\n",
       "      <th>Row ID</th>\n",
       "      <th>Order ID</th>\n",
       "      <th>Order Date</th>\n",
       "      <th>Ship Date</th>\n",
       "      <th>Ship Mode</th>\n",
       "      <th>Customer ID</th>\n",
       "      <th>Customer Name</th>\n",
       "      <th>Segment</th>\n",
       "      <th>Country</th>\n",
       "      <th>City</th>\n",
       "      <th>...</th>\n",
       "      <th>Postal Code</th>\n",
       "      <th>Region</th>\n",
       "      <th>Product ID</th>\n",
       "      <th>Category</th>\n",
       "      <th>Sub-Category</th>\n",
       "      <th>Product Name</th>\n",
       "      <th>Sales</th>\n",
       "      <th>Quantity</th>\n",
       "      <th>Discount</th>\n",
       "      <th>Profit</th>\n",
       "    </tr>\n",
       "  </thead>\n",
       "  <tbody>\n",
       "    <tr>\n",
       "      <th>773</th>\n",
       "      <td>774</td>\n",
       "      <td>CA-2017-104220</td>\n",
       "      <td>2017-01-30</td>\n",
       "      <td>2017-02-05</td>\n",
       "      <td>Standard Class</td>\n",
       "      <td>BV-11245</td>\n",
       "      <td>Benjamin Venier</td>\n",
       "      <td>Corporate</td>\n",
       "      <td>United States</td>\n",
       "      <td>Des Moines</td>\n",
       "      <td>...</td>\n",
       "      <td>50315</td>\n",
       "      <td>Central</td>\n",
       "      <td>OFF-BI-10003910</td>\n",
       "      <td>Office Supplies</td>\n",
       "      <td>Binders</td>\n",
       "      <td>DXL Angle-View Binders with Locking Rings by S...</td>\n",
       "      <td>7.710</td>\n",
       "      <td>1</td>\n",
       "      <td>0.0</td>\n",
       "      <td>3.4695</td>\n",
       "    </tr>\n",
       "    <tr>\n",
       "      <th>8124</th>\n",
       "      <td>8125</td>\n",
       "      <td>US-2017-150070</td>\n",
       "      <td>2017-09-07</td>\n",
       "      <td>2017-09-12</td>\n",
       "      <td>Standard Class</td>\n",
       "      <td>JA-15970</td>\n",
       "      <td>Joseph Airdo</td>\n",
       "      <td>Consumer</td>\n",
       "      <td>United States</td>\n",
       "      <td>Modesto</td>\n",
       "      <td>...</td>\n",
       "      <td>95351</td>\n",
       "      <td>West</td>\n",
       "      <td>FUR-CH-10004860</td>\n",
       "      <td>Furniture</td>\n",
       "      <td>Chairs</td>\n",
       "      <td>Global Low Back Tilter Chair</td>\n",
       "      <td>161.568</td>\n",
       "      <td>2</td>\n",
       "      <td>0.2</td>\n",
       "      <td>-28.2744</td>\n",
       "    </tr>\n",
       "    <tr>\n",
       "      <th>4363</th>\n",
       "      <td>4364</td>\n",
       "      <td>CA-2017-111332</td>\n",
       "      <td>2017-05-20</td>\n",
       "      <td>2017-05-22</td>\n",
       "      <td>Second Class</td>\n",
       "      <td>NC-18340</td>\n",
       "      <td>Nat Carroll</td>\n",
       "      <td>Consumer</td>\n",
       "      <td>United States</td>\n",
       "      <td>Fargo</td>\n",
       "      <td>...</td>\n",
       "      <td>58103</td>\n",
       "      <td>Central</td>\n",
       "      <td>OFF-AR-10001374</td>\n",
       "      <td>Office Supplies</td>\n",
       "      <td>Art</td>\n",
       "      <td>BIC Brite Liner Highlighters, Chisel Tip</td>\n",
       "      <td>25.920</td>\n",
       "      <td>4</td>\n",
       "      <td>0.0</td>\n",
       "      <td>8.2944</td>\n",
       "    </tr>\n",
       "    <tr>\n",
       "      <th>9877</th>\n",
       "      <td>9878</td>\n",
       "      <td>US-2017-166324</td>\n",
       "      <td>2017-04-20</td>\n",
       "      <td>2017-04-21</td>\n",
       "      <td>First Class</td>\n",
       "      <td>BE-11455</td>\n",
       "      <td>Brad Eason</td>\n",
       "      <td>Home Office</td>\n",
       "      <td>United States</td>\n",
       "      <td>Cleveland</td>\n",
       "      <td>...</td>\n",
       "      <td>44105</td>\n",
       "      <td>East</td>\n",
       "      <td>OFF-BI-10000174</td>\n",
       "      <td>Office Supplies</td>\n",
       "      <td>Binders</td>\n",
       "      <td>Wilson Jones Clip &amp; Carry Folder Binder Tool f...</td>\n",
       "      <td>8.700</td>\n",
       "      <td>5</td>\n",
       "      <td>0.7</td>\n",
       "      <td>-6.3800</td>\n",
       "    </tr>\n",
       "    <tr>\n",
       "      <th>7197</th>\n",
       "      <td>7198</td>\n",
       "      <td>CA-2014-116785</td>\n",
       "      <td>2014-04-26</td>\n",
       "      <td>2014-04-30</td>\n",
       "      <td>Standard Class</td>\n",
       "      <td>MH-17290</td>\n",
       "      <td>Marc Harrigan</td>\n",
       "      <td>Home Office</td>\n",
       "      <td>United States</td>\n",
       "      <td>Los Angeles</td>\n",
       "      <td>...</td>\n",
       "      <td>90036</td>\n",
       "      <td>West</td>\n",
       "      <td>OFF-LA-10000305</td>\n",
       "      <td>Office Supplies</td>\n",
       "      <td>Labels</td>\n",
       "      <td>Avery 495</td>\n",
       "      <td>12.600</td>\n",
       "      <td>2</td>\n",
       "      <td>0.0</td>\n",
       "      <td>5.7960</td>\n",
       "    </tr>\n",
       "  </tbody>\n",
       "</table>\n",
       "<p>5 rows × 21 columns</p>\n",
       "</div>"
      ],
      "text/plain": [
       "      Row ID        Order ID Order Date  Ship Date       Ship Mode  \\\n",
       "773      774  CA-2017-104220 2017-01-30 2017-02-05  Standard Class   \n",
       "8124    8125  US-2017-150070 2017-09-07 2017-09-12  Standard Class   \n",
       "4363    4364  CA-2017-111332 2017-05-20 2017-05-22    Second Class   \n",
       "9877    9878  US-2017-166324 2017-04-20 2017-04-21     First Class   \n",
       "7197    7198  CA-2014-116785 2014-04-26 2014-04-30  Standard Class   \n",
       "\n",
       "     Customer ID    Customer Name      Segment        Country         City  \\\n",
       "773     BV-11245  Benjamin Venier    Corporate  United States   Des Moines   \n",
       "8124    JA-15970     Joseph Airdo     Consumer  United States      Modesto   \n",
       "4363    NC-18340      Nat Carroll     Consumer  United States        Fargo   \n",
       "9877    BE-11455       Brad Eason  Home Office  United States    Cleveland   \n",
       "7197    MH-17290    Marc Harrigan  Home Office  United States  Los Angeles   \n",
       "\n",
       "      ... Postal Code   Region       Product ID         Category Sub-Category  \\\n",
       "773   ...       50315  Central  OFF-BI-10003910  Office Supplies      Binders   \n",
       "8124  ...       95351     West  FUR-CH-10004860        Furniture       Chairs   \n",
       "4363  ...       58103  Central  OFF-AR-10001374  Office Supplies          Art   \n",
       "9877  ...       44105     East  OFF-BI-10000174  Office Supplies      Binders   \n",
       "7197  ...       90036     West  OFF-LA-10000305  Office Supplies       Labels   \n",
       "\n",
       "                                           Product Name    Sales  Quantity  \\\n",
       "773   DXL Angle-View Binders with Locking Rings by S...    7.710         1   \n",
       "8124                       Global Low Back Tilter Chair  161.568         2   \n",
       "4363           BIC Brite Liner Highlighters, Chisel Tip   25.920         4   \n",
       "9877  Wilson Jones Clip & Carry Folder Binder Tool f...    8.700         5   \n",
       "7197                                          Avery 495   12.600         2   \n",
       "\n",
       "      Discount   Profit  \n",
       "773        0.0   3.4695  \n",
       "8124       0.2 -28.2744  \n",
       "4363       0.0   8.2944  \n",
       "9877       0.7  -6.3800  \n",
       "7197       0.0   5.7960  \n",
       "\n",
       "[5 rows x 21 columns]"
      ]
     },
     "execution_count": 38,
     "metadata": {},
     "output_type": "execute_result"
    }
   ],
   "source": [
    "finalsample"
   ]
  },
  {
   "cell_type": "code",
   "execution_count": 40,
   "id": "4a86ee3e",
   "metadata": {},
   "outputs": [
    {
     "data": {
      "text/plain": [
       "(5, 21)"
      ]
     },
     "execution_count": 40,
     "metadata": {},
     "output_type": "execute_result"
    }
   ],
   "source": [
    "finalsample.shape"
   ]
  },
  {
   "cell_type": "code",
   "execution_count": 42,
   "id": "ccc453d3",
   "metadata": {},
   "outputs": [
    {
     "data": {
      "text/plain": [
       "Index(['Row ID', 'Order ID', 'Order Date', 'Ship Date', 'Ship Mode',\n",
       "       'Customer ID', 'Customer Name', 'Segment', 'Country', 'City', 'State',\n",
       "       'Postal Code', 'Region', 'Product ID', 'Category', 'Sub-Category',\n",
       "       'Product Name', 'Sales', 'Quantity', 'Discount', 'Profit'],\n",
       "      dtype='object')"
      ]
     },
     "execution_count": 42,
     "metadata": {},
     "output_type": "execute_result"
    }
   ],
   "source": [
    "finalsample.columns"
   ]
  },
  {
   "cell_type": "code",
   "execution_count": 45,
   "id": "45f504eb",
   "metadata": {},
   "outputs": [
    {
     "data": {
      "text/plain": [
       "array(['Iowa', 'California', 'North Dakota', 'Ohio'], dtype=object)"
      ]
     },
     "execution_count": 45,
     "metadata": {},
     "output_type": "execute_result"
    }
   ],
   "source": [
    "finalsample.State.unique()"
   ]
  },
  {
   "cell_type": "code",
   "execution_count": 11,
   "id": "227e5977",
   "metadata": {},
   "outputs": [
    {
     "data": {
      "text/plain": [
       "9994"
      ]
     },
     "execution_count": 11,
     "metadata": {},
     "output_type": "execute_result"
    }
   ],
   "source": [
    "3020 + 5191 + 1783"
   ]
  },
  {
   "cell_type": "code",
   "execution_count": 8,
   "id": "27849065",
   "metadata": {},
   "outputs": [
    {
     "data": {
      "text/plain": [
       "array(['Consumer', 'Corporate', 'Home Office'], dtype=object)"
      ]
     },
     "execution_count": 8,
     "metadata": {},
     "output_type": "execute_result"
    }
   ],
   "source": [
    "df.Segment.unique()"
   ]
  },
  {
   "cell_type": "markdown",
   "id": "c7a66609",
   "metadata": {},
   "source": [
    "#  Module - 2 \n",
    "# Probability "
   ]
  },
  {
   "cell_type": "code",
   "execution_count": 4,
   "id": "3bc7c533",
   "metadata": {},
   "outputs": [],
   "source": [
    "import pandas as pd\n",
    "import numpy as np"
   ]
  },
  {
   "cell_type": "code",
   "execution_count": 5,
   "id": "0e5c7539",
   "metadata": {},
   "outputs": [],
   "source": [
    "deposit = pd.read_csv(r\"C:\\Users\\Shivani Dussa\\Downloads\\demo_files_6sp_e8s06pm\\Demo\\term_deposit.csv\")"
   ]
  },
  {
   "cell_type": "code",
   "execution_count": 8,
   "id": "2401cadf",
   "metadata": {},
   "outputs": [
    {
     "name": "stdout",
     "output_type": "stream",
     "text": [
      "(41188, 10)\n"
     ]
    },
    {
     "data": {
      "text/html": [
       "<div>\n",
       "<style scoped>\n",
       "    .dataframe tbody tr th:only-of-type {\n",
       "        vertical-align: middle;\n",
       "    }\n",
       "\n",
       "    .dataframe tbody tr th {\n",
       "        vertical-align: top;\n",
       "    }\n",
       "\n",
       "    .dataframe thead th {\n",
       "        text-align: right;\n",
       "    }\n",
       "</style>\n",
       "<table border=\"1\" class=\"dataframe\">\n",
       "  <thead>\n",
       "    <tr style=\"text-align: right;\">\n",
       "      <th></th>\n",
       "      <th>gender</th>\n",
       "      <th>age</th>\n",
       "      <th>job</th>\n",
       "      <th>marital</th>\n",
       "      <th>education</th>\n",
       "      <th>default</th>\n",
       "      <th>housing</th>\n",
       "      <th>loan</th>\n",
       "      <th>contact</th>\n",
       "      <th>term_deposit</th>\n",
       "    </tr>\n",
       "  </thead>\n",
       "  <tbody>\n",
       "    <tr>\n",
       "      <th>0</th>\n",
       "      <td>female</td>\n",
       "      <td>56</td>\n",
       "      <td>housemaid</td>\n",
       "      <td>married</td>\n",
       "      <td>basic.4y</td>\n",
       "      <td>no</td>\n",
       "      <td>no</td>\n",
       "      <td>no</td>\n",
       "      <td>telephone</td>\n",
       "      <td>no</td>\n",
       "    </tr>\n",
       "    <tr>\n",
       "      <th>1</th>\n",
       "      <td>male</td>\n",
       "      <td>57</td>\n",
       "      <td>services</td>\n",
       "      <td>married</td>\n",
       "      <td>high.school</td>\n",
       "      <td>yes</td>\n",
       "      <td>no</td>\n",
       "      <td>no</td>\n",
       "      <td>telephone</td>\n",
       "      <td>no</td>\n",
       "    </tr>\n",
       "    <tr>\n",
       "      <th>2</th>\n",
       "      <td>female</td>\n",
       "      <td>37</td>\n",
       "      <td>services</td>\n",
       "      <td>married</td>\n",
       "      <td>high.school</td>\n",
       "      <td>no</td>\n",
       "      <td>yes</td>\n",
       "      <td>no</td>\n",
       "      <td>telephone</td>\n",
       "      <td>no</td>\n",
       "    </tr>\n",
       "    <tr>\n",
       "      <th>3</th>\n",
       "      <td>female</td>\n",
       "      <td>40</td>\n",
       "      <td>admin.</td>\n",
       "      <td>married</td>\n",
       "      <td>basic.6y</td>\n",
       "      <td>no</td>\n",
       "      <td>no</td>\n",
       "      <td>no</td>\n",
       "      <td>telephone</td>\n",
       "      <td>no</td>\n",
       "    </tr>\n",
       "    <tr>\n",
       "      <th>4</th>\n",
       "      <td>female</td>\n",
       "      <td>56</td>\n",
       "      <td>services</td>\n",
       "      <td>married</td>\n",
       "      <td>high.school</td>\n",
       "      <td>no</td>\n",
       "      <td>no</td>\n",
       "      <td>yes</td>\n",
       "      <td>telephone</td>\n",
       "      <td>no</td>\n",
       "    </tr>\n",
       "  </tbody>\n",
       "</table>\n",
       "</div>"
      ],
      "text/plain": [
       "   gender  age        job  marital    education default housing loan  \\\n",
       "0  female   56  housemaid  married     basic.4y      no      no   no   \n",
       "1    male   57   services  married  high.school     yes      no   no   \n",
       "2  female   37   services  married  high.school      no     yes   no   \n",
       "3  female   40     admin.  married     basic.6y      no      no   no   \n",
       "4  female   56   services  married  high.school      no      no  yes   \n",
       "\n",
       "     contact term_deposit  \n",
       "0  telephone           no  \n",
       "1  telephone           no  \n",
       "2  telephone           no  \n",
       "3  telephone           no  \n",
       "4  telephone           no  "
      ]
     },
     "execution_count": 8,
     "metadata": {},
     "output_type": "execute_result"
    }
   ],
   "source": [
    "print(deposit.shape)\n",
    "deposit.head()"
   ]
  },
  {
   "cell_type": "code",
   "execution_count": 24,
   "id": "918fc527",
   "metadata": {},
   "outputs": [
    {
     "data": {
      "text/plain": [
       "gender          object\n",
       "age              int64\n",
       "job             object\n",
       "marital         object\n",
       "education       object\n",
       "default         object\n",
       "housing         object\n",
       "loan            object\n",
       "contact         object\n",
       "term_deposit    object\n",
       "dtype: object"
      ]
     },
     "execution_count": 24,
     "metadata": {},
     "output_type": "execute_result"
    }
   ],
   "source": [
    "deposit.dtypes"
   ]
  },
  {
   "cell_type": "code",
   "execution_count": 25,
   "id": "b5f86cda",
   "metadata": {},
   "outputs": [
    {
     "data": {
      "text/html": [
       "<div>\n",
       "<style scoped>\n",
       "    .dataframe tbody tr th:only-of-type {\n",
       "        vertical-align: middle;\n",
       "    }\n",
       "\n",
       "    .dataframe tbody tr th {\n",
       "        vertical-align: top;\n",
       "    }\n",
       "\n",
       "    .dataframe thead th {\n",
       "        text-align: right;\n",
       "    }\n",
       "</style>\n",
       "<table border=\"1\" class=\"dataframe\">\n",
       "  <thead>\n",
       "    <tr style=\"text-align: right;\">\n",
       "      <th></th>\n",
       "      <th>age</th>\n",
       "    </tr>\n",
       "  </thead>\n",
       "  <tbody>\n",
       "    <tr>\n",
       "      <th>count</th>\n",
       "      <td>41188.00000</td>\n",
       "    </tr>\n",
       "    <tr>\n",
       "      <th>mean</th>\n",
       "      <td>40.02406</td>\n",
       "    </tr>\n",
       "    <tr>\n",
       "      <th>std</th>\n",
       "      <td>10.42125</td>\n",
       "    </tr>\n",
       "    <tr>\n",
       "      <th>min</th>\n",
       "      <td>17.00000</td>\n",
       "    </tr>\n",
       "    <tr>\n",
       "      <th>25%</th>\n",
       "      <td>32.00000</td>\n",
       "    </tr>\n",
       "    <tr>\n",
       "      <th>50%</th>\n",
       "      <td>38.00000</td>\n",
       "    </tr>\n",
       "    <tr>\n",
       "      <th>75%</th>\n",
       "      <td>47.00000</td>\n",
       "    </tr>\n",
       "    <tr>\n",
       "      <th>max</th>\n",
       "      <td>98.00000</td>\n",
       "    </tr>\n",
       "  </tbody>\n",
       "</table>\n",
       "</div>"
      ],
      "text/plain": [
       "               age\n",
       "count  41188.00000\n",
       "mean      40.02406\n",
       "std       10.42125\n",
       "min       17.00000\n",
       "25%       32.00000\n",
       "50%       38.00000\n",
       "75%       47.00000\n",
       "max       98.00000"
      ]
     },
     "execution_count": 25,
     "metadata": {},
     "output_type": "execute_result"
    }
   ],
   "source": [
    "deposit.describe()"
   ]
  },
  {
   "cell_type": "code",
   "execution_count": 5,
   "id": "f400e226",
   "metadata": {},
   "outputs": [
    {
     "data": {
      "text/html": [
       "<div>\n",
       "<style scoped>\n",
       "    .dataframe tbody tr th:only-of-type {\n",
       "        vertical-align: middle;\n",
       "    }\n",
       "\n",
       "    .dataframe tbody tr th {\n",
       "        vertical-align: top;\n",
       "    }\n",
       "\n",
       "    .dataframe thead th {\n",
       "        text-align: right;\n",
       "    }\n",
       "</style>\n",
       "<table border=\"1\" class=\"dataframe\">\n",
       "  <thead>\n",
       "    <tr style=\"text-align: right;\">\n",
       "      <th></th>\n",
       "      <th>gender</th>\n",
       "      <th>job</th>\n",
       "      <th>marital</th>\n",
       "      <th>education</th>\n",
       "      <th>default</th>\n",
       "      <th>housing</th>\n",
       "      <th>loan</th>\n",
       "      <th>contact</th>\n",
       "      <th>term_deposit</th>\n",
       "    </tr>\n",
       "  </thead>\n",
       "  <tbody>\n",
       "    <tr>\n",
       "      <th>count</th>\n",
       "      <td>41188</td>\n",
       "      <td>41188</td>\n",
       "      <td>41188</td>\n",
       "      <td>41188</td>\n",
       "      <td>41188</td>\n",
       "      <td>41188</td>\n",
       "      <td>41188</td>\n",
       "      <td>41188</td>\n",
       "      <td>41188</td>\n",
       "    </tr>\n",
       "    <tr>\n",
       "      <th>unique</th>\n",
       "      <td>2</td>\n",
       "      <td>12</td>\n",
       "      <td>4</td>\n",
       "      <td>8</td>\n",
       "      <td>2</td>\n",
       "      <td>2</td>\n",
       "      <td>2</td>\n",
       "      <td>2</td>\n",
       "      <td>2</td>\n",
       "    </tr>\n",
       "    <tr>\n",
       "      <th>top</th>\n",
       "      <td>female</td>\n",
       "      <td>admin.</td>\n",
       "      <td>married</td>\n",
       "      <td>university.degree</td>\n",
       "      <td>no</td>\n",
       "      <td>yes</td>\n",
       "      <td>no</td>\n",
       "      <td>cellular</td>\n",
       "      <td>no</td>\n",
       "    </tr>\n",
       "    <tr>\n",
       "      <th>freq</th>\n",
       "      <td>20798</td>\n",
       "      <td>10422</td>\n",
       "      <td>24928</td>\n",
       "      <td>12168</td>\n",
       "      <td>32588</td>\n",
       "      <td>22566</td>\n",
       "      <td>33950</td>\n",
       "      <td>26144</td>\n",
       "      <td>36548</td>\n",
       "    </tr>\n",
       "  </tbody>\n",
       "</table>\n",
       "</div>"
      ],
      "text/plain": [
       "        gender     job  marital          education default housing   loan  \\\n",
       "count    41188   41188    41188              41188   41188   41188  41188   \n",
       "unique       2      12        4                  8       2       2      2   \n",
       "top     female  admin.  married  university.degree      no     yes     no   \n",
       "freq     20798   10422    24928              12168   32588   22566  33950   \n",
       "\n",
       "         contact term_deposit  \n",
       "count      41188        41188  \n",
       "unique         2            2  \n",
       "top     cellular           no  \n",
       "freq       26144        36548  "
      ]
     },
     "execution_count": 5,
     "metadata": {},
     "output_type": "execute_result"
    }
   ],
   "source": [
    "deposit.describe(include = 'O')"
   ]
  },
  {
   "cell_type": "code",
   "execution_count": 26,
   "id": "60ab2a6f",
   "metadata": {},
   "outputs": [
    {
     "data": {
      "text/plain": [
       "40.02406040594348"
      ]
     },
     "execution_count": 26,
     "metadata": {},
     "output_type": "execute_result"
    }
   ],
   "source": [
    "deposit.age.mean()"
   ]
  },
  {
   "cell_type": "code",
   "execution_count": 27,
   "id": "490b7c35",
   "metadata": {},
   "outputs": [
    {
     "data": {
      "text/plain": [
       "41188"
      ]
     },
     "execution_count": 27,
     "metadata": {},
     "output_type": "execute_result"
    }
   ],
   "source": [
    "deposit.age.count()"
   ]
  },
  {
   "cell_type": "markdown",
   "id": "05f1c818",
   "metadata": {},
   "source": [
    "# Part - 1 \n",
    "## Marginal Probability\n",
    " - Find the probability that the customer will take term deposit "
   ]
  },
  {
   "cell_type": "code",
   "execution_count": 7,
   "id": "c9b37ed3",
   "metadata": {},
   "outputs": [
    {
     "data": {
      "text/html": [
       "<div>\n",
       "<style scoped>\n",
       "    .dataframe tbody tr th:only-of-type {\n",
       "        vertical-align: middle;\n",
       "    }\n",
       "\n",
       "    .dataframe tbody tr th {\n",
       "        vertical-align: top;\n",
       "    }\n",
       "\n",
       "    .dataframe thead th {\n",
       "        text-align: right;\n",
       "    }\n",
       "</style>\n",
       "<table border=\"1\" class=\"dataframe\">\n",
       "  <thead>\n",
       "    <tr style=\"text-align: right;\">\n",
       "      <th></th>\n",
       "      <th>gender</th>\n",
       "      <th>age</th>\n",
       "      <th>job</th>\n",
       "      <th>marital</th>\n",
       "      <th>education</th>\n",
       "      <th>default</th>\n",
       "      <th>housing</th>\n",
       "      <th>loan</th>\n",
       "      <th>contact</th>\n",
       "      <th>term_deposit</th>\n",
       "    </tr>\n",
       "  </thead>\n",
       "  <tbody>\n",
       "    <tr>\n",
       "      <th>0</th>\n",
       "      <td>female</td>\n",
       "      <td>56</td>\n",
       "      <td>housemaid</td>\n",
       "      <td>married</td>\n",
       "      <td>basic.4y</td>\n",
       "      <td>no</td>\n",
       "      <td>no</td>\n",
       "      <td>no</td>\n",
       "      <td>telephone</td>\n",
       "      <td>no</td>\n",
       "    </tr>\n",
       "    <tr>\n",
       "      <th>1</th>\n",
       "      <td>male</td>\n",
       "      <td>57</td>\n",
       "      <td>services</td>\n",
       "      <td>married</td>\n",
       "      <td>high.school</td>\n",
       "      <td>yes</td>\n",
       "      <td>no</td>\n",
       "      <td>no</td>\n",
       "      <td>telephone</td>\n",
       "      <td>no</td>\n",
       "    </tr>\n",
       "    <tr>\n",
       "      <th>2</th>\n",
       "      <td>female</td>\n",
       "      <td>37</td>\n",
       "      <td>services</td>\n",
       "      <td>married</td>\n",
       "      <td>high.school</td>\n",
       "      <td>no</td>\n",
       "      <td>yes</td>\n",
       "      <td>no</td>\n",
       "      <td>telephone</td>\n",
       "      <td>no</td>\n",
       "    </tr>\n",
       "    <tr>\n",
       "      <th>3</th>\n",
       "      <td>female</td>\n",
       "      <td>40</td>\n",
       "      <td>admin.</td>\n",
       "      <td>married</td>\n",
       "      <td>basic.6y</td>\n",
       "      <td>no</td>\n",
       "      <td>no</td>\n",
       "      <td>no</td>\n",
       "      <td>telephone</td>\n",
       "      <td>no</td>\n",
       "    </tr>\n",
       "    <tr>\n",
       "      <th>4</th>\n",
       "      <td>female</td>\n",
       "      <td>56</td>\n",
       "      <td>services</td>\n",
       "      <td>married</td>\n",
       "      <td>high.school</td>\n",
       "      <td>no</td>\n",
       "      <td>no</td>\n",
       "      <td>yes</td>\n",
       "      <td>telephone</td>\n",
       "      <td>no</td>\n",
       "    </tr>\n",
       "  </tbody>\n",
       "</table>\n",
       "</div>"
      ],
      "text/plain": [
       "   gender  age        job  marital    education default housing loan  \\\n",
       "0  female   56  housemaid  married     basic.4y      no      no   no   \n",
       "1    male   57   services  married  high.school     yes      no   no   \n",
       "2  female   37   services  married  high.school      no     yes   no   \n",
       "3  female   40     admin.  married     basic.6y      no      no   no   \n",
       "4  female   56   services  married  high.school      no      no  yes   \n",
       "\n",
       "     contact term_deposit  \n",
       "0  telephone           no  \n",
       "1  telephone           no  \n",
       "2  telephone           no  \n",
       "3  telephone           no  \n",
       "4  telephone           no  "
      ]
     },
     "execution_count": 7,
     "metadata": {},
     "output_type": "execute_result"
    }
   ],
   "source": [
    "deposit.head() "
   ]
  },
  {
   "cell_type": "code",
   "execution_count": 13,
   "id": "93688c6c",
   "metadata": {},
   "outputs": [
    {
     "data": {
      "text/plain": [
       "(41188, 10)"
      ]
     },
     "execution_count": 13,
     "metadata": {},
     "output_type": "execute_result"
    }
   ],
   "source": [
    "k = deposit.shape\n",
    "k"
   ]
  },
  {
   "cell_type": "code",
   "execution_count": 14,
   "id": "ae303349",
   "metadata": {},
   "outputs": [],
   "source": [
    "S = k[0]"
   ]
  },
  {
   "cell_type": "code",
   "execution_count": 23,
   "id": "75224d1c",
   "metadata": {},
   "outputs": [],
   "source": [
    "E = deposit[deposit.term_deposit == 'yes'].shape[0]"
   ]
  },
  {
   "cell_type": "code",
   "execution_count": 24,
   "id": "b64c1883",
   "metadata": {},
   "outputs": [
    {
     "data": {
      "text/plain": [
       "4640"
      ]
     },
     "execution_count": 24,
     "metadata": {},
     "output_type": "execute_result"
    }
   ],
   "source": [
    "E"
   ]
  },
  {
   "cell_type": "code",
   "execution_count": 27,
   "id": "65e307df",
   "metadata": {},
   "outputs": [
    {
     "data": {
      "text/plain": [
       "0.113"
      ]
     },
     "execution_count": 27,
     "metadata": {},
     "output_type": "execute_result"
    }
   ],
   "source": [
    "P = round((E/S),3)\n",
    "P"
   ]
  },
  {
   "cell_type": "code",
   "execution_count": 28,
   "id": "22fb9fc2",
   "metadata": {},
   "outputs": [
    {
     "name": "stdout",
     "output_type": "stream",
     "text": [
      "Total Number of Customers is: 41188\n",
      "Total No. of customers who have taken term deposit: 4640\n",
      "probability of a customer who have taken term deposit: 0.113\n"
     ]
    }
   ],
   "source": [
    "S = deposit.shape[0]\n",
    "print('Total Number of Customers is:', S)\n",
    "E = deposit[deposit.term_deposit == 'yes'].shape[0]\n",
    "print('Total No. of customers who have taken term deposit:', E )\n",
    "P = round((E/S),3)\n",
    "print('probability of a customer who have taken term deposit:', P)"
   ]
  },
  {
   "cell_type": "markdown",
   "id": "c0bdd341",
   "metadata": {},
   "source": [
    "2. Find the probability that a customer has at least 9 year of basic education."
   ]
  },
  {
   "cell_type": "code",
   "execution_count": 29,
   "id": "5696df7f",
   "metadata": {},
   "outputs": [
    {
     "name": "stdout",
     "output_type": "stream",
     "text": [
      "Total Number of Customers is: 41188\n"
     ]
    }
   ],
   "source": [
    "S = deposit.shape[0]\n",
    "print('Total Number of Customers is:', S)"
   ]
  },
  {
   "cell_type": "code",
   "execution_count": 32,
   "id": "aee41bfd",
   "metadata": {},
   "outputs": [
    {
     "data": {
      "text/html": [
       "<div>\n",
       "<style scoped>\n",
       "    .dataframe tbody tr th:only-of-type {\n",
       "        vertical-align: middle;\n",
       "    }\n",
       "\n",
       "    .dataframe tbody tr th {\n",
       "        vertical-align: top;\n",
       "    }\n",
       "\n",
       "    .dataframe thead th {\n",
       "        text-align: right;\n",
       "    }\n",
       "</style>\n",
       "<table border=\"1\" class=\"dataframe\">\n",
       "  <thead>\n",
       "    <tr style=\"text-align: right;\">\n",
       "      <th>education</th>\n",
       "      <th>basic.4y</th>\n",
       "      <th>basic.6y</th>\n",
       "      <th>basic.9y</th>\n",
       "      <th>high.school</th>\n",
       "      <th>illiterate</th>\n",
       "      <th>professional.course</th>\n",
       "      <th>university.degree</th>\n",
       "      <th>unknown</th>\n",
       "      <th>All</th>\n",
       "    </tr>\n",
       "    <tr>\n",
       "      <th>gender</th>\n",
       "      <th></th>\n",
       "      <th></th>\n",
       "      <th></th>\n",
       "      <th></th>\n",
       "      <th></th>\n",
       "      <th></th>\n",
       "      <th></th>\n",
       "      <th></th>\n",
       "      <th></th>\n",
       "    </tr>\n",
       "  </thead>\n",
       "  <tbody>\n",
       "    <tr>\n",
       "      <th>female</th>\n",
       "      <td>2104</td>\n",
       "      <td>1169</td>\n",
       "      <td>3092</td>\n",
       "      <td>4735</td>\n",
       "      <td>7</td>\n",
       "      <td>2647</td>\n",
       "      <td>6142</td>\n",
       "      <td>902</td>\n",
       "      <td>20798</td>\n",
       "    </tr>\n",
       "    <tr>\n",
       "      <th>male</th>\n",
       "      <td>2072</td>\n",
       "      <td>1123</td>\n",
       "      <td>2953</td>\n",
       "      <td>4780</td>\n",
       "      <td>11</td>\n",
       "      <td>2596</td>\n",
       "      <td>6026</td>\n",
       "      <td>829</td>\n",
       "      <td>20390</td>\n",
       "    </tr>\n",
       "    <tr>\n",
       "      <th>All</th>\n",
       "      <td>4176</td>\n",
       "      <td>2292</td>\n",
       "      <td>6045</td>\n",
       "      <td>9515</td>\n",
       "      <td>18</td>\n",
       "      <td>5243</td>\n",
       "      <td>12168</td>\n",
       "      <td>1731</td>\n",
       "      <td>41188</td>\n",
       "    </tr>\n",
       "  </tbody>\n",
       "</table>\n",
       "</div>"
      ],
      "text/plain": [
       "education  basic.4y  basic.6y  basic.9y  high.school  illiterate  \\\n",
       "gender                                                             \n",
       "female         2104      1169      3092         4735           7   \n",
       "male           2072      1123      2953         4780          11   \n",
       "All            4176      2292      6045         9515          18   \n",
       "\n",
       "education  professional.course  university.degree  unknown    All  \n",
       "gender                                                             \n",
       "female                    2647               6142      902  20798  \n",
       "male                      2596               6026      829  20390  \n",
       "All                       5243              12168     1731  41188  "
      ]
     },
     "execution_count": 32,
     "metadata": {},
     "output_type": "execute_result"
    }
   ],
   "source": [
    "pd.crosstab(deposit.gender,deposit.education,margins = True)"
   ]
  },
  {
   "cell_type": "code",
   "execution_count": 35,
   "id": "0951351b",
   "metadata": {},
   "outputs": [
    {
     "data": {
      "text/plain": [
       "university.degree      12168\n",
       "high.school             9515\n",
       "basic.9y                6045\n",
       "professional.course     5243\n",
       "basic.4y                4176\n",
       "basic.6y                2292\n",
       "unknown                 1731\n",
       "illiterate                18\n",
       "Name: education, dtype: int64"
      ]
     },
     "execution_count": 35,
     "metadata": {},
     "output_type": "execute_result"
    }
   ],
   "source": [
    "deposit.education.value_counts()"
   ]
  },
  {
   "cell_type": "code",
   "execution_count": 41,
   "id": "e6854531",
   "metadata": {},
   "outputs": [
    {
     "name": "stdout",
     "output_type": "stream",
     "text": [
      "Total number of customer atlst 9 years education: 32971\n",
      "probability of customers who have 9 year education: 0.801\n"
     ]
    }
   ],
   "source": [
    "# they are asking atleast 9 years so we are removing lower ed. \n",
    "E = 12168 + 9515 + 6045 + 5243 \n",
    "print('Total number of customer atlst 9 years education:', E)\n",
    "P = round((E/S),3)\n",
    "print('probability of customers who have 9 year education:',P)"
   ]
  },
  {
   "cell_type": "markdown",
   "id": "c1c20d09",
   "metadata": {},
   "source": [
    "3.Find the probability that a customer is technician."
   ]
  },
  {
   "cell_type": "code",
   "execution_count": 42,
   "id": "4278c26e",
   "metadata": {},
   "outputs": [
    {
     "name": "stdout",
     "output_type": "stream",
     "text": [
      "Total Number of Customers is: 41188\n"
     ]
    }
   ],
   "source": [
    "S = deposit.shape[0]\n",
    "print('Total Number of Customers is:', S)"
   ]
  },
  {
   "cell_type": "code",
   "execution_count": 44,
   "id": "d4c52b96",
   "metadata": {},
   "outputs": [
    {
     "data": {
      "text/plain": [
       "admin.           10422\n",
       "blue-collar       9254\n",
       "technician        6743\n",
       "services          3969\n",
       "management        2924\n",
       "retired           1720\n",
       "entrepreneur      1456\n",
       "self-employed     1421\n",
       "housemaid         1060\n",
       "unemployed        1014\n",
       "student            875\n",
       "unknown            330\n",
       "Name: job, dtype: int64"
      ]
     },
     "execution_count": 44,
     "metadata": {},
     "output_type": "execute_result"
    }
   ],
   "source": [
    "deposit.job.value_counts()"
   ]
  },
  {
   "cell_type": "code",
   "execution_count": 51,
   "id": "1825c321",
   "metadata": {},
   "outputs": [
    {
     "name": "stdout",
     "output_type": "stream",
     "text": [
      "customers who are technicians: 6743\n",
      "probability of customer is techincian: 0.1637\n"
     ]
    }
   ],
   "source": [
    "E = 6743  # it clearly shows the number \n",
    "print('customers who are technicians:', E)\n",
    "P = round((E/S),4)\n",
    "print('probability of customer is techincian:', P)"
   ]
  },
  {
   "cell_type": "markdown",
   "id": "e22c01eb",
   "metadata": {},
   "source": [
    "# Joint Probability"
   ]
  },
  {
   "cell_type": "markdown",
   "id": "87e9a803",
   "metadata": {},
   "source": [
    "#### Joint Probability is likelihood of more than one event happenning or occuring at a same time \n",
    "- Example : Raining at two places at same time\n",
    "          : The probability of 5 number will occur twice when a two dice rolled at same time\n",
    "          : • P(A ∩ B) =P(A) * P(B)\n",
    "          : probability of getting 5 is 1/6 and prob of gtng with another dice is 1/6 \n",
    "          : • P(A ∩ B) =(1/6) * (1/6) = 0.27"
   ]
  },
  {
   "cell_type": "markdown",
   "id": "aa666f06",
   "metadata": {},
   "source": [
    "1.Find the probability for a male customer who has already taken term deposit."
   ]
  },
  {
   "cell_type": "code",
   "execution_count": 3,
   "id": "23210418",
   "metadata": {},
   "outputs": [
    {
     "data": {
      "text/html": [
       "<div>\n",
       "<style scoped>\n",
       "    .dataframe tbody tr th:only-of-type {\n",
       "        vertical-align: middle;\n",
       "    }\n",
       "\n",
       "    .dataframe tbody tr th {\n",
       "        vertical-align: top;\n",
       "    }\n",
       "\n",
       "    .dataframe thead th {\n",
       "        text-align: right;\n",
       "    }\n",
       "</style>\n",
       "<table border=\"1\" class=\"dataframe\">\n",
       "  <thead>\n",
       "    <tr style=\"text-align: right;\">\n",
       "      <th></th>\n",
       "      <th>gender</th>\n",
       "      <th>age</th>\n",
       "      <th>job</th>\n",
       "      <th>marital</th>\n",
       "      <th>education</th>\n",
       "      <th>default</th>\n",
       "      <th>housing</th>\n",
       "      <th>loan</th>\n",
       "      <th>contact</th>\n",
       "      <th>term_deposit</th>\n",
       "    </tr>\n",
       "  </thead>\n",
       "  <tbody>\n",
       "    <tr>\n",
       "      <th>0</th>\n",
       "      <td>female</td>\n",
       "      <td>56</td>\n",
       "      <td>housemaid</td>\n",
       "      <td>married</td>\n",
       "      <td>basic.4y</td>\n",
       "      <td>no</td>\n",
       "      <td>no</td>\n",
       "      <td>no</td>\n",
       "      <td>telephone</td>\n",
       "      <td>no</td>\n",
       "    </tr>\n",
       "    <tr>\n",
       "      <th>1</th>\n",
       "      <td>male</td>\n",
       "      <td>57</td>\n",
       "      <td>services</td>\n",
       "      <td>married</td>\n",
       "      <td>high.school</td>\n",
       "      <td>yes</td>\n",
       "      <td>no</td>\n",
       "      <td>no</td>\n",
       "      <td>telephone</td>\n",
       "      <td>no</td>\n",
       "    </tr>\n",
       "    <tr>\n",
       "      <th>2</th>\n",
       "      <td>female</td>\n",
       "      <td>37</td>\n",
       "      <td>services</td>\n",
       "      <td>married</td>\n",
       "      <td>high.school</td>\n",
       "      <td>no</td>\n",
       "      <td>yes</td>\n",
       "      <td>no</td>\n",
       "      <td>telephone</td>\n",
       "      <td>no</td>\n",
       "    </tr>\n",
       "    <tr>\n",
       "      <th>3</th>\n",
       "      <td>female</td>\n",
       "      <td>40</td>\n",
       "      <td>admin.</td>\n",
       "      <td>married</td>\n",
       "      <td>basic.6y</td>\n",
       "      <td>no</td>\n",
       "      <td>no</td>\n",
       "      <td>no</td>\n",
       "      <td>telephone</td>\n",
       "      <td>no</td>\n",
       "    </tr>\n",
       "    <tr>\n",
       "      <th>4</th>\n",
       "      <td>female</td>\n",
       "      <td>56</td>\n",
       "      <td>services</td>\n",
       "      <td>married</td>\n",
       "      <td>high.school</td>\n",
       "      <td>no</td>\n",
       "      <td>no</td>\n",
       "      <td>yes</td>\n",
       "      <td>telephone</td>\n",
       "      <td>no</td>\n",
       "    </tr>\n",
       "  </tbody>\n",
       "</table>\n",
       "</div>"
      ],
      "text/plain": [
       "   gender  age        job  marital    education default housing loan  \\\n",
       "0  female   56  housemaid  married     basic.4y      no      no   no   \n",
       "1    male   57   services  married  high.school     yes      no   no   \n",
       "2  female   37   services  married  high.school      no     yes   no   \n",
       "3  female   40     admin.  married     basic.6y      no      no   no   \n",
       "4  female   56   services  married  high.school      no      no  yes   \n",
       "\n",
       "     contact term_deposit  \n",
       "0  telephone           no  \n",
       "1  telephone           no  \n",
       "2  telephone           no  \n",
       "3  telephone           no  \n",
       "4  telephone           no  "
      ]
     },
     "execution_count": 3,
     "metadata": {},
     "output_type": "execute_result"
    }
   ],
   "source": [
    "deposit.head()"
   ]
  },
  {
   "cell_type": "code",
   "execution_count": 10,
   "id": "72422a1e",
   "metadata": {},
   "outputs": [
    {
     "data": {
      "text/html": [
       "<div>\n",
       "<style scoped>\n",
       "    .dataframe tbody tr th:only-of-type {\n",
       "        vertical-align: middle;\n",
       "    }\n",
       "\n",
       "    .dataframe tbody tr th {\n",
       "        vertical-align: top;\n",
       "    }\n",
       "\n",
       "    .dataframe thead th {\n",
       "        text-align: right;\n",
       "    }\n",
       "</style>\n",
       "<table border=\"1\" class=\"dataframe\">\n",
       "  <thead>\n",
       "    <tr style=\"text-align: right;\">\n",
       "      <th>term_deposit</th>\n",
       "      <th>no</th>\n",
       "      <th>yes</th>\n",
       "      <th>All</th>\n",
       "    </tr>\n",
       "    <tr>\n",
       "      <th>gender</th>\n",
       "      <th></th>\n",
       "      <th></th>\n",
       "      <th></th>\n",
       "    </tr>\n",
       "  </thead>\n",
       "  <tbody>\n",
       "    <tr>\n",
       "      <th>female</th>\n",
       "      <td>18442</td>\n",
       "      <td>2356</td>\n",
       "      <td>20798</td>\n",
       "    </tr>\n",
       "    <tr>\n",
       "      <th>male</th>\n",
       "      <td>18106</td>\n",
       "      <td>2284</td>\n",
       "      <td>20390</td>\n",
       "    </tr>\n",
       "    <tr>\n",
       "      <th>All</th>\n",
       "      <td>36548</td>\n",
       "      <td>4640</td>\n",
       "      <td>41188</td>\n",
       "    </tr>\n",
       "  </tbody>\n",
       "</table>\n",
       "</div>"
      ],
      "text/plain": [
       "term_deposit     no   yes    All\n",
       "gender                          \n",
       "female        18442  2356  20798\n",
       "male          18106  2284  20390\n",
       "All           36548  4640  41188"
      ]
     },
     "execution_count": 10,
     "metadata": {},
     "output_type": "execute_result"
    }
   ],
   "source": [
    "pd.crosstab(deposit.gender,deposit.term_deposit,margins = True)"
   ]
  },
  {
   "cell_type": "code",
   "execution_count": 11,
   "id": "748b60cc",
   "metadata": {},
   "outputs": [
    {
     "name": "stdout",
     "output_type": "stream",
     "text": [
      "Total Number of Customers is: 41188\n"
     ]
    }
   ],
   "source": [
    "S = deposit.shape[0]\n",
    "print('Total Number of Customers is:', S)"
   ]
  },
  {
   "cell_type": "code",
   "execution_count": 20,
   "id": "6a5496d1",
   "metadata": {},
   "outputs": [
    {
     "name": "stdout",
     "output_type": "stream",
     "text": [
      "the male customers who have term depoits: 2284\n",
      "probability of a male customer who have taken the term deposit: 0.0555\n"
     ]
    }
   ],
   "source": [
    "E = 2284 # from crosstab \n",
    "print('the male customers who have term depoits:', E)\n",
    "S = 41188\n",
    "P = round((E/S),4)\n",
    "print('probability of a male customer who have taken the term deposit:',P)"
   ]
  },
  {
   "cell_type": "markdown",
   "id": "4ceef545",
   "metadata": {},
   "source": [
    "2. Probability that a customer is married and has housing as well"
   ]
  },
  {
   "cell_type": "code",
   "execution_count": 5,
   "id": "a1e476a5",
   "metadata": {},
   "outputs": [
    {
     "name": "stdout",
     "output_type": "stream",
     "text": [
      "Total Number of Customers is: 41188\n"
     ]
    }
   ],
   "source": [
    "S = deposit.shape[0]\n",
    "print('Total Number of Customers is:', S)"
   ]
  },
  {
   "cell_type": "code",
   "execution_count": 8,
   "id": "e6a958da",
   "metadata": {},
   "outputs": [
    {
     "data": {
      "text/html": [
       "<div>\n",
       "<style scoped>\n",
       "    .dataframe tbody tr th:only-of-type {\n",
       "        vertical-align: middle;\n",
       "    }\n",
       "\n",
       "    .dataframe tbody tr th {\n",
       "        vertical-align: top;\n",
       "    }\n",
       "\n",
       "    .dataframe thead th {\n",
       "        text-align: right;\n",
       "    }\n",
       "</style>\n",
       "<table border=\"1\" class=\"dataframe\">\n",
       "  <thead>\n",
       "    <tr style=\"text-align: right;\">\n",
       "      <th>housing</th>\n",
       "      <th>no</th>\n",
       "      <th>yes</th>\n",
       "    </tr>\n",
       "    <tr>\n",
       "      <th>marital</th>\n",
       "      <th></th>\n",
       "      <th></th>\n",
       "    </tr>\n",
       "  </thead>\n",
       "  <tbody>\n",
       "    <tr>\n",
       "      <th>divorced</th>\n",
       "      <td>2092</td>\n",
       "      <td>2520</td>\n",
       "    </tr>\n",
       "    <tr>\n",
       "      <th>married</th>\n",
       "      <td>11389</td>\n",
       "      <td>13539</td>\n",
       "    </tr>\n",
       "    <tr>\n",
       "      <th>single</th>\n",
       "      <td>5097</td>\n",
       "      <td>6471</td>\n",
       "    </tr>\n",
       "    <tr>\n",
       "      <th>unknown</th>\n",
       "      <td>44</td>\n",
       "      <td>36</td>\n",
       "    </tr>\n",
       "  </tbody>\n",
       "</table>\n",
       "</div>"
      ],
      "text/plain": [
       "housing      no    yes\n",
       "marital               \n",
       "divorced   2092   2520\n",
       "married   11389  13539\n",
       "single     5097   6471\n",
       "unknown      44     36"
      ]
     },
     "execution_count": 8,
     "metadata": {},
     "output_type": "execute_result"
    }
   ],
   "source": [
    "pd.crosstab(deposit.marital,deposit.housing)"
   ]
  },
  {
   "cell_type": "code",
   "execution_count": 11,
   "id": "b0493dc4",
   "metadata": {},
   "outputs": [
    {
     "name": "stdout",
     "output_type": "stream",
     "text": [
      "Customers who are married and have house: 13539\n",
      "The probability of getting married and had house is: 0.3287\n"
     ]
    }
   ],
   "source": [
    "E = 13539\n",
    "print('Customers who are married and have house:', E)\n",
    "P = round((E/S),4)\n",
    "print('The probability of getting married and had house is:',P)"
   ]
  },
  {
   "cell_type": "markdown",
   "id": "84616be2",
   "metadata": {},
   "source": [
    "Q3. Probability that a customer has university degree and no loan"
   ]
  },
  {
   "cell_type": "code",
   "execution_count": 12,
   "id": "61314f86",
   "metadata": {},
   "outputs": [
    {
     "name": "stdout",
     "output_type": "stream",
     "text": [
      "Total Number of Customers is: 41188\n"
     ]
    }
   ],
   "source": [
    "S = deposit.shape[0]\n",
    "print('Total Number of Customers is:', S)"
   ]
  },
  {
   "cell_type": "code",
   "execution_count": 13,
   "id": "3e357323",
   "metadata": {},
   "outputs": [
    {
     "data": {
      "text/html": [
       "<div>\n",
       "<style scoped>\n",
       "    .dataframe tbody tr th:only-of-type {\n",
       "        vertical-align: middle;\n",
       "    }\n",
       "\n",
       "    .dataframe tbody tr th {\n",
       "        vertical-align: top;\n",
       "    }\n",
       "\n",
       "    .dataframe thead th {\n",
       "        text-align: right;\n",
       "    }\n",
       "</style>\n",
       "<table border=\"1\" class=\"dataframe\">\n",
       "  <thead>\n",
       "    <tr style=\"text-align: right;\">\n",
       "      <th>loan</th>\n",
       "      <th>no</th>\n",
       "      <th>yes</th>\n",
       "      <th>All</th>\n",
       "    </tr>\n",
       "    <tr>\n",
       "      <th>education</th>\n",
       "      <th></th>\n",
       "      <th></th>\n",
       "      <th></th>\n",
       "    </tr>\n",
       "  </thead>\n",
       "  <tbody>\n",
       "    <tr>\n",
       "      <th>basic.4y</th>\n",
       "      <td>3435</td>\n",
       "      <td>741</td>\n",
       "      <td>4176</td>\n",
       "    </tr>\n",
       "    <tr>\n",
       "      <th>basic.6y</th>\n",
       "      <td>1902</td>\n",
       "      <td>390</td>\n",
       "      <td>2292</td>\n",
       "    </tr>\n",
       "    <tr>\n",
       "      <th>basic.9y</th>\n",
       "      <td>5011</td>\n",
       "      <td>1034</td>\n",
       "      <td>6045</td>\n",
       "    </tr>\n",
       "    <tr>\n",
       "      <th>high.school</th>\n",
       "      <td>7852</td>\n",
       "      <td>1663</td>\n",
       "      <td>9515</td>\n",
       "    </tr>\n",
       "    <tr>\n",
       "      <th>illiterate</th>\n",
       "      <td>15</td>\n",
       "      <td>3</td>\n",
       "      <td>18</td>\n",
       "    </tr>\n",
       "    <tr>\n",
       "      <th>professional.course</th>\n",
       "      <td>4325</td>\n",
       "      <td>918</td>\n",
       "      <td>5243</td>\n",
       "    </tr>\n",
       "    <tr>\n",
       "      <th>university.degree</th>\n",
       "      <td>9961</td>\n",
       "      <td>2207</td>\n",
       "      <td>12168</td>\n",
       "    </tr>\n",
       "    <tr>\n",
       "      <th>unknown</th>\n",
       "      <td>1449</td>\n",
       "      <td>282</td>\n",
       "      <td>1731</td>\n",
       "    </tr>\n",
       "    <tr>\n",
       "      <th>All</th>\n",
       "      <td>33950</td>\n",
       "      <td>7238</td>\n",
       "      <td>41188</td>\n",
       "    </tr>\n",
       "  </tbody>\n",
       "</table>\n",
       "</div>"
      ],
      "text/plain": [
       "loan                    no   yes    All\n",
       "education                              \n",
       "basic.4y              3435   741   4176\n",
       "basic.6y              1902   390   2292\n",
       "basic.9y              5011  1034   6045\n",
       "high.school           7852  1663   9515\n",
       "illiterate              15     3     18\n",
       "professional.course   4325   918   5243\n",
       "university.degree     9961  2207  12168\n",
       "unknown               1449   282   1731\n",
       "All                  33950  7238  41188"
      ]
     },
     "execution_count": 13,
     "metadata": {},
     "output_type": "execute_result"
    }
   ],
   "source": [
    "pd.crosstab(deposit.education,deposit.loan,margins = True)"
   ]
  },
  {
   "cell_type": "code",
   "execution_count": 15,
   "id": "203656ad",
   "metadata": {},
   "outputs": [
    {
     "name": "stdout",
     "output_type": "stream",
     "text": [
      "who have U.D and no loan: 9961\n",
      "The probability of customers have U.D and no loan: 0.24\n"
     ]
    }
   ],
   "source": [
    "E = 9961\n",
    "print('who have U.D and no loan:', E)\n",
    "P = round((E/S),2)\n",
    "print('The probability of customers have U.D and no loan:',P)"
   ]
  },
  {
   "cell_type": "markdown",
   "id": "a1e39fed",
   "metadata": {},
   "source": [
    "# Conditional Probability\n",
    "### - P(A|B) is the conditional Probability of event  A occuring, given that given B occurs \n",
    " - Condtitinal Probability of event A based on event B are Two Types\n",
    " - Dependent Events and Independent Events"
   ]
  },
  {
   "cell_type": "markdown",
   "id": "a4be29c7",
   "metadata": {},
   "source": [
    "### Dependent Events\n",
    "- If the occurrence of Event A changes the probability of Event B, then Events A and B are dependent.\n",
    "- for example: event of A going to Rain \n",
    "- Event of B will be windy \n",
    "- p(A) and p(B). They are dependent variables because clouds go away it will be windy. so they are dependent  "
   ]
  },
  {
   "cell_type": "markdown",
   "id": "f7c5e4fe",
   "metadata": {},
   "source": [
    "### Independent Events\n",
    "- \n",
    "- If A and B are not independent then, p(A|B) = P(A and B) / P(B)\n",
    "- What is the probability that two cards drawn at random from a deck of\n",
    "  playing cards will both be aces?\n",
    "- Once the first card chosen is an ace, the probability that the second card chosen is also an ace is called the conditional        probability of drawing an ace\n",
    "- Symbolically, we write this as: P(ace on second draw | an ace on the first draw)\n",
    "- P(ace on first draw) = 4/52\n",
    "- P(ace on second draw | an ace on the first draw) = 3/51\n",
    "- P(ace on first draw & ace on second draw) = (4/52) *(3/51) = (1/13)*(3/51)"
   ]
  },
  {
   "cell_type": "code",
   "execution_count": 6,
   "id": "b34f7c18",
   "metadata": {},
   "outputs": [
    {
     "data": {
      "text/html": [
       "<div>\n",
       "<style scoped>\n",
       "    .dataframe tbody tr th:only-of-type {\n",
       "        vertical-align: middle;\n",
       "    }\n",
       "\n",
       "    .dataframe tbody tr th {\n",
       "        vertical-align: top;\n",
       "    }\n",
       "\n",
       "    .dataframe thead th {\n",
       "        text-align: right;\n",
       "    }\n",
       "</style>\n",
       "<table border=\"1\" class=\"dataframe\">\n",
       "  <thead>\n",
       "    <tr style=\"text-align: right;\">\n",
       "      <th></th>\n",
       "      <th>gender</th>\n",
       "      <th>age</th>\n",
       "      <th>job</th>\n",
       "      <th>marital</th>\n",
       "      <th>education</th>\n",
       "      <th>default</th>\n",
       "      <th>housing</th>\n",
       "      <th>loan</th>\n",
       "      <th>contact</th>\n",
       "      <th>term_deposit</th>\n",
       "    </tr>\n",
       "  </thead>\n",
       "  <tbody>\n",
       "    <tr>\n",
       "      <th>0</th>\n",
       "      <td>female</td>\n",
       "      <td>56</td>\n",
       "      <td>housemaid</td>\n",
       "      <td>married</td>\n",
       "      <td>basic.4y</td>\n",
       "      <td>no</td>\n",
       "      <td>no</td>\n",
       "      <td>no</td>\n",
       "      <td>telephone</td>\n",
       "      <td>no</td>\n",
       "    </tr>\n",
       "    <tr>\n",
       "      <th>1</th>\n",
       "      <td>male</td>\n",
       "      <td>57</td>\n",
       "      <td>services</td>\n",
       "      <td>married</td>\n",
       "      <td>high.school</td>\n",
       "      <td>yes</td>\n",
       "      <td>no</td>\n",
       "      <td>no</td>\n",
       "      <td>telephone</td>\n",
       "      <td>no</td>\n",
       "    </tr>\n",
       "    <tr>\n",
       "      <th>2</th>\n",
       "      <td>female</td>\n",
       "      <td>37</td>\n",
       "      <td>services</td>\n",
       "      <td>married</td>\n",
       "      <td>high.school</td>\n",
       "      <td>no</td>\n",
       "      <td>yes</td>\n",
       "      <td>no</td>\n",
       "      <td>telephone</td>\n",
       "      <td>no</td>\n",
       "    </tr>\n",
       "    <tr>\n",
       "      <th>3</th>\n",
       "      <td>female</td>\n",
       "      <td>40</td>\n",
       "      <td>admin.</td>\n",
       "      <td>married</td>\n",
       "      <td>basic.6y</td>\n",
       "      <td>no</td>\n",
       "      <td>no</td>\n",
       "      <td>no</td>\n",
       "      <td>telephone</td>\n",
       "      <td>no</td>\n",
       "    </tr>\n",
       "    <tr>\n",
       "      <th>4</th>\n",
       "      <td>female</td>\n",
       "      <td>56</td>\n",
       "      <td>services</td>\n",
       "      <td>married</td>\n",
       "      <td>high.school</td>\n",
       "      <td>no</td>\n",
       "      <td>no</td>\n",
       "      <td>yes</td>\n",
       "      <td>telephone</td>\n",
       "      <td>no</td>\n",
       "    </tr>\n",
       "  </tbody>\n",
       "</table>\n",
       "</div>"
      ],
      "text/plain": [
       "   gender  age        job  marital    education default housing loan  \\\n",
       "0  female   56  housemaid  married     basic.4y      no      no   no   \n",
       "1    male   57   services  married  high.school     yes      no   no   \n",
       "2  female   37   services  married  high.school      no     yes   no   \n",
       "3  female   40     admin.  married     basic.6y      no      no   no   \n",
       "4  female   56   services  married  high.school      no      no  yes   \n",
       "\n",
       "     contact term_deposit  \n",
       "0  telephone           no  \n",
       "1  telephone           no  \n",
       "2  telephone           no  \n",
       "3  telephone           no  \n",
       "4  telephone           no  "
      ]
     },
     "execution_count": 6,
     "metadata": {},
     "output_type": "execute_result"
    }
   ],
   "source": [
    "deposit.head()"
   ]
  },
  {
   "cell_type": "markdown",
   "id": "50a89d77",
   "metadata": {},
   "source": [
    "1. Given the probability that customer has taken term deposit, find the probability that she is a female."
   ]
  },
  {
   "cell_type": "code",
   "execution_count": 7,
   "id": "54e6cdc6",
   "metadata": {},
   "outputs": [
    {
     "name": "stdout",
     "output_type": "stream",
     "text": [
      "Total Number of Customers is: 41188\n"
     ]
    }
   ],
   "source": [
    "S = deposit.shape[0]\n",
    "print('Total Number of Customers is:', S)"
   ]
  },
  {
   "cell_type": "code",
   "execution_count": 8,
   "id": "377704a8",
   "metadata": {},
   "outputs": [
    {
     "data": {
      "text/html": [
       "<div>\n",
       "<style scoped>\n",
       "    .dataframe tbody tr th:only-of-type {\n",
       "        vertical-align: middle;\n",
       "    }\n",
       "\n",
       "    .dataframe tbody tr th {\n",
       "        vertical-align: top;\n",
       "    }\n",
       "\n",
       "    .dataframe thead th {\n",
       "        text-align: right;\n",
       "    }\n",
       "</style>\n",
       "<table border=\"1\" class=\"dataframe\">\n",
       "  <thead>\n",
       "    <tr style=\"text-align: right;\">\n",
       "      <th>term_deposit</th>\n",
       "      <th>no</th>\n",
       "      <th>yes</th>\n",
       "      <th>All</th>\n",
       "    </tr>\n",
       "    <tr>\n",
       "      <th>gender</th>\n",
       "      <th></th>\n",
       "      <th></th>\n",
       "      <th></th>\n",
       "    </tr>\n",
       "  </thead>\n",
       "  <tbody>\n",
       "    <tr>\n",
       "      <th>female</th>\n",
       "      <td>18442</td>\n",
       "      <td>2356</td>\n",
       "      <td>20798</td>\n",
       "    </tr>\n",
       "    <tr>\n",
       "      <th>male</th>\n",
       "      <td>18106</td>\n",
       "      <td>2284</td>\n",
       "      <td>20390</td>\n",
       "    </tr>\n",
       "    <tr>\n",
       "      <th>All</th>\n",
       "      <td>36548</td>\n",
       "      <td>4640</td>\n",
       "      <td>41188</td>\n",
       "    </tr>\n",
       "  </tbody>\n",
       "</table>\n",
       "</div>"
      ],
      "text/plain": [
       "term_deposit     no   yes    All\n",
       "gender                          \n",
       "female        18442  2356  20798\n",
       "male          18106  2284  20390\n",
       "All           36548  4640  41188"
      ]
     },
     "execution_count": 8,
     "metadata": {},
     "output_type": "execute_result"
    }
   ],
   "source": [
    "pd.crosstab(deposit.gender,deposit.term_deposit,margins = True)"
   ]
  },
  {
   "cell_type": "code",
   "execution_count": 27,
   "id": "2e447dc9",
   "metadata": {},
   "outputs": [
    {
     "name": "stdout",
     "output_type": "stream",
     "text": [
      "Number of total femal customers: 20798\n",
      "no. of customers who had taken term deposits: 4640\n",
      "no. of customers who had female and have term depoits p(A & B) is: 2356\n",
      "Joint Probability that a customer is female has taken term deposit: 0.057\n",
      "Marginal probability that a customer taken term deposit: 0.113\n",
      "conditional probability the customer is a Female given customer has taken term deposit: 0.5044\n"
     ]
    }
   ],
   "source": [
    "A = 20798\n",
    "print('Number of total femal customers:', A)\n",
    "B = 4640\n",
    "print('no. of customers who had taken term deposits:',B)\n",
    "AnB = 2356\n",
    "print('no. of customers who had female and have term depoits p(A & B) is:', AnB)\n",
    "PAnB = round((AnB/S),3)\n",
    "PB = round((B/S),3)\n",
    "print('Joint Probability that a customer is female has taken term deposit:',PAnB)\n",
    "print('Marginal probability that a customer taken term deposit:',PB)\n",
    "# P(A | B) = P(A and B) / P(B)\n",
    "Condi = round((PAnB/PB),4)\n",
    "print('conditional probability the customer is a Female given customer has taken term deposit:',Cond)"
   ]
  },
  {
   "cell_type": "code",
   "execution_count": 14,
   "id": "7f3f2afa",
   "metadata": {},
   "outputs": [],
   "source": [
    "2.Given that selected customer has defaulted in past, find the probability that he/she has a blue collar job."
   ]
  },
  {
   "cell_type": "code",
   "execution_count": 24,
   "id": "dcba0e27",
   "metadata": {},
   "outputs": [
    {
     "data": {
      "text/html": [
       "<div>\n",
       "<style scoped>\n",
       "    .dataframe tbody tr th:only-of-type {\n",
       "        vertical-align: middle;\n",
       "    }\n",
       "\n",
       "    .dataframe tbody tr th {\n",
       "        vertical-align: top;\n",
       "    }\n",
       "\n",
       "    .dataframe thead th {\n",
       "        text-align: right;\n",
       "    }\n",
       "</style>\n",
       "<table border=\"1\" class=\"dataframe\">\n",
       "  <thead>\n",
       "    <tr style=\"text-align: right;\">\n",
       "      <th>job</th>\n",
       "      <th>admin.</th>\n",
       "      <th>blue-collar</th>\n",
       "      <th>entrepreneur</th>\n",
       "      <th>housemaid</th>\n",
       "      <th>management</th>\n",
       "      <th>retired</th>\n",
       "      <th>self-employed</th>\n",
       "      <th>services</th>\n",
       "      <th>student</th>\n",
       "      <th>technician</th>\n",
       "      <th>unemployed</th>\n",
       "      <th>unknown</th>\n",
       "      <th>All</th>\n",
       "    </tr>\n",
       "    <tr>\n",
       "      <th>default</th>\n",
       "      <th></th>\n",
       "      <th></th>\n",
       "      <th></th>\n",
       "      <th></th>\n",
       "      <th></th>\n",
       "      <th></th>\n",
       "      <th></th>\n",
       "      <th></th>\n",
       "      <th></th>\n",
       "      <th></th>\n",
       "      <th></th>\n",
       "      <th></th>\n",
       "      <th></th>\n",
       "    </tr>\n",
       "  </thead>\n",
       "  <tbody>\n",
       "    <tr>\n",
       "      <th>no</th>\n",
       "      <td>9129</td>\n",
       "      <td>6088</td>\n",
       "      <td>1155</td>\n",
       "      <td>741</td>\n",
       "      <td>2466</td>\n",
       "      <td>1327</td>\n",
       "      <td>1139</td>\n",
       "      <td>3053</td>\n",
       "      <td>771</td>\n",
       "      <td>5765</td>\n",
       "      <td>776</td>\n",
       "      <td>178</td>\n",
       "      <td>32588</td>\n",
       "    </tr>\n",
       "    <tr>\n",
       "      <th>yes</th>\n",
       "      <td>1293</td>\n",
       "      <td>3166</td>\n",
       "      <td>301</td>\n",
       "      <td>319</td>\n",
       "      <td>458</td>\n",
       "      <td>393</td>\n",
       "      <td>282</td>\n",
       "      <td>916</td>\n",
       "      <td>104</td>\n",
       "      <td>978</td>\n",
       "      <td>238</td>\n",
       "      <td>152</td>\n",
       "      <td>8600</td>\n",
       "    </tr>\n",
       "    <tr>\n",
       "      <th>All</th>\n",
       "      <td>10422</td>\n",
       "      <td>9254</td>\n",
       "      <td>1456</td>\n",
       "      <td>1060</td>\n",
       "      <td>2924</td>\n",
       "      <td>1720</td>\n",
       "      <td>1421</td>\n",
       "      <td>3969</td>\n",
       "      <td>875</td>\n",
       "      <td>6743</td>\n",
       "      <td>1014</td>\n",
       "      <td>330</td>\n",
       "      <td>41188</td>\n",
       "    </tr>\n",
       "  </tbody>\n",
       "</table>\n",
       "</div>"
      ],
      "text/plain": [
       "job      admin.  blue-collar  entrepreneur  housemaid  management  retired  \\\n",
       "default                                                                      \n",
       "no         9129         6088          1155        741        2466     1327   \n",
       "yes        1293         3166           301        319         458      393   \n",
       "All       10422         9254          1456       1060        2924     1720   \n",
       "\n",
       "job      self-employed  services  student  technician  unemployed  unknown  \\\n",
       "default                                                                      \n",
       "no                1139      3053      771        5765         776      178   \n",
       "yes                282       916      104         978         238      152   \n",
       "All               1421      3969      875        6743        1014      330   \n",
       "\n",
       "job        All  \n",
       "default         \n",
       "no       32588  \n",
       "yes       8600  \n",
       "All      41188  "
      ]
     },
     "execution_count": 24,
     "metadata": {},
     "output_type": "execute_result"
    }
   ],
   "source": [
    "pd.crosstab(deposit.default,deposit.job,margins = True)"
   ]
  },
  {
   "cell_type": "code",
   "execution_count": 28,
   "id": "91b90336",
   "metadata": {},
   "outputs": [],
   "source": [
    "A = 41188 # all default custmrs\n",
    "B = 9254  # all blue collar jobs \n",
    "AnB = 3166 # by default who have blue collar jobs\n",
    "S = deposit.shape[0]\n",
    "PAnB = round((AnB/S),3) # joint Prob\n",
    "PB = round((B/S),3) # marginal prob\n",
    "# P(A | B) = P(A and B) / P(B)\n",
    "conditional = round((PAnB/PB),3) # conditional Prob"
   ]
  },
  {
   "cell_type": "code",
   "execution_count": 29,
   "id": "1fe4a0c8",
   "metadata": {},
   "outputs": [
    {
     "data": {
      "text/plain": [
       "0.342"
      ]
     },
     "execution_count": 29,
     "metadata": {},
     "output_type": "execute_result"
    }
   ],
   "source": [
    "conditional"
   ]
  },
  {
   "cell_type": "markdown",
   "id": "8d89e198",
   "metadata": {},
   "source": [
    "### Inclass practice"
   ]
  },
  {
   "cell_type": "code",
   "execution_count": 1,
   "id": "b66a8d05",
   "metadata": {},
   "outputs": [],
   "source": [
    "import pandas as pd\n",
    "import numpy as np"
   ]
  },
  {
   "cell_type": "code",
   "execution_count": 7,
   "id": "623a7110",
   "metadata": {},
   "outputs": [],
   "source": [
    "df = pd.read_csv('marveldata.csv')"
   ]
  },
  {
   "cell_type": "code",
   "execution_count": 11,
   "id": "aa35bcd0",
   "metadata": {},
   "outputs": [
    {
     "name": "stdout",
     "output_type": "stream",
     "text": [
      "(16376, 13)\n"
     ]
    },
    {
     "data": {
      "text/html": [
       "<div>\n",
       "<style scoped>\n",
       "    .dataframe tbody tr th:only-of-type {\n",
       "        vertical-align: middle;\n",
       "    }\n",
       "\n",
       "    .dataframe tbody tr th {\n",
       "        vertical-align: top;\n",
       "    }\n",
       "\n",
       "    .dataframe thead th {\n",
       "        text-align: right;\n",
       "    }\n",
       "</style>\n",
       "<table border=\"1\" class=\"dataframe\">\n",
       "  <thead>\n",
       "    <tr style=\"text-align: right;\">\n",
       "      <th></th>\n",
       "      <th>page_id</th>\n",
       "      <th>name</th>\n",
       "      <th>urlslug</th>\n",
       "      <th>ID</th>\n",
       "      <th>ALIGN</th>\n",
       "      <th>EYE</th>\n",
       "      <th>HAIR</th>\n",
       "      <th>SEX</th>\n",
       "      <th>GSM</th>\n",
       "      <th>ALIVE</th>\n",
       "      <th>APPEARANCES</th>\n",
       "      <th>FIRST APPEARANCE</th>\n",
       "      <th>Year</th>\n",
       "    </tr>\n",
       "  </thead>\n",
       "  <tbody>\n",
       "    <tr>\n",
       "      <th>0</th>\n",
       "      <td>1678</td>\n",
       "      <td>Spider-Man (Peter Parker)</td>\n",
       "      <td>\\/Spider-Man_(Peter_Parker)</td>\n",
       "      <td>Secret Identity</td>\n",
       "      <td>Good Characters</td>\n",
       "      <td>Hazel Eyes</td>\n",
       "      <td>Brown Hair</td>\n",
       "      <td>Male Characters</td>\n",
       "      <td>NaN</td>\n",
       "      <td>Living Characters</td>\n",
       "      <td>4043.0</td>\n",
       "      <td>Aug-62</td>\n",
       "      <td>1962.0</td>\n",
       "    </tr>\n",
       "    <tr>\n",
       "      <th>1</th>\n",
       "      <td>7139</td>\n",
       "      <td>Captain America (Steven Rogers)</td>\n",
       "      <td>\\/Captain_America_(Steven_Rogers)</td>\n",
       "      <td>Public Identity</td>\n",
       "      <td>Good Characters</td>\n",
       "      <td>Blue Eyes</td>\n",
       "      <td>White Hair</td>\n",
       "      <td>Male Characters</td>\n",
       "      <td>NaN</td>\n",
       "      <td>Living Characters</td>\n",
       "      <td>3360.0</td>\n",
       "      <td>Mar-41</td>\n",
       "      <td>1941.0</td>\n",
       "    </tr>\n",
       "    <tr>\n",
       "      <th>2</th>\n",
       "      <td>64786</td>\n",
       "      <td>Wolverine (James \\\"Logan\\\" Howlett)</td>\n",
       "      <td>\\/Wolverine_(James_%22Logan%22_Howlett)</td>\n",
       "      <td>Public Identity</td>\n",
       "      <td>Neutral Characters</td>\n",
       "      <td>Blue Eyes</td>\n",
       "      <td>Black Hair</td>\n",
       "      <td>Male Characters</td>\n",
       "      <td>NaN</td>\n",
       "      <td>Living Characters</td>\n",
       "      <td>3061.0</td>\n",
       "      <td>Oct-74</td>\n",
       "      <td>1974.0</td>\n",
       "    </tr>\n",
       "    <tr>\n",
       "      <th>3</th>\n",
       "      <td>1868</td>\n",
       "      <td>Iron Man (Anthony \\\"Tony\\\" Stark)</td>\n",
       "      <td>\\/Iron_Man_(Anthony_%22Tony%22_Stark)</td>\n",
       "      <td>Public Identity</td>\n",
       "      <td>Good Characters</td>\n",
       "      <td>Blue Eyes</td>\n",
       "      <td>Black Hair</td>\n",
       "      <td>Male Characters</td>\n",
       "      <td>NaN</td>\n",
       "      <td>Living Characters</td>\n",
       "      <td>2961.0</td>\n",
       "      <td>Mar-63</td>\n",
       "      <td>1963.0</td>\n",
       "    </tr>\n",
       "    <tr>\n",
       "      <th>4</th>\n",
       "      <td>2460</td>\n",
       "      <td>Thor (Thor Odinson)</td>\n",
       "      <td>\\/Thor_(Thor_Odinson)</td>\n",
       "      <td>No Dual Identity</td>\n",
       "      <td>Good Characters</td>\n",
       "      <td>Blue Eyes</td>\n",
       "      <td>Blond Hair</td>\n",
       "      <td>Male Characters</td>\n",
       "      <td>NaN</td>\n",
       "      <td>Living Characters</td>\n",
       "      <td>2258.0</td>\n",
       "      <td>Nov-50</td>\n",
       "      <td>1950.0</td>\n",
       "    </tr>\n",
       "  </tbody>\n",
       "</table>\n",
       "</div>"
      ],
      "text/plain": [
       "   page_id                                 name  \\\n",
       "0     1678            Spider-Man (Peter Parker)   \n",
       "1     7139      Captain America (Steven Rogers)   \n",
       "2    64786  Wolverine (James \\\"Logan\\\" Howlett)   \n",
       "3     1868    Iron Man (Anthony \\\"Tony\\\" Stark)   \n",
       "4     2460                  Thor (Thor Odinson)   \n",
       "\n",
       "                                   urlslug                ID  \\\n",
       "0              \\/Spider-Man_(Peter_Parker)   Secret Identity   \n",
       "1        \\/Captain_America_(Steven_Rogers)   Public Identity   \n",
       "2  \\/Wolverine_(James_%22Logan%22_Howlett)   Public Identity   \n",
       "3    \\/Iron_Man_(Anthony_%22Tony%22_Stark)   Public Identity   \n",
       "4                    \\/Thor_(Thor_Odinson)  No Dual Identity   \n",
       "\n",
       "                ALIGN         EYE        HAIR              SEX  GSM  \\\n",
       "0     Good Characters  Hazel Eyes  Brown Hair  Male Characters  NaN   \n",
       "1     Good Characters   Blue Eyes  White Hair  Male Characters  NaN   \n",
       "2  Neutral Characters   Blue Eyes  Black Hair  Male Characters  NaN   \n",
       "3     Good Characters   Blue Eyes  Black Hair  Male Characters  NaN   \n",
       "4     Good Characters   Blue Eyes  Blond Hair  Male Characters  NaN   \n",
       "\n",
       "               ALIVE  APPEARANCES FIRST APPEARANCE    Year  \n",
       "0  Living Characters       4043.0           Aug-62  1962.0  \n",
       "1  Living Characters       3360.0           Mar-41  1941.0  \n",
       "2  Living Characters       3061.0           Oct-74  1974.0  \n",
       "3  Living Characters       2961.0           Mar-63  1963.0  \n",
       "4  Living Characters       2258.0           Nov-50  1950.0  "
      ]
     },
     "execution_count": 11,
     "metadata": {},
     "output_type": "execute_result"
    }
   ],
   "source": [
    "print(df.shape)\n",
    "df.head()"
   ]
  },
  {
   "cell_type": "code",
   "execution_count": 14,
   "id": "c0b3a3fc",
   "metadata": {},
   "outputs": [
    {
     "data": {
      "text/plain": [
       "Index(['page_id', 'name', 'urlslug', 'ID', 'ALIGN', 'EYE', 'HAIR', 'SEX',\n",
       "       'GSM', 'ALIVE', 'APPEARANCES', 'FIRST APPEARANCE', 'Year'],\n",
       "      dtype='object')"
      ]
     },
     "execution_count": 14,
     "metadata": {},
     "output_type": "execute_result"
    }
   ],
   "source": [
    "df.columns"
   ]
  },
  {
   "cell_type": "markdown",
   "id": "dec06dbc",
   "metadata": {},
   "source": [
    "Calculate total number of character counts"
   ]
  },
  {
   "cell_type": "code",
   "execution_count": 17,
   "id": "b625d4ec",
   "metadata": {},
   "outputs": [],
   "source": [
    "characters = len(df['name'])"
   ]
  },
  {
   "cell_type": "code",
   "execution_count": 18,
   "id": "9d26cb38",
   "metadata": {},
   "outputs": [
    {
     "data": {
      "text/plain": [
       "16376"
      ]
     },
     "execution_count": 18,
     "metadata": {},
     "output_type": "execute_result"
    }
   ],
   "source": [
    "characters"
   ]
  },
  {
   "cell_type": "markdown",
   "id": "63def868",
   "metadata": {},
   "source": [
    "Display columns SEX, EYE, HAIR"
   ]
  },
  {
   "cell_type": "code",
   "execution_count": 20,
   "id": "3f967971",
   "metadata": {},
   "outputs": [],
   "source": [
    "cl = df[['SEX','EYE','HAIR']]"
   ]
  },
  {
   "cell_type": "code",
   "execution_count": 31,
   "id": "8780bba4",
   "metadata": {},
   "outputs": [
    {
     "data": {
      "text/html": [
       "<div>\n",
       "<style scoped>\n",
       "    .dataframe tbody tr th:only-of-type {\n",
       "        vertical-align: middle;\n",
       "    }\n",
       "\n",
       "    .dataframe tbody tr th {\n",
       "        vertical-align: top;\n",
       "    }\n",
       "\n",
       "    .dataframe thead th {\n",
       "        text-align: right;\n",
       "    }\n",
       "</style>\n",
       "<table border=\"1\" class=\"dataframe\">\n",
       "  <thead>\n",
       "    <tr style=\"text-align: right;\">\n",
       "      <th></th>\n",
       "      <th>SEX</th>\n",
       "      <th>EYE</th>\n",
       "      <th>HAIR</th>\n",
       "    </tr>\n",
       "  </thead>\n",
       "  <tbody>\n",
       "    <tr>\n",
       "      <th>0</th>\n",
       "      <td>Male Characters</td>\n",
       "      <td>Hazel Eyes</td>\n",
       "      <td>Brown Hair</td>\n",
       "    </tr>\n",
       "    <tr>\n",
       "      <th>1</th>\n",
       "      <td>Male Characters</td>\n",
       "      <td>Blue Eyes</td>\n",
       "      <td>White Hair</td>\n",
       "    </tr>\n",
       "    <tr>\n",
       "      <th>2</th>\n",
       "      <td>Male Characters</td>\n",
       "      <td>Blue Eyes</td>\n",
       "      <td>Black Hair</td>\n",
       "    </tr>\n",
       "    <tr>\n",
       "      <th>3</th>\n",
       "      <td>Male Characters</td>\n",
       "      <td>Blue Eyes</td>\n",
       "      <td>Black Hair</td>\n",
       "    </tr>\n",
       "    <tr>\n",
       "      <th>4</th>\n",
       "      <td>Male Characters</td>\n",
       "      <td>Blue Eyes</td>\n",
       "      <td>Blond Hair</td>\n",
       "    </tr>\n",
       "  </tbody>\n",
       "</table>\n",
       "</div>"
      ],
      "text/plain": [
       "               SEX         EYE        HAIR\n",
       "0  Male Characters  Hazel Eyes  Brown Hair\n",
       "1  Male Characters   Blue Eyes  White Hair\n",
       "2  Male Characters   Blue Eyes  Black Hair\n",
       "3  Male Characters   Blue Eyes  Black Hair\n",
       "4  Male Characters   Blue Eyes  Blond Hair"
      ]
     },
     "execution_count": 31,
     "metadata": {},
     "output_type": "execute_result"
    }
   ],
   "source": [
    "cl.head()"
   ]
  },
  {
   "cell_type": "code",
   "execution_count": 27,
   "id": "2feb9abd",
   "metadata": {},
   "outputs": [],
   "source": [
    "cls = df[['name']]"
   ]
  },
  {
   "cell_type": "code",
   "execution_count": 29,
   "id": "223967a1",
   "metadata": {},
   "outputs": [
    {
     "data": {
      "text/html": [
       "<div>\n",
       "<style scoped>\n",
       "    .dataframe tbody tr th:only-of-type {\n",
       "        vertical-align: middle;\n",
       "    }\n",
       "\n",
       "    .dataframe tbody tr th {\n",
       "        vertical-align: top;\n",
       "    }\n",
       "\n",
       "    .dataframe thead th {\n",
       "        text-align: right;\n",
       "    }\n",
       "</style>\n",
       "<table border=\"1\" class=\"dataframe\">\n",
       "  <thead>\n",
       "    <tr style=\"text-align: right;\">\n",
       "      <th></th>\n",
       "      <th>name</th>\n",
       "    </tr>\n",
       "  </thead>\n",
       "  <tbody>\n",
       "    <tr>\n",
       "      <th>0</th>\n",
       "      <td>Spider-Man (Peter Parker)</td>\n",
       "    </tr>\n",
       "    <tr>\n",
       "      <th>1</th>\n",
       "      <td>Captain America (Steven Rogers)</td>\n",
       "    </tr>\n",
       "    <tr>\n",
       "      <th>2</th>\n",
       "      <td>Wolverine (James \\\"Logan\\\" Howlett)</td>\n",
       "    </tr>\n",
       "    <tr>\n",
       "      <th>3</th>\n",
       "      <td>Iron Man (Anthony \\\"Tony\\\" Stark)</td>\n",
       "    </tr>\n",
       "    <tr>\n",
       "      <th>4</th>\n",
       "      <td>Thor (Thor Odinson)</td>\n",
       "    </tr>\n",
       "    <tr>\n",
       "      <th>...</th>\n",
       "      <td>...</td>\n",
       "    </tr>\n",
       "    <tr>\n",
       "      <th>16371</th>\n",
       "      <td>Ru'ach (Earth-616)</td>\n",
       "    </tr>\n",
       "    <tr>\n",
       "      <th>16372</th>\n",
       "      <td>Thane (Thanos' son) (Earth-616)</td>\n",
       "    </tr>\n",
       "    <tr>\n",
       "      <th>16373</th>\n",
       "      <td>Tinkerer (Skrull) (Earth-616)</td>\n",
       "    </tr>\n",
       "    <tr>\n",
       "      <th>16374</th>\n",
       "      <td>TK421 (Spiderling) (Earth-616)</td>\n",
       "    </tr>\n",
       "    <tr>\n",
       "      <th>16375</th>\n",
       "      <td>Yologarch (Earth-616)</td>\n",
       "    </tr>\n",
       "  </tbody>\n",
       "</table>\n",
       "<p>16376 rows × 1 columns</p>\n",
       "</div>"
      ],
      "text/plain": [
       "                                      name\n",
       "0                Spider-Man (Peter Parker)\n",
       "1          Captain America (Steven Rogers)\n",
       "2      Wolverine (James \\\"Logan\\\" Howlett)\n",
       "3        Iron Man (Anthony \\\"Tony\\\" Stark)\n",
       "4                      Thor (Thor Odinson)\n",
       "...                                    ...\n",
       "16371                   Ru'ach (Earth-616)\n",
       "16372      Thane (Thanos' son) (Earth-616)\n",
       "16373        Tinkerer (Skrull) (Earth-616)\n",
       "16374       TK421 (Spiderling) (Earth-616)\n",
       "16375                Yologarch (Earth-616)\n",
       "\n",
       "[16376 rows x 1 columns]"
      ]
     },
     "execution_count": 29,
     "metadata": {},
     "output_type": "execute_result"
    }
   ],
   "source": [
    "cls"
   ]
  },
  {
   "cell_type": "markdown",
   "id": "57e391f3",
   "metadata": {},
   "source": [
    "Calculate total number of characters according to gender"
   ]
  },
  {
   "cell_type": "code",
   "execution_count": 32,
   "id": "1a883568",
   "metadata": {},
   "outputs": [
    {
     "data": {
      "text/html": [
       "<div>\n",
       "<style scoped>\n",
       "    .dataframe tbody tr th:only-of-type {\n",
       "        vertical-align: middle;\n",
       "    }\n",
       "\n",
       "    .dataframe tbody tr th {\n",
       "        vertical-align: top;\n",
       "    }\n",
       "\n",
       "    .dataframe thead th {\n",
       "        text-align: right;\n",
       "    }\n",
       "</style>\n",
       "<table border=\"1\" class=\"dataframe\">\n",
       "  <thead>\n",
       "    <tr style=\"text-align: right;\">\n",
       "      <th></th>\n",
       "      <th>page_id</th>\n",
       "      <th>name</th>\n",
       "      <th>urlslug</th>\n",
       "      <th>ID</th>\n",
       "      <th>ALIGN</th>\n",
       "      <th>EYE</th>\n",
       "      <th>HAIR</th>\n",
       "      <th>SEX</th>\n",
       "      <th>GSM</th>\n",
       "      <th>ALIVE</th>\n",
       "      <th>APPEARANCES</th>\n",
       "      <th>FIRST APPEARANCE</th>\n",
       "      <th>Year</th>\n",
       "    </tr>\n",
       "  </thead>\n",
       "  <tbody>\n",
       "    <tr>\n",
       "      <th>0</th>\n",
       "      <td>1678</td>\n",
       "      <td>Spider-Man (Peter Parker)</td>\n",
       "      <td>\\/Spider-Man_(Peter_Parker)</td>\n",
       "      <td>Secret Identity</td>\n",
       "      <td>Good Characters</td>\n",
       "      <td>Hazel Eyes</td>\n",
       "      <td>Brown Hair</td>\n",
       "      <td>Male Characters</td>\n",
       "      <td>NaN</td>\n",
       "      <td>Living Characters</td>\n",
       "      <td>4043.0</td>\n",
       "      <td>Aug-62</td>\n",
       "      <td>1962.0</td>\n",
       "    </tr>\n",
       "  </tbody>\n",
       "</table>\n",
       "</div>"
      ],
      "text/plain": [
       "   page_id                       name                      urlslug  \\\n",
       "0     1678  Spider-Man (Peter Parker)  \\/Spider-Man_(Peter_Parker)   \n",
       "\n",
       "                ID            ALIGN         EYE        HAIR              SEX  \\\n",
       "0  Secret Identity  Good Characters  Hazel Eyes  Brown Hair  Male Characters   \n",
       "\n",
       "   GSM              ALIVE  APPEARANCES FIRST APPEARANCE    Year  \n",
       "0  NaN  Living Characters       4043.0           Aug-62  1962.0  "
      ]
     },
     "execution_count": 32,
     "metadata": {},
     "output_type": "execute_result"
    }
   ],
   "source": [
    "df.head(1)"
   ]
  },
  {
   "cell_type": "code",
   "execution_count": 33,
   "id": "a5805305",
   "metadata": {},
   "outputs": [
    {
     "data": {
      "text/html": [
       "<div>\n",
       "<style scoped>\n",
       "    .dataframe tbody tr th:only-of-type {\n",
       "        vertical-align: middle;\n",
       "    }\n",
       "\n",
       "    .dataframe tbody tr th {\n",
       "        vertical-align: top;\n",
       "    }\n",
       "\n",
       "    .dataframe thead th {\n",
       "        text-align: right;\n",
       "    }\n",
       "</style>\n",
       "<table border=\"1\" class=\"dataframe\">\n",
       "  <thead>\n",
       "    <tr style=\"text-align: right;\">\n",
       "      <th>SEX</th>\n",
       "      <th>Agender Characters</th>\n",
       "      <th>Female Characters</th>\n",
       "      <th>Genderfluid Characters</th>\n",
       "      <th>Male Characters</th>\n",
       "      <th>All</th>\n",
       "    </tr>\n",
       "    <tr>\n",
       "      <th>name</th>\n",
       "      <th></th>\n",
       "      <th></th>\n",
       "      <th></th>\n",
       "      <th></th>\n",
       "      <th></th>\n",
       "    </tr>\n",
       "  </thead>\n",
       "  <tbody>\n",
       "    <tr>\n",
       "      <th>'Spinner (Earth-616)</th>\n",
       "      <td>0</td>\n",
       "      <td>0</td>\n",
       "      <td>0</td>\n",
       "      <td>1</td>\n",
       "      <td>1</td>\n",
       "    </tr>\n",
       "    <tr>\n",
       "      <th>107 (Earth-616)</th>\n",
       "      <td>0</td>\n",
       "      <td>0</td>\n",
       "      <td>0</td>\n",
       "      <td>1</td>\n",
       "      <td>1</td>\n",
       "    </tr>\n",
       "    <tr>\n",
       "      <th>11-Ball (Earth-616)</th>\n",
       "      <td>0</td>\n",
       "      <td>0</td>\n",
       "      <td>0</td>\n",
       "      <td>1</td>\n",
       "      <td>1</td>\n",
       "    </tr>\n",
       "    <tr>\n",
       "      <th>115 (Legion Personality) (Earth-616)</th>\n",
       "      <td>0</td>\n",
       "      <td>1</td>\n",
       "      <td>0</td>\n",
       "      <td>0</td>\n",
       "      <td>1</td>\n",
       "    </tr>\n",
       "    <tr>\n",
       "      <th>14 (Earth-616)</th>\n",
       "      <td>0</td>\n",
       "      <td>1</td>\n",
       "      <td>0</td>\n",
       "      <td>0</td>\n",
       "      <td>1</td>\n",
       "    </tr>\n",
       "    <tr>\n",
       "      <th>...</th>\n",
       "      <td>...</td>\n",
       "      <td>...</td>\n",
       "      <td>...</td>\n",
       "      <td>...</td>\n",
       "      <td>...</td>\n",
       "    </tr>\n",
       "    <tr>\n",
       "      <th>Zzxz (Earth-616)</th>\n",
       "      <td>1</td>\n",
       "      <td>0</td>\n",
       "      <td>0</td>\n",
       "      <td>0</td>\n",
       "      <td>1</td>\n",
       "    </tr>\n",
       "    <tr>\n",
       "      <th>\\\"Spider-Girl\\\" (Mutant\\/Spider Clone) (Earth-616)</th>\n",
       "      <td>0</td>\n",
       "      <td>1</td>\n",
       "      <td>0</td>\n",
       "      <td>0</td>\n",
       "      <td>1</td>\n",
       "    </tr>\n",
       "    <tr>\n",
       "      <th>\\\"Thumper\\\" Morgan (Earth-616)</th>\n",
       "      <td>0</td>\n",
       "      <td>0</td>\n",
       "      <td>0</td>\n",
       "      <td>1</td>\n",
       "      <td>1</td>\n",
       "    </tr>\n",
       "    <tr>\n",
       "      <th>\\u00c4kr\\u00e4s (Earth-616)</th>\n",
       "      <td>0</td>\n",
       "      <td>0</td>\n",
       "      <td>0</td>\n",
       "      <td>1</td>\n",
       "      <td>1</td>\n",
       "    </tr>\n",
       "    <tr>\n",
       "      <th>All</th>\n",
       "      <td>45</td>\n",
       "      <td>3837</td>\n",
       "      <td>2</td>\n",
       "      <td>11638</td>\n",
       "      <td>15522</td>\n",
       "    </tr>\n",
       "  </tbody>\n",
       "</table>\n",
       "<p>15523 rows × 5 columns</p>\n",
       "</div>"
      ],
      "text/plain": [
       "SEX                                                 Agender Characters  \\\n",
       "name                                                                     \n",
       "'Spinner (Earth-616)                                                 0   \n",
       "107 (Earth-616)                                                      0   \n",
       "11-Ball (Earth-616)                                                  0   \n",
       "115 (Legion Personality) (Earth-616)                                 0   \n",
       "14 (Earth-616)                                                       0   \n",
       "...                                                                ...   \n",
       "Zzxz (Earth-616)                                                     1   \n",
       "\\\"Spider-Girl\\\" (Mutant\\/Spider Clone) (Earth-616)                   0   \n",
       "\\\"Thumper\\\" Morgan (Earth-616)                                       0   \n",
       "\\u00c4kr\\u00e4s (Earth-616)                                          0   \n",
       "All                                                                 45   \n",
       "\n",
       "SEX                                                 Female Characters  \\\n",
       "name                                                                    \n",
       "'Spinner (Earth-616)                                                0   \n",
       "107 (Earth-616)                                                     0   \n",
       "11-Ball (Earth-616)                                                 0   \n",
       "115 (Legion Personality) (Earth-616)                                1   \n",
       "14 (Earth-616)                                                      1   \n",
       "...                                                               ...   \n",
       "Zzxz (Earth-616)                                                    0   \n",
       "\\\"Spider-Girl\\\" (Mutant\\/Spider Clone) (Earth-616)                  1   \n",
       "\\\"Thumper\\\" Morgan (Earth-616)                                      0   \n",
       "\\u00c4kr\\u00e4s (Earth-616)                                         0   \n",
       "All                                                              3837   \n",
       "\n",
       "SEX                                                 Genderfluid Characters  \\\n",
       "name                                                                         \n",
       "'Spinner (Earth-616)                                                     0   \n",
       "107 (Earth-616)                                                          0   \n",
       "11-Ball (Earth-616)                                                      0   \n",
       "115 (Legion Personality) (Earth-616)                                     0   \n",
       "14 (Earth-616)                                                           0   \n",
       "...                                                                    ...   \n",
       "Zzxz (Earth-616)                                                         0   \n",
       "\\\"Spider-Girl\\\" (Mutant\\/Spider Clone) (Earth-616)                       0   \n",
       "\\\"Thumper\\\" Morgan (Earth-616)                                           0   \n",
       "\\u00c4kr\\u00e4s (Earth-616)                                              0   \n",
       "All                                                                      2   \n",
       "\n",
       "SEX                                                 Male Characters    All  \n",
       "name                                                                        \n",
       "'Spinner (Earth-616)                                              1      1  \n",
       "107 (Earth-616)                                                   1      1  \n",
       "11-Ball (Earth-616)                                               1      1  \n",
       "115 (Legion Personality) (Earth-616)                              0      1  \n",
       "14 (Earth-616)                                                    0      1  \n",
       "...                                                             ...    ...  \n",
       "Zzxz (Earth-616)                                                  0      1  \n",
       "\\\"Spider-Girl\\\" (Mutant\\/Spider Clone) (Earth-616)                0      1  \n",
       "\\\"Thumper\\\" Morgan (Earth-616)                                    1      1  \n",
       "\\u00c4kr\\u00e4s (Earth-616)                                       1      1  \n",
       "All                                                           11638  15522  \n",
       "\n",
       "[15523 rows x 5 columns]"
      ]
     },
     "execution_count": 33,
     "metadata": {},
     "output_type": "execute_result"
    }
   ],
   "source": [
    "pd.crosstab(df.name,df.SEX,margins = True)"
   ]
  },
  {
   "cell_type": "code",
   "execution_count": 52,
   "id": "e298b34e",
   "metadata": {},
   "outputs": [],
   "source": [
    "sh = df.groupby(['SEX']).count()['name']"
   ]
  },
  {
   "cell_type": "code",
   "execution_count": 53,
   "id": "f2dbaf2c",
   "metadata": {},
   "outputs": [
    {
     "data": {
      "text/plain": [
       "SEX\n",
       "Agender Characters           45\n",
       "Female Characters          3837\n",
       "Genderfluid Characters        2\n",
       "Male Characters           11638\n",
       "Name: name, dtype: int64"
      ]
     },
     "execution_count": 53,
     "metadata": {},
     "output_type": "execute_result"
    }
   ],
   "source": [
    "sh"
   ]
  },
  {
   "cell_type": "code",
   "execution_count": 57,
   "id": "a9ac0cac",
   "metadata": {},
   "outputs": [
    {
     "data": {
      "text/plain": [
       "array([   45,  3837,     2, 11638], dtype=int64)"
      ]
     },
     "execution_count": 57,
     "metadata": {},
     "output_type": "execute_result"
    }
   ],
   "source": [
    "sh.values"
   ]
  },
  {
   "cell_type": "markdown",
   "id": "102a8c83",
   "metadata": {},
   "source": [
    "### Question 1 - Marginal Probability"
   ]
  },
  {
   "cell_type": "markdown",
   "id": "d929bc0f",
   "metadata": {},
   "source": [
    "Calculate the probability of a character being male."
   ]
  },
  {
   "cell_type": "code",
   "execution_count": 58,
   "id": "506ebb58",
   "metadata": {},
   "outputs": [
    {
     "data": {
      "text/html": [
       "<div>\n",
       "<style scoped>\n",
       "    .dataframe tbody tr th:only-of-type {\n",
       "        vertical-align: middle;\n",
       "    }\n",
       "\n",
       "    .dataframe tbody tr th {\n",
       "        vertical-align: top;\n",
       "    }\n",
       "\n",
       "    .dataframe thead th {\n",
       "        text-align: right;\n",
       "    }\n",
       "</style>\n",
       "<table border=\"1\" class=\"dataframe\">\n",
       "  <thead>\n",
       "    <tr style=\"text-align: right;\">\n",
       "      <th></th>\n",
       "      <th>page_id</th>\n",
       "      <th>name</th>\n",
       "      <th>urlslug</th>\n",
       "      <th>ID</th>\n",
       "      <th>ALIGN</th>\n",
       "      <th>EYE</th>\n",
       "      <th>HAIR</th>\n",
       "      <th>SEX</th>\n",
       "      <th>GSM</th>\n",
       "      <th>ALIVE</th>\n",
       "      <th>APPEARANCES</th>\n",
       "      <th>FIRST APPEARANCE</th>\n",
       "      <th>Year</th>\n",
       "    </tr>\n",
       "  </thead>\n",
       "  <tbody>\n",
       "    <tr>\n",
       "      <th>0</th>\n",
       "      <td>1678</td>\n",
       "      <td>Spider-Man (Peter Parker)</td>\n",
       "      <td>\\/Spider-Man_(Peter_Parker)</td>\n",
       "      <td>Secret Identity</td>\n",
       "      <td>Good Characters</td>\n",
       "      <td>Hazel Eyes</td>\n",
       "      <td>Brown Hair</td>\n",
       "      <td>Male Characters</td>\n",
       "      <td>NaN</td>\n",
       "      <td>Living Characters</td>\n",
       "      <td>4043.0</td>\n",
       "      <td>Aug-62</td>\n",
       "      <td>1962.0</td>\n",
       "    </tr>\n",
       "    <tr>\n",
       "      <th>1</th>\n",
       "      <td>7139</td>\n",
       "      <td>Captain America (Steven Rogers)</td>\n",
       "      <td>\\/Captain_America_(Steven_Rogers)</td>\n",
       "      <td>Public Identity</td>\n",
       "      <td>Good Characters</td>\n",
       "      <td>Blue Eyes</td>\n",
       "      <td>White Hair</td>\n",
       "      <td>Male Characters</td>\n",
       "      <td>NaN</td>\n",
       "      <td>Living Characters</td>\n",
       "      <td>3360.0</td>\n",
       "      <td>Mar-41</td>\n",
       "      <td>1941.0</td>\n",
       "    </tr>\n",
       "  </tbody>\n",
       "</table>\n",
       "</div>"
      ],
      "text/plain": [
       "   page_id                             name  \\\n",
       "0     1678        Spider-Man (Peter Parker)   \n",
       "1     7139  Captain America (Steven Rogers)   \n",
       "\n",
       "                             urlslug               ID            ALIGN  \\\n",
       "0        \\/Spider-Man_(Peter_Parker)  Secret Identity  Good Characters   \n",
       "1  \\/Captain_America_(Steven_Rogers)  Public Identity  Good Characters   \n",
       "\n",
       "          EYE        HAIR              SEX  GSM              ALIVE  \\\n",
       "0  Hazel Eyes  Brown Hair  Male Characters  NaN  Living Characters   \n",
       "1   Blue Eyes  White Hair  Male Characters  NaN  Living Characters   \n",
       "\n",
       "   APPEARANCES FIRST APPEARANCE    Year  \n",
       "0       4043.0           Aug-62  1962.0  \n",
       "1       3360.0           Mar-41  1941.0  "
      ]
     },
     "execution_count": 58,
     "metadata": {},
     "output_type": "execute_result"
    }
   ],
   "source": [
    "df.head(2)"
   ]
  },
  {
   "cell_type": "code",
   "execution_count": 61,
   "id": "d64b9ddc",
   "metadata": {},
   "outputs": [
    {
     "name": "stdout",
     "output_type": "stream",
     "text": [
      "Total no. of characters: 16376\n"
     ]
    }
   ],
   "source": [
    "S = df.shape[0]\n",
    "print('Total no. of characters:', S)"
   ]
  },
  {
   "cell_type": "code",
   "execution_count": 74,
   "id": "6e811197",
   "metadata": {},
   "outputs": [
    {
     "name": "stdout",
     "output_type": "stream",
     "text": [
      "The charcters are only male: 11638\n"
     ]
    }
   ],
   "source": [
    "E = df[df.SEX == 'Male Characters'].shape[0]\n",
    "print('The charcters are only male:', E)"
   ]
  },
  {
   "cell_type": "code",
   "execution_count": 77,
   "id": "6fe246e4",
   "metadata": {},
   "outputs": [
    {
     "name": "stdout",
     "output_type": "stream",
     "text": [
      "the probability of a customer is male: 0.711\n"
     ]
    }
   ],
   "source": [
    "P = round((E/S),3) \n",
    "print('the probability of a customer is male:', P)"
   ]
  },
  {
   "cell_type": "markdown",
   "id": "7bead892",
   "metadata": {},
   "source": [
    "The Probability of being a bad characters"
   ]
  },
  {
   "cell_type": "code",
   "execution_count": 82,
   "id": "36ec24be",
   "metadata": {},
   "outputs": [
    {
     "name": "stdout",
     "output_type": "stream",
     "text": [
      "Total no. of characters: 16376\n"
     ]
    }
   ],
   "source": [
    "S = df.shape[0]\n",
    "print('Total no. of characters:', S)"
   ]
  },
  {
   "cell_type": "code",
   "execution_count": 86,
   "id": "b624839d",
   "metadata": {},
   "outputs": [
    {
     "name": "stdout",
     "output_type": "stream",
     "text": [
      "characters that are bad characters: 6720\n"
     ]
    }
   ],
   "source": [
    "E = df[df.ALIGN == 'Bad Characters'].shape[0]\n",
    "print('characters that are bad characters:',E)"
   ]
  },
  {
   "cell_type": "code",
   "execution_count": 87,
   "id": "b2f7da74",
   "metadata": {},
   "outputs": [
    {
     "name": "stdout",
     "output_type": "stream",
     "text": [
      "The probability of characters is being bad characters: 0.41035661944308743\n"
     ]
    }
   ],
   "source": [
    "P = E/S \n",
    "print('The probability of characters is being bad characters:',P)"
   ]
  },
  {
   "cell_type": "markdown",
   "id": "b6542e1f",
   "metadata": {},
   "source": [
    "### Question 2 - Joint Probability"
   ]
  },
  {
   "cell_type": "markdown",
   "id": "6fa8336a",
   "metadata": {},
   "source": [
    "Calculate the probability of a character being female with red hair."
   ]
  },
  {
   "cell_type": "code",
   "execution_count": 88,
   "id": "c00d4139",
   "metadata": {},
   "outputs": [
    {
     "name": "stdout",
     "output_type": "stream",
     "text": [
      "Total no. of characters: 16376\n"
     ]
    }
   ],
   "source": [
    "S = df.shape[0]\n",
    "print('Total no. of characters:', S)"
   ]
  },
  {
   "cell_type": "code",
   "execution_count": 90,
   "id": "1d4ce403",
   "metadata": {},
   "outputs": [
    {
     "data": {
      "text/html": [
       "<div>\n",
       "<style scoped>\n",
       "    .dataframe tbody tr th:only-of-type {\n",
       "        vertical-align: middle;\n",
       "    }\n",
       "\n",
       "    .dataframe tbody tr th {\n",
       "        vertical-align: top;\n",
       "    }\n",
       "\n",
       "    .dataframe thead th {\n",
       "        text-align: right;\n",
       "    }\n",
       "</style>\n",
       "<table border=\"1\" class=\"dataframe\">\n",
       "  <thead>\n",
       "    <tr style=\"text-align: right;\">\n",
       "      <th>HAIR</th>\n",
       "      <th>Auburn Hair</th>\n",
       "      <th>Bald</th>\n",
       "      <th>Black Hair</th>\n",
       "      <th>Blond Hair</th>\n",
       "      <th>Blue Hair</th>\n",
       "      <th>Bronze Hair</th>\n",
       "      <th>Brown Hair</th>\n",
       "      <th>Dyed Hair</th>\n",
       "      <th>Gold Hair</th>\n",
       "      <th>Green Hair</th>\n",
       "      <th>...</th>\n",
       "      <th>Pink Hair</th>\n",
       "      <th>Purple Hair</th>\n",
       "      <th>Red Hair</th>\n",
       "      <th>Reddish Blond Hair</th>\n",
       "      <th>Silver Hair</th>\n",
       "      <th>Strawberry Blond Hair</th>\n",
       "      <th>Variable Hair</th>\n",
       "      <th>White Hair</th>\n",
       "      <th>Yellow Hair</th>\n",
       "      <th>All</th>\n",
       "    </tr>\n",
       "    <tr>\n",
       "      <th>SEX</th>\n",
       "      <th></th>\n",
       "      <th></th>\n",
       "      <th></th>\n",
       "      <th></th>\n",
       "      <th></th>\n",
       "      <th></th>\n",
       "      <th></th>\n",
       "      <th></th>\n",
       "      <th></th>\n",
       "      <th></th>\n",
       "      <th></th>\n",
       "      <th></th>\n",
       "      <th></th>\n",
       "      <th></th>\n",
       "      <th></th>\n",
       "      <th></th>\n",
       "      <th></th>\n",
       "      <th></th>\n",
       "      <th></th>\n",
       "      <th></th>\n",
       "      <th></th>\n",
       "    </tr>\n",
       "  </thead>\n",
       "  <tbody>\n",
       "    <tr>\n",
       "      <th>Agender Characters</th>\n",
       "      <td>0</td>\n",
       "      <td>6</td>\n",
       "      <td>0</td>\n",
       "      <td>0</td>\n",
       "      <td>0</td>\n",
       "      <td>0</td>\n",
       "      <td>0</td>\n",
       "      <td>0</td>\n",
       "      <td>0</td>\n",
       "      <td>1</td>\n",
       "      <td>...</td>\n",
       "      <td>0</td>\n",
       "      <td>0</td>\n",
       "      <td>0</td>\n",
       "      <td>0</td>\n",
       "      <td>0</td>\n",
       "      <td>0</td>\n",
       "      <td>2</td>\n",
       "      <td>0</td>\n",
       "      <td>0</td>\n",
       "      <td>38</td>\n",
       "    </tr>\n",
       "    <tr>\n",
       "      <th>Female Characters</th>\n",
       "      <td>50</td>\n",
       "      <td>43</td>\n",
       "      <td>1048</td>\n",
       "      <td>730</td>\n",
       "      <td>26</td>\n",
       "      <td>0</td>\n",
       "      <td>521</td>\n",
       "      <td>1</td>\n",
       "      <td>1</td>\n",
       "      <td>48</td>\n",
       "      <td>...</td>\n",
       "      <td>22</td>\n",
       "      <td>26</td>\n",
       "      <td>311</td>\n",
       "      <td>0</td>\n",
       "      <td>8</td>\n",
       "      <td>30</td>\n",
       "      <td>5</td>\n",
       "      <td>130</td>\n",
       "      <td>4</td>\n",
       "      <td>3184</td>\n",
       "    </tr>\n",
       "    <tr>\n",
       "      <th>Genderfluid Characters</th>\n",
       "      <td>0</td>\n",
       "      <td>0</td>\n",
       "      <td>1</td>\n",
       "      <td>0</td>\n",
       "      <td>0</td>\n",
       "      <td>0</td>\n",
       "      <td>1</td>\n",
       "      <td>0</td>\n",
       "      <td>0</td>\n",
       "      <td>0</td>\n",
       "      <td>...</td>\n",
       "      <td>0</td>\n",
       "      <td>0</td>\n",
       "      <td>0</td>\n",
       "      <td>0</td>\n",
       "      <td>0</td>\n",
       "      <td>0</td>\n",
       "      <td>0</td>\n",
       "      <td>0</td>\n",
       "      <td>0</td>\n",
       "      <td>2</td>\n",
       "    </tr>\n",
       "    <tr>\n",
       "      <th>Male Characters</th>\n",
       "      <td>28</td>\n",
       "      <td>778</td>\n",
       "      <td>2678</td>\n",
       "      <td>844</td>\n",
       "      <td>29</td>\n",
       "      <td>1</td>\n",
       "      <td>1801</td>\n",
       "      <td>0</td>\n",
       "      <td>7</td>\n",
       "      <td>66</td>\n",
       "      <td>...</td>\n",
       "      <td>9</td>\n",
       "      <td>19</td>\n",
       "      <td>305</td>\n",
       "      <td>6</td>\n",
       "      <td>8</td>\n",
       "      <td>17</td>\n",
       "      <td>22</td>\n",
       "      <td>608</td>\n",
       "      <td>16</td>\n",
       "      <td>8580</td>\n",
       "    </tr>\n",
       "    <tr>\n",
       "      <th>All</th>\n",
       "      <td>78</td>\n",
       "      <td>827</td>\n",
       "      <td>3727</td>\n",
       "      <td>1574</td>\n",
       "      <td>55</td>\n",
       "      <td>1</td>\n",
       "      <td>2323</td>\n",
       "      <td>1</td>\n",
       "      <td>8</td>\n",
       "      <td>115</td>\n",
       "      <td>...</td>\n",
       "      <td>31</td>\n",
       "      <td>45</td>\n",
       "      <td>616</td>\n",
       "      <td>6</td>\n",
       "      <td>16</td>\n",
       "      <td>47</td>\n",
       "      <td>29</td>\n",
       "      <td>738</td>\n",
       "      <td>20</td>\n",
       "      <td>11804</td>\n",
       "    </tr>\n",
       "  </tbody>\n",
       "</table>\n",
       "<p>5 rows × 26 columns</p>\n",
       "</div>"
      ],
      "text/plain": [
       "HAIR                    Auburn Hair  Bald  Black Hair  Blond Hair  Blue Hair  \\\n",
       "SEX                                                                            \n",
       "Agender Characters                0     6           0           0          0   \n",
       "Female Characters                50    43        1048         730         26   \n",
       "Genderfluid Characters            0     0           1           0          0   \n",
       "Male Characters                  28   778        2678         844         29   \n",
       "All                              78   827        3727        1574         55   \n",
       "\n",
       "HAIR                    Bronze Hair  Brown Hair  Dyed Hair  Gold Hair  \\\n",
       "SEX                                                                     \n",
       "Agender Characters                0           0          0          0   \n",
       "Female Characters                 0         521          1          1   \n",
       "Genderfluid Characters            0           1          0          0   \n",
       "Male Characters                   1        1801          0          7   \n",
       "All                               1        2323          1          8   \n",
       "\n",
       "HAIR                    Green Hair  ...  Pink Hair  Purple Hair  Red Hair  \\\n",
       "SEX                                 ...                                     \n",
       "Agender Characters               1  ...          0            0         0   \n",
       "Female Characters               48  ...         22           26       311   \n",
       "Genderfluid Characters           0  ...          0            0         0   \n",
       "Male Characters                 66  ...          9           19       305   \n",
       "All                            115  ...         31           45       616   \n",
       "\n",
       "HAIR                    Reddish Blond Hair  Silver Hair  \\\n",
       "SEX                                                       \n",
       "Agender Characters                       0            0   \n",
       "Female Characters                        0            8   \n",
       "Genderfluid Characters                   0            0   \n",
       "Male Characters                          6            8   \n",
       "All                                      6           16   \n",
       "\n",
       "HAIR                    Strawberry Blond Hair  Variable Hair  White Hair  \\\n",
       "SEX                                                                        \n",
       "Agender Characters                          0              2           0   \n",
       "Female Characters                          30              5         130   \n",
       "Genderfluid Characters                      0              0           0   \n",
       "Male Characters                            17             22         608   \n",
       "All                                        47             29         738   \n",
       "\n",
       "HAIR                    Yellow Hair    All  \n",
       "SEX                                         \n",
       "Agender Characters                0     38  \n",
       "Female Characters                 4   3184  \n",
       "Genderfluid Characters            0      2  \n",
       "Male Characters                  16   8580  \n",
       "All                              20  11804  \n",
       "\n",
       "[5 rows x 26 columns]"
      ]
     },
     "execution_count": 90,
     "metadata": {},
     "output_type": "execute_result"
    }
   ],
   "source": [
    "pd.crosstab(df.SEX,df.HAIR,margins = True)"
   ]
  },
  {
   "cell_type": "code",
   "execution_count": 131,
   "id": "6b762894",
   "metadata": {},
   "outputs": [
    {
     "name": "stdout",
     "output_type": "stream",
     "text": [
      "prob of being a female and having red hair is: 0.019\n"
     ]
    }
   ],
   "source": [
    "E = 311\n",
    "P = round((E/S),4)\n",
    "print('prob of being a female and having red hair is:', P)"
   ]
  },
  {
   "cell_type": "markdown",
   "id": "018c1788",
   "metadata": {},
   "source": [
    "Calculate probability of character being female  // margin//"
   ]
  },
  {
   "cell_type": "code",
   "execution_count": 138,
   "id": "8af23076",
   "metadata": {},
   "outputs": [],
   "source": [
    "E = 3837\n",
    "PF = E/S"
   ]
  },
  {
   "cell_type": "code",
   "execution_count": 139,
   "id": "118bd1c5",
   "metadata": {},
   "outputs": [
    {
     "data": {
      "text/plain": [
       "0.23430630190522717"
      ]
     },
     "execution_count": 139,
     "metadata": {},
     "output_type": "execute_result"
    }
   ],
   "source": [
    "PF"
   ]
  },
  {
   "cell_type": "code",
   "execution_count": 99,
   "id": "4a50e6f7",
   "metadata": {},
   "outputs": [
    {
     "data": {
      "text/plain": [
       "(3837, 13)"
      ]
     },
     "execution_count": 99,
     "metadata": {},
     "output_type": "execute_result"
    }
   ],
   "source": [
    "df[df.SEX == 'Female Characters'].shape"
   ]
  },
  {
   "cell_type": "markdown",
   "id": "9e790b6a",
   "metadata": {},
   "source": [
    "Calculate count of different hair color"
   ]
  },
  {
   "cell_type": "code",
   "execution_count": 105,
   "id": "5ea64928",
   "metadata": {},
   "outputs": [
    {
     "data": {
      "text/plain": [
       "12112"
      ]
     },
     "execution_count": 105,
     "metadata": {},
     "output_type": "execute_result"
    }
   ],
   "source": [
    "df.HAIR.count()"
   ]
  },
  {
   "cell_type": "code",
   "execution_count": 109,
   "id": "1732eece",
   "metadata": {},
   "outputs": [],
   "source": [
    "hair = df.groupby([df.HAIR]).count()['name']"
   ]
  },
  {
   "cell_type": "code",
   "execution_count": 110,
   "id": "55383587",
   "metadata": {},
   "outputs": [
    {
     "data": {
      "text/plain": [
       "HAIR\n",
       "Auburn Hair                78\n",
       "Bald                      838\n",
       "Black Hair               3755\n",
       "Blond Hair               1582\n",
       "Blue Hair                  56\n",
       "Bronze Hair                 1\n",
       "Brown Hair               2339\n",
       "Dyed Hair                   1\n",
       "Gold Hair                   8\n",
       "Green Hair                117\n",
       "Grey Hair                 531\n",
       "Light Brown Hair            6\n",
       "Magenta Hair                5\n",
       "No Hair                  1176\n",
       "Orange Hair                43\n",
       "Orange-brown Hair           3\n",
       "Pink Hair                  31\n",
       "Purple Hair                47\n",
       "Red Hair                  620\n",
       "Reddish Blond Hair          6\n",
       "Silver Hair                16\n",
       "Strawberry Blond Hair      47\n",
       "Variable Hair              32\n",
       "White Hair                754\n",
       "Yellow Hair                20\n",
       "Name: name, dtype: int64"
      ]
     },
     "execution_count": 110,
     "metadata": {},
     "output_type": "execute_result"
    }
   ],
   "source": [
    "hair"
   ]
  },
  {
   "cell_type": "code",
   "execution_count": 115,
   "id": "708ea7b0",
   "metadata": {},
   "outputs": [],
   "source": [
    "id = df.groupby([df.ID]).count()['SEX']"
   ]
  },
  {
   "cell_type": "code",
   "execution_count": 116,
   "id": "ea92ae50",
   "metadata": {},
   "outputs": [
    {
     "data": {
      "text/plain": [
       "ID\n",
       "Known to Authorities Identity      15\n",
       "No Dual Identity                 1744\n",
       "Public Identity                  4423\n",
       "Secret Identity                  6026\n",
       "Name: SEX, dtype: int64"
      ]
     },
     "execution_count": 116,
     "metadata": {},
     "output_type": "execute_result"
    }
   ],
   "source": [
    "id"
   ]
  },
  {
   "cell_type": "code",
   "execution_count": 117,
   "id": "8d4d21f2",
   "metadata": {},
   "outputs": [],
   "source": [
    "id = df.groupby([df.ID]).count()['name']"
   ]
  },
  {
   "cell_type": "code",
   "execution_count": 118,
   "id": "2aeeb7b9",
   "metadata": {},
   "outputs": [
    {
     "data": {
      "text/plain": [
       "ID\n",
       "Known to Authorities Identity      15\n",
       "No Dual Identity                 1788\n",
       "Public Identity                  4528\n",
       "Secret Identity                  6275\n",
       "Name: name, dtype: int64"
      ]
     },
     "execution_count": 118,
     "metadata": {},
     "output_type": "execute_result"
    }
   ],
   "source": [
    "id"
   ]
  },
  {
   "cell_type": "markdown",
   "id": "881e15b5",
   "metadata": {},
   "source": [
    "Calculate probability of character having a red hair"
   ]
  },
  {
   "cell_type": "code",
   "execution_count": 119,
   "id": "441a82ce",
   "metadata": {},
   "outputs": [
    {
     "name": "stdout",
     "output_type": "stream",
     "text": [
      "Total no. of characters: 16376\n"
     ]
    }
   ],
   "source": [
    "S = df.shape[0]\n",
    "print('Total no. of characters:', S)"
   ]
  },
  {
   "cell_type": "code",
   "execution_count": 123,
   "id": "bb8429df",
   "metadata": {},
   "outputs": [
    {
     "data": {
      "text/plain": [
       "620"
      ]
     },
     "execution_count": 123,
     "metadata": {},
     "output_type": "execute_result"
    }
   ],
   "source": [
    "df[df.HAIR == 'Red Hair'].shape[0]"
   ]
  },
  {
   "cell_type": "code",
   "execution_count": 136,
   "id": "d18b10c3",
   "metadata": {},
   "outputs": [
    {
     "data": {
      "text/plain": [
       "0.03786028334147533"
      ]
     },
     "execution_count": 136,
     "metadata": {},
     "output_type": "execute_result"
    }
   ],
   "source": [
    "E  = 620\n",
    "PH = E/S\n",
    "PH"
   ]
  },
  {
   "cell_type": "markdown",
   "id": "b6a8644e",
   "metadata": {},
   "source": [
    "Calculate probability of character being female and has secret identity i.e., joint probability\n"
   ]
  },
  {
   "cell_type": "code",
   "execution_count": 127,
   "id": "241927cb",
   "metadata": {},
   "outputs": [
    {
     "data": {
      "text/html": [
       "<div>\n",
       "<style scoped>\n",
       "    .dataframe tbody tr th:only-of-type {\n",
       "        vertical-align: middle;\n",
       "    }\n",
       "\n",
       "    .dataframe tbody tr th {\n",
       "        vertical-align: top;\n",
       "    }\n",
       "\n",
       "    .dataframe thead th {\n",
       "        text-align: right;\n",
       "    }\n",
       "</style>\n",
       "<table border=\"1\" class=\"dataframe\">\n",
       "  <thead>\n",
       "    <tr style=\"text-align: right;\">\n",
       "      <th>ID</th>\n",
       "      <th>Known to Authorities Identity</th>\n",
       "      <th>No Dual Identity</th>\n",
       "      <th>Public Identity</th>\n",
       "      <th>Secret Identity</th>\n",
       "      <th>All</th>\n",
       "    </tr>\n",
       "    <tr>\n",
       "      <th>SEX</th>\n",
       "      <th></th>\n",
       "      <th></th>\n",
       "      <th></th>\n",
       "      <th></th>\n",
       "      <th></th>\n",
       "    </tr>\n",
       "  </thead>\n",
       "  <tbody>\n",
       "    <tr>\n",
       "      <th>Agender Characters</th>\n",
       "      <td>1</td>\n",
       "      <td>11</td>\n",
       "      <td>5</td>\n",
       "      <td>14</td>\n",
       "      <td>31</td>\n",
       "    </tr>\n",
       "    <tr>\n",
       "      <th>Female Characters</th>\n",
       "      <td>5</td>\n",
       "      <td>486</td>\n",
       "      <td>1051</td>\n",
       "      <td>1505</td>\n",
       "      <td>3047</td>\n",
       "    </tr>\n",
       "    <tr>\n",
       "      <th>Genderfluid Characters</th>\n",
       "      <td>0</td>\n",
       "      <td>1</td>\n",
       "      <td>0</td>\n",
       "      <td>1</td>\n",
       "      <td>2</td>\n",
       "    </tr>\n",
       "    <tr>\n",
       "      <th>Male Characters</th>\n",
       "      <td>9</td>\n",
       "      <td>1246</td>\n",
       "      <td>3367</td>\n",
       "      <td>4506</td>\n",
       "      <td>9128</td>\n",
       "    </tr>\n",
       "    <tr>\n",
       "      <th>All</th>\n",
       "      <td>15</td>\n",
       "      <td>1744</td>\n",
       "      <td>4423</td>\n",
       "      <td>6026</td>\n",
       "      <td>12208</td>\n",
       "    </tr>\n",
       "  </tbody>\n",
       "</table>\n",
       "</div>"
      ],
      "text/plain": [
       "ID                      Known to Authorities Identity  No Dual Identity  \\\n",
       "SEX                                                                       \n",
       "Agender Characters                                  1                11   \n",
       "Female Characters                                   5               486   \n",
       "Genderfluid Characters                              0                 1   \n",
       "Male Characters                                     9              1246   \n",
       "All                                                15              1744   \n",
       "\n",
       "ID                      Public Identity  Secret Identity    All  \n",
       "SEX                                                              \n",
       "Agender Characters                    5               14     31  \n",
       "Female Characters                  1051             1505   3047  \n",
       "Genderfluid Characters                0                1      2  \n",
       "Male Characters                    3367             4506   9128  \n",
       "All                                4423             6026  12208  "
      ]
     },
     "execution_count": 127,
     "metadata": {},
     "output_type": "execute_result"
    }
   ],
   "source": [
    "pd.crosstab(df.SEX,df.ID,margins = True)"
   ]
  },
  {
   "cell_type": "code",
   "execution_count": 128,
   "id": "5ca070d8",
   "metadata": {},
   "outputs": [
    {
     "data": {
      "text/plain": [
       "0.09190278456277479"
      ]
     },
     "execution_count": 128,
     "metadata": {},
     "output_type": "execute_result"
    }
   ],
   "source": [
    "E = 1505\n",
    "P = E/S\n",
    "P"
   ]
  },
  {
   "cell_type": "markdown",
   "id": "71b23508",
   "metadata": {},
   "source": [
    "Calculate probability of character being female and has secret identity i.e., joint probability"
   ]
  },
  {
   "cell_type": "code",
   "execution_count": 143,
   "id": "c8dd9f43",
   "metadata": {},
   "outputs": [
    {
     "name": "stdout",
     "output_type": "stream",
     "text": [
      "0.008870902978825162\n"
     ]
    }
   ],
   "source": [
    "print(PF*PH)  #from females and red hair//"
   ]
  },
  {
   "cell_type": "markdown",
   "id": "ed08c19b",
   "metadata": {},
   "source": [
    "Calculate joint probability in terms of percentage"
   ]
  },
  {
   "cell_type": "code",
   "execution_count": 141,
   "id": "e53daf5d",
   "metadata": {},
   "outputs": [
    {
     "name": "stdout",
     "output_type": "stream",
     "text": [
      "0.8870902978825161\n"
     ]
    }
   ],
   "source": [
    "print(PF*PH*100)"
   ]
  },
  {
   "cell_type": "markdown",
   "id": "6d849ed0",
   "metadata": {},
   "source": [
    "# Probability Distribution "
   ]
  },
  {
   "cell_type": "code",
   "execution_count": 145,
   "id": "c144eda8",
   "metadata": {},
   "outputs": [],
   "source": [
    "import matplotlib.pyplot as plt\n",
    "import seaborn as sns"
   ]
  },
  {
   "cell_type": "code",
   "execution_count": 153,
   "id": "51be1cd7",
   "metadata": {},
   "outputs": [],
   "source": [
    "coffeshop = [1,1,2,2,2,3,3,3,3,4,4,4,4,4,5,6,6,6,6,7,8,8,8,8,10,9,10]"
   ]
  },
  {
   "cell_type": "code",
   "execution_count": 154,
   "id": "ede770cb",
   "metadata": {},
   "outputs": [
    {
     "data": {
      "text/plain": [
       "(array([2., 3., 4., 5., 1., 4., 1., 4., 1., 2.]),\n",
       " array([ 1. ,  1.9,  2.8,  3.7,  4.6,  5.5,  6.4,  7.3,  8.2,  9.1, 10. ]),\n",
       " <BarContainer object of 10 artists>)"
      ]
     },
     "execution_count": 154,
     "metadata": {},
     "output_type": "execute_result"
    },
    {
     "data": {
      "image/png": "[encoded data removed]",
      "text/plain": [
       "<Figure size 432x288 with 1 Axes>"
      ]
     },
     "metadata": {
      "needs_background": "light"
     },
     "output_type": "display_data"
    }
   ],
   "source": [
    "plt.hist(coffeshop)"
   ]
  },
  {
   "cell_type": "code",
   "execution_count": 156,
   "id": "25a384d3",
   "metadata": {},
   "outputs": [
    {
     "name": "stderr",
     "output_type": "stream",
     "text": [
      "C:\\Users\\Shivani Dussa\\anaconda3\\envs\\Edureka\\lib\\site-packages\\seaborn\\distributions.py:2619: FutureWarning: `distplot` is a deprecated function and will be removed in a future version. Please adapt your code to use either `displot` (a figure-level function with similar flexibility) or `histplot` (an axes-level function for histograms).\n",
      "  warnings.warn(msg, FutureWarning)\n"
     ]
    },
    {
     "data": {
      "text/plain": [
       "<AxesSubplot:ylabel='Density'>"
      ]
     },
     "execution_count": 156,
     "metadata": {},
     "output_type": "execute_result"
    },
    {
     "data": {
      "image/png": "[encoded data removed]",
      "text/plain": [
       "<Figure size 432x288 with 1 Axes>"
      ]
     },
     "metadata": {
      "needs_background": "light"
     },
     "output_type": "display_data"
    }
   ],
   "source": [
    "sns.distplot(coffeshop)"
   ]
  },
  {
   "cell_type": "markdown",
   "id": "5237136b",
   "metadata": {},
   "source": [
    "Q1. Men heights have a mean of 63.6 inches and a standard deviation of 2.5 inches.\n",
    "Find the z-score corresponding to a man with a height of 78 inches."
   ]
  },
  {
   "cell_type": "code",
   "execution_count": 1,
   "id": "09183b4f",
   "metadata": {},
   "outputs": [],
   "source": [
    "mean = 63.6\n",
    "std_dev = 2.5\n",
    "X = 78\n",
    "#find Z"
   ]
  },
  {
   "cell_type": "code",
   "execution_count": 2,
   "id": "8f8db512",
   "metadata": {},
   "outputs": [],
   "source": [
    "Z = X - mean/(std_dev)"
   ]
  },
  {
   "cell_type": "code",
   "execution_count": 3,
   "id": "f420e480",
   "metadata": {},
   "outputs": [],
   "source": [
    "Z = 78 - 63.6"
   ]
  },
  {
   "cell_type": "code",
   "execution_count": 5,
   "id": "70edcb6b",
   "metadata": {},
   "outputs": [
    {
     "data": {
      "text/plain": [
       "5.76"
      ]
     },
     "execution_count": 5,
     "metadata": {},
     "output_type": "execute_result"
    }
   ],
   "source": [
    "Z/2.5"
   ]
  },
  {
   "cell_type": "markdown",
   "id": "b4b0709e",
   "metadata": {},
   "source": [
    "Q2. The local electricity authority conducted a study on electrical bills. It was found that average bill amount was 527 with a standard deviation of 112. What is the probability that a citizen’s bill will be more than 500?"
   ]
  },
  {
   "cell_type": "code",
   "execution_count": 6,
   "id": "7ccc9d65",
   "metadata": {},
   "outputs": [],
   "source": [
    "mean = 527\n",
    "std_deviation = 112\n",
    "x = 500 # more than 500 its asking "
   ]
  },
  {
   "cell_type": "code",
   "execution_count": 7,
   "id": "4fd93b27",
   "metadata": {},
   "outputs": [],
   "source": [
    "Z = x - mean / std_deviation"
   ]
  },
  {
   "cell_type": "code",
   "execution_count": 11,
   "id": "e8a8d5ad",
   "metadata": {},
   "outputs": [
    {
     "data": {
      "text/plain": [
       "-27"
      ]
     },
     "execution_count": 11,
     "metadata": {},
     "output_type": "execute_result"
    }
   ],
   "source": [
    "500 - 527"
   ]
  },
  {
   "cell_type": "code",
   "execution_count": 13,
   "id": "9fa1ccf5",
   "metadata": {},
   "outputs": [
    {
     "data": {
      "text/plain": [
       "-0.241"
      ]
     },
     "execution_count": 13,
     "metadata": {},
     "output_type": "execute_result"
    }
   ],
   "source": [
    "round((-27/112),3)"
   ]
  },
  {
   "cell_type": "markdown",
   "id": "abf89dc6",
   "metadata": {},
   "source": [
    "For next step, we can use the Z-score table from here: https://www.dummies.com/education/math/statistics/how-to-use-the-z-table/"
   ]
  },
  {
   "cell_type": "code",
   "execution_count": 18,
   "id": "de3f7b9d",
   "metadata": {},
   "outputs": [
    {
     "name": "stdout",
     "output_type": "stream",
     "text": [
      "the probability that customers bill is more than 500 is: 0.5948\n"
     ]
    }
   ],
   "source": [
    " print('the probability that customers bill is more than 500 is:', 1-0.4052 )"
   ]
  },
  {
   "cell_type": "markdown",
   "id": "2f3ef14b",
   "metadata": {},
   "source": [
    "Q3. The average IQ of a human being is 100 and standard deviation of 16. A certain individual has an IQ of 160.\n",
    "\n",
    "1.What is the difference between Individual’s IQ and the mean?\n",
    "\n",
    "2.How many standard deviations is that?\n",
    "\n",
    "3.Convert Individual’s IQ score to a z score.\n",
    "\n",
    "4.If we consider, usual IQ scores to be those that z-scores between -2 and 2, then is the Individual’s IQ usual or unusual?"
   ]
  },
  {
   "cell_type": "code",
   "execution_count": 2,
   "id": "9179dadf",
   "metadata": {},
   "outputs": [
    {
     "name": "stdout",
     "output_type": "stream",
     "text": [
      "diff btwn indvl iq and mean is: 60\n"
     ]
    }
   ],
   "source": [
    "# 1.\n",
    "mean = 100\n",
    "std_dev = 16\n",
    "individual_IQ = 160\n",
    "print('diff btwn indvl iq and mean is:', individual_IQ - mean)"
   ]
  },
  {
   "cell_type": "code",
   "execution_count": 7,
   "id": "e899cd58",
   "metadata": {},
   "outputs": [
    {
     "name": "stdout",
     "output_type": "stream",
     "text": [
      "3.75 number of std_dev away is:\n"
     ]
    }
   ],
   "source": [
    "#2.\n",
    "_2 = print('{} number of std_dev away is:'.format(60/16))"
   ]
  },
  {
   "cell_type": "code",
   "execution_count": 8,
   "id": "66ef8da2",
   "metadata": {},
   "outputs": [],
   "source": [
    "#3."
   ]
  },
  {
   "cell_type": "code",
   "execution_count": 9,
   "id": "804dc4b1",
   "metadata": {},
   "outputs": [],
   "source": [
    "Z = (160 - 100)/16"
   ]
  },
  {
   "cell_type": "code",
   "execution_count": 10,
   "id": "e69a7088",
   "metadata": {},
   "outputs": [
    {
     "data": {
      "text/plain": [
       "3.75"
      ]
     },
     "execution_count": 10,
     "metadata": {},
     "output_type": "execute_result"
    }
   ],
   "source": [
    "Z  # z score"
   ]
  },
  {
   "cell_type": "markdown",
   "id": "c61b1a67",
   "metadata": {},
   "source": [
    "#4.\n",
    "since Z-score is more than the range given, we can consider it as Unusual."
   ]
  }
 ],
 "metadata": {
  "kernelspec": {
   "display_name": "Python 3 (ipykernel)",
   "language": "python",
   "name": "python3"
  },
  "language_info": {
   "codemirror_mode": {
    "name": "ipython",
    "version": 3
   },
   "file_extension": ".py",
   "mimetype": "text/x-python",
   "name": "python",
   "nbconvert_exporter": "python",
   "pygments_lexer": "ipython3",
   "version": "3.8.12"
  }
 },
 "nbformat": 4,
 "nbformat_minor": 5
}
